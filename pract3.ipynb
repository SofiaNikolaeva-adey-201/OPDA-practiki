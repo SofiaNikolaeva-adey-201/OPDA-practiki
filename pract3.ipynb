{
  "nbformat": 4,
  "nbformat_minor": 0,
  "metadata": {
    "colab": {
      "name": "pract3.ipynb",
      "provenance": [],
      "collapsed_sections": [],
      "authorship_tag": "ABX9TyPzhbspLzSM2jg3E1kpJGFq",
      "include_colab_link": true
    },
    "kernelspec": {
      "name": "python3",
      "display_name": "Python 3"
    }
  },
  "cells": [
    {
      "cell_type": "markdown",
      "metadata": {
        "id": "view-in-github",
        "colab_type": "text"
      },
      "source": [
        "<a href=\"https://colab.research.google.com/github/SofiaNikolaeva-adey-201/OPDA-practiki/blob/05.03/pract3.ipynb\" target=\"_parent\"><img src=\"https://colab.research.google.com/assets/colab-badge.svg\" alt=\"Open In Colab\"/></a>"
      ]
    },
    {
      "cell_type": "code",
      "metadata": {
        "colab": {
          "base_uri": "https://localhost:8080/",
          "height": 17
        },
        "id": "lDXfzknx04m7",
        "outputId": "9a139fce-3937-4efc-de9b-404cd925aee7"
      },
      "source": [
        "import numpy as np\r\n",
        "import matplotlib.pyplot as plt\r\n",
        "import pandas as pd\r\n",
        "\r\n",
        "df = pd.DataFrame({\r\n",
        "    'Страна': ['США', 'Китай', 'Россия', 'Турция', 'ЮАР'],\r\n",
        "    '2018 год': [20612, 13842, 1665, 780, 368],\r\n",
        "    '2019 год': [21433, 14402, 1702, 761, 351],\r\n",
        "    }, index = ['US', 'CN', 'RU', 'TR', 'ZA'])\r\n",
        "\r\n",
        "df.to_excel(\"country.xlsx\",encoding = 'cp1251')\r\n",
        "from google.colab import files\r\n",
        "files.download('country.xlsx')\r\n"
      ],
      "execution_count": 47,
      "outputs": [
        {
          "output_type": "display_data",
          "data": {
            "application/javascript": [
              "\n",
              "    async function download(id, filename, size) {\n",
              "      if (!google.colab.kernel.accessAllowed) {\n",
              "        return;\n",
              "      }\n",
              "      const div = document.createElement('div');\n",
              "      const label = document.createElement('label');\n",
              "      label.textContent = `Downloading \"${filename}\": `;\n",
              "      div.appendChild(label);\n",
              "      const progress = document.createElement('progress');\n",
              "      progress.max = size;\n",
              "      div.appendChild(progress);\n",
              "      document.body.appendChild(div);\n",
              "\n",
              "      const buffers = [];\n",
              "      let downloaded = 0;\n",
              "\n",
              "      const channel = await google.colab.kernel.comms.open(id);\n",
              "      // Send a message to notify the kernel that we're ready.\n",
              "      channel.send({})\n",
              "\n",
              "      for await (const message of channel.messages) {\n",
              "        // Send a message to notify the kernel that we're ready.\n",
              "        channel.send({})\n",
              "        if (message.buffers) {\n",
              "          for (const buffer of message.buffers) {\n",
              "            buffers.push(buffer);\n",
              "            downloaded += buffer.byteLength;\n",
              "            progress.value = downloaded;\n",
              "          }\n",
              "        }\n",
              "      }\n",
              "      const blob = new Blob(buffers, {type: 'application/binary'});\n",
              "      const a = document.createElement('a');\n",
              "      a.href = window.URL.createObjectURL(blob);\n",
              "      a.download = filename;\n",
              "      div.appendChild(a);\n",
              "      a.click();\n",
              "      div.remove();\n",
              "    }\n",
              "  "
            ],
            "text/plain": [
              "<IPython.core.display.Javascript object>"
            ]
          },
          "metadata": {
            "tags": []
          }
        },
        {
          "output_type": "display_data",
          "data": {
            "application/javascript": [
              "download(\"download_0860c527-6c43-4ff8-b5bf-3826b038ec49\", \"country.xlsx\", 5199)"
            ],
            "text/plain": [
              "<IPython.core.display.Javascript object>"
            ]
          },
          "metadata": {
            "tags": []
          }
        }
      ]
    },
    {
      "cell_type": "code",
      "metadata": {
        "colab": {
          "base_uri": "https://localhost:8080/"
        },
        "id": "Mcj16Vk1C3We",
        "outputId": "207b1bdf-c869-4ac4-b6a6-996904b6574b"
      },
      "source": [
        "df[\"Страна\"]"
      ],
      "execution_count": 4,
      "outputs": [
        {
          "output_type": "execute_result",
          "data": {
            "text/plain": [
              "US       США\n",
              "CN     Китай\n",
              "RU    Россия\n",
              "TR    Турция\n",
              "ZA       ЮАР\n",
              "Name: Страна, dtype: object"
            ]
          },
          "metadata": {
            "tags": []
          },
          "execution_count": 4
        }
      ]
    },
    {
      "cell_type": "code",
      "metadata": {
        "colab": {
          "base_uri": "https://localhost:8080/"
        },
        "id": "H-418RroDJxG",
        "outputId": "12052b66-50fa-49fc-efa1-30c5cb5b3e20"
      },
      "source": [
        "df.loc[\"RU\"]"
      ],
      "execution_count": 5,
      "outputs": [
        {
          "output_type": "execute_result",
          "data": {
            "text/plain": [
              "Страна      Россия\n",
              "2018 год      1665\n",
              "2019 год      1702\n",
              "Name: RU, dtype: object"
            ]
          },
          "metadata": {
            "tags": []
          },
          "execution_count": 5
        }
      ]
    },
    {
      "cell_type": "code",
      "metadata": {
        "colab": {
          "base_uri": "https://localhost:8080/"
        },
        "id": "X2UVsgbmDc4K",
        "outputId": "0776c74d-0127-48fa-ecd0-8f44dc4c09bc"
      },
      "source": [
        "df.iloc[0]"
      ],
      "execution_count": 6,
      "outputs": [
        {
          "output_type": "execute_result",
          "data": {
            "text/plain": [
              "Страна        США\n",
              "2018 год    20612\n",
              "2019 год    21433\n",
              "Name: US, dtype: object"
            ]
          },
          "metadata": {
            "tags": []
          },
          "execution_count": 6
        }
      ]
    },
    {
      "cell_type": "code",
      "metadata": {
        "colab": {
          "base_uri": "https://localhost:8080/",
          "height": 136
        },
        "id": "Oi8ddtvdDoPd",
        "outputId": "7b95d2ae-4e27-4ea1-e1f5-34353b16caf2"
      },
      "source": [
        "df[2:]"
      ],
      "execution_count": 7,
      "outputs": [
        {
          "output_type": "execute_result",
          "data": {
            "text/html": [
              "<div>\n",
              "<style scoped>\n",
              "    .dataframe tbody tr th:only-of-type {\n",
              "        vertical-align: middle;\n",
              "    }\n",
              "\n",
              "    .dataframe tbody tr th {\n",
              "        vertical-align: top;\n",
              "    }\n",
              "\n",
              "    .dataframe thead th {\n",
              "        text-align: right;\n",
              "    }\n",
              "</style>\n",
              "<table border=\"1\" class=\"dataframe\">\n",
              "  <thead>\n",
              "    <tr style=\"text-align: right;\">\n",
              "      <th></th>\n",
              "      <th>Страна</th>\n",
              "      <th>2018 год</th>\n",
              "      <th>2019 год</th>\n",
              "    </tr>\n",
              "  </thead>\n",
              "  <tbody>\n",
              "    <tr>\n",
              "      <th>RU</th>\n",
              "      <td>Россия</td>\n",
              "      <td>1665</td>\n",
              "      <td>1702</td>\n",
              "    </tr>\n",
              "    <tr>\n",
              "      <th>TR</th>\n",
              "      <td>Турция</td>\n",
              "      <td>780</td>\n",
              "      <td>761</td>\n",
              "    </tr>\n",
              "    <tr>\n",
              "      <th>ZA</th>\n",
              "      <td>ЮАР</td>\n",
              "      <td>368</td>\n",
              "      <td>351</td>\n",
              "    </tr>\n",
              "  </tbody>\n",
              "</table>\n",
              "</div>"
            ],
            "text/plain": [
              "    Страна  2018 год  2019 год\n",
              "RU  Россия      1665      1702\n",
              "TR  Турция       780       761\n",
              "ZA     ЮАР       368       351"
            ]
          },
          "metadata": {
            "tags": []
          },
          "execution_count": 7
        }
      ]
    },
    {
      "cell_type": "code",
      "metadata": {
        "colab": {
          "base_uri": "https://localhost:8080/"
        },
        "id": "iPlBrbayDraL",
        "outputId": "b2f98e62-021c-45fd-bd39-d5c1a17bea41"
      },
      "source": [
        "df[df['2019 год'] > 762]['Страна']"
      ],
      "execution_count": 8,
      "outputs": [
        {
          "output_type": "execute_result",
          "data": {
            "text/plain": [
              "US       США\n",
              "CN     Китай\n",
              "RU    Россия\n",
              "Name: Страна, dtype: object"
            ]
          },
          "metadata": {
            "tags": []
          },
          "execution_count": 8
        }
      ]
    },
    {
      "cell_type": "code",
      "metadata": {
        "colab": {
          "base_uri": "https://localhost:8080/",
          "height": 195
        },
        "id": "t7is2ywlEAwz",
        "outputId": "eab32e53-00b8-4ab8-d4b3-8ae88ae08cc7"
      },
      "source": [
        "df.rename(columns = {'2018 год': '2018', '2019 год': '2019'})"
      ],
      "execution_count": 9,
      "outputs": [
        {
          "output_type": "execute_result",
          "data": {
            "text/html": [
              "<div>\n",
              "<style scoped>\n",
              "    .dataframe tbody tr th:only-of-type {\n",
              "        vertical-align: middle;\n",
              "    }\n",
              "\n",
              "    .dataframe tbody tr th {\n",
              "        vertical-align: top;\n",
              "    }\n",
              "\n",
              "    .dataframe thead th {\n",
              "        text-align: right;\n",
              "    }\n",
              "</style>\n",
              "<table border=\"1\" class=\"dataframe\">\n",
              "  <thead>\n",
              "    <tr style=\"text-align: right;\">\n",
              "      <th></th>\n",
              "      <th>Страна</th>\n",
              "      <th>2018</th>\n",
              "      <th>2019</th>\n",
              "    </tr>\n",
              "  </thead>\n",
              "  <tbody>\n",
              "    <tr>\n",
              "      <th>US</th>\n",
              "      <td>США</td>\n",
              "      <td>20612</td>\n",
              "      <td>21433</td>\n",
              "    </tr>\n",
              "    <tr>\n",
              "      <th>CN</th>\n",
              "      <td>Китай</td>\n",
              "      <td>13842</td>\n",
              "      <td>14402</td>\n",
              "    </tr>\n",
              "    <tr>\n",
              "      <th>RU</th>\n",
              "      <td>Россия</td>\n",
              "      <td>1665</td>\n",
              "      <td>1702</td>\n",
              "    </tr>\n",
              "    <tr>\n",
              "      <th>TR</th>\n",
              "      <td>Турция</td>\n",
              "      <td>780</td>\n",
              "      <td>761</td>\n",
              "    </tr>\n",
              "    <tr>\n",
              "      <th>ZA</th>\n",
              "      <td>ЮАР</td>\n",
              "      <td>368</td>\n",
              "      <td>351</td>\n",
              "    </tr>\n",
              "  </tbody>\n",
              "</table>\n",
              "</div>"
            ],
            "text/plain": [
              "    Страна   2018   2019\n",
              "US     США  20612  21433\n",
              "CN   Китай  13842  14402\n",
              "RU  Россия   1665   1702\n",
              "TR  Турция    780    761\n",
              "ZA     ЮАР    368    351"
            ]
          },
          "metadata": {
            "tags": []
          },
          "execution_count": 9
        }
      ]
    },
    {
      "cell_type": "code",
      "metadata": {
        "id": "r23vehHHFPqn"
      },
      "source": [
        "dfr = df.rename(columns = {'2018 год': '2018', '2019 год': '2019'})"
      ],
      "execution_count": 11,
      "outputs": []
    },
    {
      "cell_type": "code",
      "metadata": {
        "colab": {
          "base_uri": "https://localhost:8080/",
          "height": 195
        },
        "id": "4WoO14KIEfcY",
        "outputId": "9c1ab18b-711f-4fef-9e12-b67baab1577a"
      },
      "source": [
        "dfr['Рост'] = dfr['2019'] - dfr['2018']\r\n",
        "dfr"
      ],
      "execution_count": 12,
      "outputs": [
        {
          "output_type": "execute_result",
          "data": {
            "text/html": [
              "<div>\n",
              "<style scoped>\n",
              "    .dataframe tbody tr th:only-of-type {\n",
              "        vertical-align: middle;\n",
              "    }\n",
              "\n",
              "    .dataframe tbody tr th {\n",
              "        vertical-align: top;\n",
              "    }\n",
              "\n",
              "    .dataframe thead th {\n",
              "        text-align: right;\n",
              "    }\n",
              "</style>\n",
              "<table border=\"1\" class=\"dataframe\">\n",
              "  <thead>\n",
              "    <tr style=\"text-align: right;\">\n",
              "      <th></th>\n",
              "      <th>Страна</th>\n",
              "      <th>2018</th>\n",
              "      <th>2019</th>\n",
              "      <th>Рост</th>\n",
              "    </tr>\n",
              "  </thead>\n",
              "  <tbody>\n",
              "    <tr>\n",
              "      <th>US</th>\n",
              "      <td>США</td>\n",
              "      <td>20612</td>\n",
              "      <td>21433</td>\n",
              "      <td>821</td>\n",
              "    </tr>\n",
              "    <tr>\n",
              "      <th>CN</th>\n",
              "      <td>Китай</td>\n",
              "      <td>13842</td>\n",
              "      <td>14402</td>\n",
              "      <td>560</td>\n",
              "    </tr>\n",
              "    <tr>\n",
              "      <th>RU</th>\n",
              "      <td>Россия</td>\n",
              "      <td>1665</td>\n",
              "      <td>1702</td>\n",
              "      <td>37</td>\n",
              "    </tr>\n",
              "    <tr>\n",
              "      <th>TR</th>\n",
              "      <td>Турция</td>\n",
              "      <td>780</td>\n",
              "      <td>761</td>\n",
              "      <td>-19</td>\n",
              "    </tr>\n",
              "    <tr>\n",
              "      <th>ZA</th>\n",
              "      <td>ЮАР</td>\n",
              "      <td>368</td>\n",
              "      <td>351</td>\n",
              "      <td>-17</td>\n",
              "    </tr>\n",
              "  </tbody>\n",
              "</table>\n",
              "</div>"
            ],
            "text/plain": [
              "    Страна   2018   2019  Рост\n",
              "US     США  20612  21433   821\n",
              "CN   Китай  13842  14402   560\n",
              "RU  Россия   1665   1702    37\n",
              "TR  Турция    780    761   -19\n",
              "ZA     ЮАР    368    351   -17"
            ]
          },
          "metadata": {
            "tags": []
          },
          "execution_count": 12
        }
      ]
    },
    {
      "cell_type": "code",
      "metadata": {
        "colab": {
          "base_uri": "https://localhost:8080/",
          "height": 195
        },
        "id": "2NckuxS_Fhcg",
        "outputId": "4e103595-1d44-48a8-f51c-a84ec60257a5"
      },
      "source": [
        "dfr.drop(['Рост'], axis = \"columns\")"
      ],
      "execution_count": 13,
      "outputs": [
        {
          "output_type": "execute_result",
          "data": {
            "text/html": [
              "<div>\n",
              "<style scoped>\n",
              "    .dataframe tbody tr th:only-of-type {\n",
              "        vertical-align: middle;\n",
              "    }\n",
              "\n",
              "    .dataframe tbody tr th {\n",
              "        vertical-align: top;\n",
              "    }\n",
              "\n",
              "    .dataframe thead th {\n",
              "        text-align: right;\n",
              "    }\n",
              "</style>\n",
              "<table border=\"1\" class=\"dataframe\">\n",
              "  <thead>\n",
              "    <tr style=\"text-align: right;\">\n",
              "      <th></th>\n",
              "      <th>Страна</th>\n",
              "      <th>2018</th>\n",
              "      <th>2019</th>\n",
              "    </tr>\n",
              "  </thead>\n",
              "  <tbody>\n",
              "    <tr>\n",
              "      <th>US</th>\n",
              "      <td>США</td>\n",
              "      <td>20612</td>\n",
              "      <td>21433</td>\n",
              "    </tr>\n",
              "    <tr>\n",
              "      <th>CN</th>\n",
              "      <td>Китай</td>\n",
              "      <td>13842</td>\n",
              "      <td>14402</td>\n",
              "    </tr>\n",
              "    <tr>\n",
              "      <th>RU</th>\n",
              "      <td>Россия</td>\n",
              "      <td>1665</td>\n",
              "      <td>1702</td>\n",
              "    </tr>\n",
              "    <tr>\n",
              "      <th>TR</th>\n",
              "      <td>Турция</td>\n",
              "      <td>780</td>\n",
              "      <td>761</td>\n",
              "    </tr>\n",
              "    <tr>\n",
              "      <th>ZA</th>\n",
              "      <td>ЮАР</td>\n",
              "      <td>368</td>\n",
              "      <td>351</td>\n",
              "    </tr>\n",
              "  </tbody>\n",
              "</table>\n",
              "</div>"
            ],
            "text/plain": [
              "    Страна   2018   2019\n",
              "US     США  20612  21433\n",
              "CN   Китай  13842  14402\n",
              "RU  Россия   1665   1702\n",
              "TR  Турция    780    761\n",
              "ZA     ЮАР    368    351"
            ]
          },
          "metadata": {
            "tags": []
          },
          "execution_count": 13
        }
      ]
    },
    {
      "cell_type": "code",
      "metadata": {
        "colab": {
          "base_uri": "https://localhost:8080/",
          "height": 195
        },
        "id": "kC2MoytuGA6S",
        "outputId": "c615e951-5771-4296-8720-08a886d73fe7"
      },
      "source": [
        "dfr2 = dfr.drop([\"Рост\"], axis = \"columns\")\r\n",
        "dfr2"
      ],
      "execution_count": 15,
      "outputs": [
        {
          "output_type": "execute_result",
          "data": {
            "text/html": [
              "<div>\n",
              "<style scoped>\n",
              "    .dataframe tbody tr th:only-of-type {\n",
              "        vertical-align: middle;\n",
              "    }\n",
              "\n",
              "    .dataframe tbody tr th {\n",
              "        vertical-align: top;\n",
              "    }\n",
              "\n",
              "    .dataframe thead th {\n",
              "        text-align: right;\n",
              "    }\n",
              "</style>\n",
              "<table border=\"1\" class=\"dataframe\">\n",
              "  <thead>\n",
              "    <tr style=\"text-align: right;\">\n",
              "      <th></th>\n",
              "      <th>Страна</th>\n",
              "      <th>2018</th>\n",
              "      <th>2019</th>\n",
              "    </tr>\n",
              "  </thead>\n",
              "  <tbody>\n",
              "    <tr>\n",
              "      <th>US</th>\n",
              "      <td>США</td>\n",
              "      <td>20612</td>\n",
              "      <td>21433</td>\n",
              "    </tr>\n",
              "    <tr>\n",
              "      <th>CN</th>\n",
              "      <td>Китай</td>\n",
              "      <td>13842</td>\n",
              "      <td>14402</td>\n",
              "    </tr>\n",
              "    <tr>\n",
              "      <th>RU</th>\n",
              "      <td>Россия</td>\n",
              "      <td>1665</td>\n",
              "      <td>1702</td>\n",
              "    </tr>\n",
              "    <tr>\n",
              "      <th>TR</th>\n",
              "      <td>Турция</td>\n",
              "      <td>780</td>\n",
              "      <td>761</td>\n",
              "    </tr>\n",
              "    <tr>\n",
              "      <th>ZA</th>\n",
              "      <td>ЮАР</td>\n",
              "      <td>368</td>\n",
              "      <td>351</td>\n",
              "    </tr>\n",
              "  </tbody>\n",
              "</table>\n",
              "</div>"
            ],
            "text/plain": [
              "    Страна   2018   2019\n",
              "US     США  20612  21433\n",
              "CN   Китай  13842  14402\n",
              "RU  Россия   1665   1702\n",
              "TR  Турция    780    761\n",
              "ZA     ЮАР    368    351"
            ]
          },
          "metadata": {
            "tags": []
          },
          "execution_count": 15
        }
      ]
    },
    {
      "cell_type": "code",
      "metadata": {
        "colab": {
          "resources": {
            "http://localhost:8080/nbextensions/google.colab/files.js": {
              "data": "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",
              "ok": true,
              "headers": [
                [
                  "content-type",
                  "application/javascript"
                ]
              ],
              "status": 200,
              "status_text": ""
            }
          },
          "base_uri": "https://localhost:8080/",
          "height": 73
        },
        "id": "jeMwtPVaGjMY",
        "outputId": "b92b1cc4-68d7-4b8f-cbc8-bfb019fbaf2f"
      },
      "source": [
        "from google.colab import files\r\n",
        "uploaded = files.upload()\r\n"
      ],
      "execution_count": 48,
      "outputs": [
        {
          "output_type": "display_data",
          "data": {
            "text/html": [
              "\n",
              "     <input type=\"file\" id=\"files-2d7c0540-48cb-4bb6-af64-ad1f2bd16bca\" name=\"files[]\" multiple disabled\n",
              "        style=\"border:none\" />\n",
              "     <output id=\"result-2d7c0540-48cb-4bb6-af64-ad1f2bd16bca\">\n",
              "      Upload widget is only available when the cell has been executed in the\n",
              "      current browser session. Please rerun this cell to enable.\n",
              "      </output>\n",
              "      <script src=\"/nbextensions/google.colab/files.js\"></script> "
            ],
            "text/plain": [
              "<IPython.core.display.HTML object>"
            ]
          },
          "metadata": {
            "tags": []
          }
        },
        {
          "output_type": "stream",
          "text": [
            "Saving Data1.csv to Data1 (1).csv\n"
          ],
          "name": "stdout"
        }
      ]
    },
    {
      "cell_type": "code",
      "metadata": {
        "colab": {
          "base_uri": "https://localhost:8080/",
          "height": 892
        },
        "id": "ufCWk-eYJdBv",
        "outputId": "aaa4ce72-37b5-4bf8-f677-6c55422b172a"
      },
      "source": [
        "data_csv = pd.read_csv(\"Data1.csv\", sep = ';')\r\n",
        "data_csv"
      ],
      "execution_count": 53,
      "outputs": [
        {
          "output_type": "execute_result",
          "data": {
            "text/html": [
              "<div>\n",
              "<style scoped>\n",
              "    .dataframe tbody tr th:only-of-type {\n",
              "        vertical-align: middle;\n",
              "    }\n",
              "\n",
              "    .dataframe tbody tr th {\n",
              "        vertical-align: top;\n",
              "    }\n",
              "\n",
              "    .dataframe thead th {\n",
              "        text-align: right;\n",
              "    }\n",
              "</style>\n",
              "<table border=\"1\" class=\"dataframe\">\n",
              "  <thead>\n",
              "    <tr style=\"text-align: right;\">\n",
              "      <th></th>\n",
              "      <th>ID</th>\n",
              "      <th>FullName</th>\n",
              "      <th>INN</th>\n",
              "      <th>OGRN</th>\n",
              "      <th>AccreditationAuthority</th>\n",
              "      <th>Education</th>\n",
              "      <th>CertificateNumber</th>\n",
              "      <th>CertificateIssueDate</th>\n",
              "      <th>Validity</th>\n",
              "      <th>CertificateFormSeries</th>\n",
              "      <th>CertificateFormNumber</th>\n",
              "      <th>global_id</th>\n",
              "    </tr>\n",
              "  </thead>\n",
              "  <tbody>\n",
              "    <tr>\n",
              "      <th>0</th>\n",
              "      <td>1</td>\n",
              "      <td>Государственное бюджетное общеобразовательное ...</td>\n",
              "      <td>7709833051</td>\n",
              "      <td>1,09775E+12</td>\n",
              "      <td>Департамент образования города Москвы</td>\n",
              "      <td>[основное общее образование,  среднее общее об...</td>\n",
              "      <td>4462</td>\n",
              "      <td>12.05.2017</td>\n",
              "      <td>16.03.2027</td>\n",
              "      <td>77А01</td>\n",
              "      <td>4462</td>\n",
              "      <td>39801229</td>\n",
              "    </tr>\n",
              "    <tr>\n",
              "      <th>1</th>\n",
              "      <td>2</td>\n",
              "      <td>Государственное бюджетное общеобразовательное ...</td>\n",
              "      <td>7707094937</td>\n",
              "      <td>1,0277E+12</td>\n",
              "      <td>Департамент образования города Москвы</td>\n",
              "      <td>[начальное общее образование,  основное общее ...</td>\n",
              "      <td>4744</td>\n",
              "      <td>01.03.2018</td>\n",
              "      <td>03.05.2023</td>\n",
              "      <td>77А01</td>\n",
              "      <td>4744</td>\n",
              "      <td>39801230</td>\n",
              "    </tr>\n",
              "    <tr>\n",
              "      <th>2</th>\n",
              "      <td>3</td>\n",
              "      <td>Государственное бюджетное профессиональное обр...</td>\n",
              "      <td>7719286104</td>\n",
              "      <td>1,05772E+12</td>\n",
              "      <td>Департамент образования города Москвы</td>\n",
              "      <td>[среднее профессиональное образование]</td>\n",
              "      <td>4058</td>\n",
              "      <td>30.12.2015</td>\n",
              "      <td>30.12.2022</td>\n",
              "      <td>77А01</td>\n",
              "      <td>4058</td>\n",
              "      <td>39801231</td>\n",
              "    </tr>\n",
              "    <tr>\n",
              "      <th>3</th>\n",
              "      <td>4</td>\n",
              "      <td>Государственное бюджетное общеобразовательное ...</td>\n",
              "      <td>7721343021</td>\n",
              "      <td>1,15775E+12</td>\n",
              "      <td>Департамент образования города Москвы</td>\n",
              "      <td>[начальное общее образование,  основное общее ...</td>\n",
              "      <td>4357</td>\n",
              "      <td>08.08.2016</td>\n",
              "      <td>09.03.2028</td>\n",
              "      <td>77А01</td>\n",
              "      <td>4357</td>\n",
              "      <td>39801232</td>\n",
              "    </tr>\n",
              "    <tr>\n",
              "      <th>4</th>\n",
              "      <td>5</td>\n",
              "      <td>Государственное бюджетное профессиональное обр...</td>\n",
              "      <td>7729434070</td>\n",
              "      <td>1,05773E+12</td>\n",
              "      <td>Департамент образования города Москвы</td>\n",
              "      <td>[среднее профессиональное образование]</td>\n",
              "      <td>4362</td>\n",
              "      <td>07.09.2016</td>\n",
              "      <td>22.01.2022</td>\n",
              "      <td>77А01</td>\n",
              "      <td>4362</td>\n",
              "      <td>39801233</td>\n",
              "    </tr>\n",
              "    <tr>\n",
              "      <th>...</th>\n",
              "      <td>...</td>\n",
              "      <td>...</td>\n",
              "      <td>...</td>\n",
              "      <td>...</td>\n",
              "      <td>...</td>\n",
              "      <td>...</td>\n",
              "      <td>...</td>\n",
              "      <td>...</td>\n",
              "      <td>...</td>\n",
              "      <td>...</td>\n",
              "      <td>...</td>\n",
              "      <td>...</td>\n",
              "    </tr>\n",
              "    <tr>\n",
              "      <th>870</th>\n",
              "      <td>1695</td>\n",
              "      <td>Профессиональное образовательное частное учреж...</td>\n",
              "      <td>7721516041</td>\n",
              "      <td>1,0478E+12</td>\n",
              "      <td>Департамент образования города Москвы</td>\n",
              "      <td>[среднее профессиональное образование]</td>\n",
              "      <td>4969</td>\n",
              "      <td>24.09.2020</td>\n",
              "      <td>24.09.2026</td>\n",
              "      <td>77А01</td>\n",
              "      <td>4973</td>\n",
              "      <td>1062032572</td>\n",
              "    </tr>\n",
              "    <tr>\n",
              "      <th>871</th>\n",
              "      <td>1696</td>\n",
              "      <td>Государственное бюджетное профессиональное обр...</td>\n",
              "      <td>7723356160</td>\n",
              "      <td>1,05772E+12</td>\n",
              "      <td>Департамент образования города Москвы</td>\n",
              "      <td>[среднее профессиональное образование]</td>\n",
              "      <td>4982</td>\n",
              "      <td>18.01.2021</td>\n",
              "      <td>18.01.2027</td>\n",
              "      <td>77А01</td>\n",
              "      <td>4989</td>\n",
              "      <td>1082826142</td>\n",
              "    </tr>\n",
              "    <tr>\n",
              "      <th>872</th>\n",
              "      <td>1697</td>\n",
              "      <td>Образовательное частное учреждение профессиона...</td>\n",
              "      <td>7722332495</td>\n",
              "      <td>1,1577E+12</td>\n",
              "      <td>Департамент образования города Москвы</td>\n",
              "      <td>[среднее профессиональное образование]</td>\n",
              "      <td>4976</td>\n",
              "      <td>17.12.2020</td>\n",
              "      <td>17.12.2026</td>\n",
              "      <td>77А01</td>\n",
              "      <td>4983</td>\n",
              "      <td>1082826143</td>\n",
              "    </tr>\n",
              "    <tr>\n",
              "      <th>873</th>\n",
              "      <td>1698</td>\n",
              "      <td>Государственное бюджетное учреждение города Мо...</td>\n",
              "      <td>7726317748</td>\n",
              "      <td>1,03774E+12</td>\n",
              "      <td>Департамент образования города Москвы</td>\n",
              "      <td>[основное общее образование,  среднее общее об...</td>\n",
              "      <td>4984</td>\n",
              "      <td>12.02.2021</td>\n",
              "      <td>12.02.2033</td>\n",
              "      <td>77А01</td>\n",
              "      <td>4991</td>\n",
              "      <td>1092182091</td>\n",
              "    </tr>\n",
              "    <tr>\n",
              "      <th>874</th>\n",
              "      <td>1699</td>\n",
              "      <td>АВТОНОМНАЯ НЕКОММЕРЧЕСКАЯ ОРГАНИЗАЦИЯ ПРОФЕССИ...</td>\n",
              "      <td>7719462328</td>\n",
              "      <td>1,1677E+12</td>\n",
              "      <td>Департамент образования города Москвы</td>\n",
              "      <td>[среднее профессиональное образование]</td>\n",
              "      <td>4986</td>\n",
              "      <td>12.02.2021</td>\n",
              "      <td>13.02.2027</td>\n",
              "      <td>77А01</td>\n",
              "      <td>4993</td>\n",
              "      <td>1092182092</td>\n",
              "    </tr>\n",
              "  </tbody>\n",
              "</table>\n",
              "<p>875 rows × 12 columns</p>\n",
              "</div>"
            ],
            "text/plain": [
              "       ID  ...   global_id\n",
              "0       1  ...    39801229\n",
              "1       2  ...    39801230\n",
              "2       3  ...    39801231\n",
              "3       4  ...    39801232\n",
              "4       5  ...    39801233\n",
              "..    ...  ...         ...\n",
              "870  1695  ...  1062032572\n",
              "871  1696  ...  1082826142\n",
              "872  1697  ...  1082826143\n",
              "873  1698  ...  1092182091\n",
              "874  1699  ...  1092182092\n",
              "\n",
              "[875 rows x 12 columns]"
            ]
          },
          "metadata": {
            "tags": []
          },
          "execution_count": 53
        }
      ]
    },
    {
      "cell_type": "code",
      "metadata": {
        "colab": {
          "resources": {
            "http://localhost:8080/nbextensions/google.colab/files.js": {
              "data": "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",
              "ok": true,
              "headers": [
                [
                  "content-type",
                  "application/javascript"
                ]
              ],
              "status": 200,
              "status_text": ""
            }
          },
          "base_uri": "https://localhost:8080/",
          "height": 73
        },
        "id": "tclpo5njOExx",
        "outputId": "a8d3012b-6b1a-4260-b431-103ab8016205"
      },
      "source": [
        "from google.colab import files\r\n",
        "uploaded = files.upload()"
      ],
      "execution_count": 35,
      "outputs": [
        {
          "output_type": "display_data",
          "data": {
            "text/html": [
              "\n",
              "     <input type=\"file\" id=\"files-c7d9c1d0-b5bc-468b-9d8c-722a86cbd77e\" name=\"files[]\" multiple disabled\n",
              "        style=\"border:none\" />\n",
              "     <output id=\"result-c7d9c1d0-b5bc-468b-9d8c-722a86cbd77e\">\n",
              "      Upload widget is only available when the cell has been executed in the\n",
              "      current browser session. Please rerun this cell to enable.\n",
              "      </output>\n",
              "      <script src=\"/nbextensions/google.colab/files.js\"></script> "
            ],
            "text/plain": [
              "<IPython.core.display.HTML object>"
            ]
          },
          "metadata": {
            "tags": []
          }
        },
        {
          "output_type": "stream",
          "text": [
            "Saving data-6322-2021-02-24.xlsx to data-6322-2021-02-24 (1).xlsx\n"
          ],
          "name": "stdout"
        }
      ]
    },
    {
      "cell_type": "code",
      "metadata": {
        "colab": {
          "base_uri": "https://localhost:8080/",
          "height": 892
        },
        "id": "TUr8VOelN0J3",
        "outputId": "f5b18aa4-c63f-4d21-db12-c3334ea5a0c4"
      },
      "source": [
        "data_xlsx = pd.read_excel(\"data-6322-2021-02-24.xlsx\")\r\n",
        "data_xlsx"
      ],
      "execution_count": 52,
      "outputs": [
        {
          "output_type": "execute_result",
          "data": {
            "text/html": [
              "<div>\n",
              "<style scoped>\n",
              "    .dataframe tbody tr th:only-of-type {\n",
              "        vertical-align: middle;\n",
              "    }\n",
              "\n",
              "    .dataframe tbody tr th {\n",
              "        vertical-align: top;\n",
              "    }\n",
              "\n",
              "    .dataframe thead th {\n",
              "        text-align: right;\n",
              "    }\n",
              "</style>\n",
              "<table border=\"1\" class=\"dataframe\">\n",
              "  <thead>\n",
              "    <tr style=\"text-align: right;\">\n",
              "      <th></th>\n",
              "      <th>ID</th>\n",
              "      <th>FullName</th>\n",
              "      <th>INN</th>\n",
              "      <th>OGRN</th>\n",
              "      <th>AccreditationAuthority</th>\n",
              "      <th>Education</th>\n",
              "      <th>CertificateNumber</th>\n",
              "      <th>CertificateIssueDate</th>\n",
              "      <th>Validity</th>\n",
              "      <th>CertificateFormSeries</th>\n",
              "      <th>CertificateFormNumber</th>\n",
              "      <th>global_id</th>\n",
              "    </tr>\n",
              "  </thead>\n",
              "  <tbody>\n",
              "    <tr>\n",
              "      <th>0</th>\n",
              "      <td>1</td>\n",
              "      <td>Государственное бюджетное общеобразовательное ...</td>\n",
              "      <td>7709833051</td>\n",
              "      <td>1097746401873</td>\n",
              "      <td>Департамент образования города Москвы</td>\n",
              "      <td>основное общее образование,  среднее общее обр...</td>\n",
              "      <td>4462</td>\n",
              "      <td>12.05.2017</td>\n",
              "      <td>16.03.2027</td>\n",
              "      <td>77А01</td>\n",
              "      <td>4462</td>\n",
              "      <td>39801229</td>\n",
              "    </tr>\n",
              "    <tr>\n",
              "      <th>1</th>\n",
              "      <td>2</td>\n",
              "      <td>Государственное бюджетное общеобразовательное ...</td>\n",
              "      <td>7707094937</td>\n",
              "      <td>1027700500134</td>\n",
              "      <td>Департамент образования города Москвы</td>\n",
              "      <td>начальное общее образование,  основное общее о...</td>\n",
              "      <td>4744</td>\n",
              "      <td>01.03.2018</td>\n",
              "      <td>03.05.2023</td>\n",
              "      <td>77А01</td>\n",
              "      <td>4744</td>\n",
              "      <td>39801230</td>\n",
              "    </tr>\n",
              "    <tr>\n",
              "      <th>2</th>\n",
              "      <td>3</td>\n",
              "      <td>Государственное бюджетное профессиональное обр...</td>\n",
              "      <td>7719286104</td>\n",
              "      <td>1057719027013</td>\n",
              "      <td>Департамент образования города Москвы</td>\n",
              "      <td>среднее профессиональное образование</td>\n",
              "      <td>4058</td>\n",
              "      <td>30.12.2015</td>\n",
              "      <td>30.12.2022</td>\n",
              "      <td>77А01</td>\n",
              "      <td>4058</td>\n",
              "      <td>39801231</td>\n",
              "    </tr>\n",
              "    <tr>\n",
              "      <th>3</th>\n",
              "      <td>4</td>\n",
              "      <td>Государственное бюджетное общеобразовательное ...</td>\n",
              "      <td>7721343021</td>\n",
              "      <td>1157746770620</td>\n",
              "      <td>Департамент образования города Москвы</td>\n",
              "      <td>начальное общее образование,  основное общее о...</td>\n",
              "      <td>4357</td>\n",
              "      <td>08.08.2016</td>\n",
              "      <td>09.03.2028</td>\n",
              "      <td>77А01</td>\n",
              "      <td>4357</td>\n",
              "      <td>39801232</td>\n",
              "    </tr>\n",
              "    <tr>\n",
              "      <th>4</th>\n",
              "      <td>5</td>\n",
              "      <td>Государственное бюджетное профессиональное обр...</td>\n",
              "      <td>7729434070</td>\n",
              "      <td>1057729005443</td>\n",
              "      <td>Департамент образования города Москвы</td>\n",
              "      <td>среднее профессиональное образование</td>\n",
              "      <td>4362</td>\n",
              "      <td>07.09.2016</td>\n",
              "      <td>22.01.2022</td>\n",
              "      <td>77А01</td>\n",
              "      <td>4362</td>\n",
              "      <td>39801233</td>\n",
              "    </tr>\n",
              "    <tr>\n",
              "      <th>...</th>\n",
              "      <td>...</td>\n",
              "      <td>...</td>\n",
              "      <td>...</td>\n",
              "      <td>...</td>\n",
              "      <td>...</td>\n",
              "      <td>...</td>\n",
              "      <td>...</td>\n",
              "      <td>...</td>\n",
              "      <td>...</td>\n",
              "      <td>...</td>\n",
              "      <td>...</td>\n",
              "      <td>...</td>\n",
              "    </tr>\n",
              "    <tr>\n",
              "      <th>870</th>\n",
              "      <td>1695</td>\n",
              "      <td>Профессиональное образовательное частное учреж...</td>\n",
              "      <td>7721516041</td>\n",
              "      <td>1047796716990</td>\n",
              "      <td>Департамент образования города Москвы</td>\n",
              "      <td>среднее профессиональное образование</td>\n",
              "      <td>4969</td>\n",
              "      <td>24.09.2020</td>\n",
              "      <td>24.09.2026</td>\n",
              "      <td>77А01</td>\n",
              "      <td>4973</td>\n",
              "      <td>1062032572</td>\n",
              "    </tr>\n",
              "    <tr>\n",
              "      <th>871</th>\n",
              "      <td>1696</td>\n",
              "      <td>Государственное бюджетное профессиональное обр...</td>\n",
              "      <td>7723356160</td>\n",
              "      <td>1057723001731</td>\n",
              "      <td>Департамент образования города Москвы</td>\n",
              "      <td>среднее профессиональное образование</td>\n",
              "      <td>4982</td>\n",
              "      <td>18.01.2021</td>\n",
              "      <td>18.01.2027</td>\n",
              "      <td>77А01</td>\n",
              "      <td>4989</td>\n",
              "      <td>1082826142</td>\n",
              "    </tr>\n",
              "    <tr>\n",
              "      <th>872</th>\n",
              "      <td>1697</td>\n",
              "      <td>Образовательное частное учреждение профессиона...</td>\n",
              "      <td>7722332495</td>\n",
              "      <td>1157700010104</td>\n",
              "      <td>Департамент образования города Москвы</td>\n",
              "      <td>среднее профессиональное образование</td>\n",
              "      <td>4976</td>\n",
              "      <td>17.12.2020</td>\n",
              "      <td>17.12.2026</td>\n",
              "      <td>77А01</td>\n",
              "      <td>4983</td>\n",
              "      <td>1082826143</td>\n",
              "    </tr>\n",
              "    <tr>\n",
              "      <th>873</th>\n",
              "      <td>1698</td>\n",
              "      <td>Государственное бюджетное учреждение города Мо...</td>\n",
              "      <td>7726317748</td>\n",
              "      <td>1037739386717</td>\n",
              "      <td>Департамент образования города Москвы</td>\n",
              "      <td>основное общее образование,  среднее общее обр...</td>\n",
              "      <td>4984</td>\n",
              "      <td>12.02.2021</td>\n",
              "      <td>12.02.2033</td>\n",
              "      <td>77А01</td>\n",
              "      <td>4991</td>\n",
              "      <td>1092182091</td>\n",
              "    </tr>\n",
              "    <tr>\n",
              "      <th>874</th>\n",
              "      <td>1699</td>\n",
              "      <td>АВТОНОМНАЯ НЕКОММЕРЧЕСКАЯ ОРГАНИЗАЦИЯ ПРОФЕССИ...</td>\n",
              "      <td>7719462328</td>\n",
              "      <td>1167700074167</td>\n",
              "      <td>Департамент образования города Москвы</td>\n",
              "      <td>среднее профессиональное образование</td>\n",
              "      <td>4986</td>\n",
              "      <td>12.02.2021</td>\n",
              "      <td>13.02.2027</td>\n",
              "      <td>77А01</td>\n",
              "      <td>4993</td>\n",
              "      <td>1092182092</td>\n",
              "    </tr>\n",
              "  </tbody>\n",
              "</table>\n",
              "<p>875 rows × 12 columns</p>\n",
              "</div>"
            ],
            "text/plain": [
              "       ID  ...   global_id\n",
              "0       1  ...    39801229\n",
              "1       2  ...    39801230\n",
              "2       3  ...    39801231\n",
              "3       4  ...    39801232\n",
              "4       5  ...    39801233\n",
              "..    ...  ...         ...\n",
              "870  1695  ...  1062032572\n",
              "871  1696  ...  1082826142\n",
              "872  1697  ...  1082826143\n",
              "873  1698  ...  1092182091\n",
              "874  1699  ...  1092182092\n",
              "\n",
              "[875 rows x 12 columns]"
            ]
          },
          "metadata": {
            "tags": []
          },
          "execution_count": 52
        }
      ]
    },
    {
      "cell_type": "code",
      "metadata": {
        "colab": {
          "base_uri": "https://localhost:8080/",
          "height": 265
        },
        "id": "IS_TikxfQDt3",
        "outputId": "3ce914ce-227d-4f31-c396-472ca4c722e3"
      },
      "source": [
        "import matplotlib.pyplot as plt\r\n",
        "import pandas as pd\r\n",
        "\r\n",
        "df.plot(kind = 'barh', y = '2018 год', color = 'red')\r\n",
        "plt.show()"
      ],
      "execution_count": 55,
      "outputs": [
        {
          "output_type": "display_data",
          "data": {
            "image/png": "[encoded data removed]",
            "text/plain": [
              "<Figure size 432x288 with 1 Axes>"
            ]
          },
          "metadata": {
            "tags": [],
            "needs_background": "light"
          }
        }
      ]
    },
    {
      "cell_type": "code",
      "metadata": {
        "colab": {
          "base_uri": "https://localhost:8080/",
          "height": 265
        },
        "id": "3LBWA8KOQZKI",
        "outputId": "bbbf478a-369c-4f8a-bf5e-2b0c816ac9e8"
      },
      "source": [
        "df.plot(kind = 'barh', y = '2019 год', color = 'blue')\r\n",
        "plt.show()"
      ],
      "execution_count": 56,
      "outputs": [
        {
          "output_type": "display_data",
          "data": {
            "image/png": "[encoded data removed]",
            "text/plain": [
              "<Figure size 432x288 with 1 Axes>"
            ]
          },
          "metadata": {
            "tags": [],
            "needs_background": "light"
          }
        }
      ]
    },
    {
      "cell_type": "code",
      "metadata": {
        "colab": {
          "base_uri": "https://localhost:8080/",
          "height": 270
        },
        "id": "bIcq5wiIRABa",
        "outputId": "b159a1c6-e69f-4b76-fd69-41825d4ea396"
      },
      "source": [
        "df.pivot(columns = \"Страна\").plot(kind = 'bar')\r\n",
        "plt.show()"
      ],
      "execution_count": 57,
      "outputs": [
        {
          "output_type": "display_data",
          "data": {
            "image/png": "[encoded data removed]",
            "text/plain": [
              "<Figure size 432x288 with 1 Axes>"
            ]
          },
          "metadata": {
            "tags": [],
            "needs_background": "light"
          }
        }
      ]
    },
    {
      "cell_type": "code",
      "metadata": {
        "id": "-mgcWZUASQcl"
      },
      "source": [
        "import numpy as np\r\n",
        "import matplotlib.pyplot as plt\r\n",
        "import pandas as pd\r\n",
        "from unicodedata import normalize"
      ],
      "execution_count": 58,
      "outputs": []
    },
    {
      "cell_type": "code",
      "metadata": {
        "id": "jv7ubRRlTiSq"
      },
      "source": [
        "tables = pd.read_html('https://ru.wikipedia.org/wiki/%D0%A1%D0%BF%D0%B8%D1%81%D0%BE%D0%BA_%D1%81%D1%82%D1%80%D0%B0%D0%BD_%D0%BF%D0%BE_%D0%92%D0%92%D0%9F_(%D0%BD%D0%BE%D0%BC%D0%B8%D0%BD%D0%B0%D0%BB)', match = 'Страна')"
      ],
      "execution_count": 60,
      "outputs": []
    },
    {
      "cell_type": "code",
      "metadata": {
        "colab": {
          "base_uri": "https://localhost:8080/"
        },
        "id": "b57OUYq6T-xE",
        "outputId": "85653efa-b203-418c-f767-17e22a31605d"
      },
      "source": [
        "len(tables)"
      ],
      "execution_count": 61,
      "outputs": [
        {
          "output_type": "execute_result",
          "data": {
            "text/plain": [
              "4"
            ]
          },
          "metadata": {
            "tags": []
          },
          "execution_count": 61
        }
      ]
    },
    {
      "cell_type": "code",
      "metadata": {
        "colab": {
          "base_uri": "https://localhost:8080/",
          "height": 402
        },
        "id": "sVPEOglQUDD7",
        "outputId": "20714dbe-c528-4abc-9317-c84dc52ccc77"
      },
      "source": [
        "df = tables[1]\r\n",
        "df"
      ],
      "execution_count": 62,
      "outputs": [
        {
          "output_type": "execute_result",
          "data": {
            "text/html": [
              "<div>\n",
              "<style scoped>\n",
              "    .dataframe tbody tr th:only-of-type {\n",
              "        vertical-align: middle;\n",
              "    }\n",
              "\n",
              "    .dataframe tbody tr th {\n",
              "        vertical-align: top;\n",
              "    }\n",
              "\n",
              "    .dataframe thead th {\n",
              "        text-align: right;\n",
              "    }\n",
              "</style>\n",
              "<table border=\"1\" class=\"dataframe\">\n",
              "  <thead>\n",
              "    <tr style=\"text-align: right;\">\n",
              "      <th></th>\n",
              "      <th>№</th>\n",
              "      <th>Страна</th>\n",
              "      <th>2018</th>\n",
              "      <th>2019</th>\n",
              "    </tr>\n",
              "  </thead>\n",
              "  <tbody>\n",
              "    <tr>\n",
              "      <th>0</th>\n",
              "      <td>1</td>\n",
              "      <td>США</td>\n",
              "      <td>20612</td>\n",
              "      <td>21433</td>\n",
              "    </tr>\n",
              "    <tr>\n",
              "      <th>1</th>\n",
              "      <td>2</td>\n",
              "      <td>Китай</td>\n",
              "      <td>13842</td>\n",
              "      <td>14402</td>\n",
              "    </tr>\n",
              "    <tr>\n",
              "      <th>2</th>\n",
              "      <td>3</td>\n",
              "      <td>Япония</td>\n",
              "      <td>4952</td>\n",
              "      <td>5080</td>\n",
              "    </tr>\n",
              "    <tr>\n",
              "      <th>3</th>\n",
              "      <td>4</td>\n",
              "      <td>Германия</td>\n",
              "      <td>3966</td>\n",
              "      <td>3862</td>\n",
              "    </tr>\n",
              "    <tr>\n",
              "      <th>4</th>\n",
              "      <td>5</td>\n",
              "      <td>Индия</td>\n",
              "      <td>2713</td>\n",
              "      <td>2869</td>\n",
              "    </tr>\n",
              "    <tr>\n",
              "      <th>...</th>\n",
              "      <td>...</td>\n",
              "      <td>...</td>\n",
              "      <td>...</td>\n",
              "      <td>...</td>\n",
              "    </tr>\n",
              "    <tr>\n",
              "      <th>188</th>\n",
              "      <td>183</td>\n",
              "      <td>Маршалловы Острова</td>\n",
              "      <td>22</td>\n",
              "      <td>23</td>\n",
              "    </tr>\n",
              "    <tr>\n",
              "      <th>189</th>\n",
              "      <td>184</td>\n",
              "      <td>Кирибати</td>\n",
              "      <td>2</td>\n",
              "      <td>2</td>\n",
              "    </tr>\n",
              "    <tr>\n",
              "      <th>190</th>\n",
              "      <td>185</td>\n",
              "      <td>Науру</td>\n",
              "      <td>12</td>\n",
              "      <td>12</td>\n",
              "    </tr>\n",
              "    <tr>\n",
              "      <th>191</th>\n",
              "      <td>186</td>\n",
              "      <td>Тувалу</td>\n",
              "      <td>5</td>\n",
              "      <td>5</td>\n",
              "    </tr>\n",
              "    <tr>\n",
              "      <th>192</th>\n",
              "      <td>NaN</td>\n",
              "      <td>Всего в мире</td>\n",
              "      <td>85690</td>\n",
              "      <td>87552</td>\n",
              "    </tr>\n",
              "  </tbody>\n",
              "</table>\n",
              "<p>193 rows × 4 columns</p>\n",
              "</div>"
            ],
            "text/plain": [
              "       №              Страна   2018   2019\n",
              "0      1                 США  20612  21433\n",
              "1      2               Китай  13842  14402\n",
              "2      3              Япония   4952   5080\n",
              "3      4            Германия   3966   3862\n",
              "4      5               Индия   2713   2869\n",
              "..   ...                 ...    ...    ...\n",
              "188  183  Маршалловы Острова     22     23\n",
              "189  184            Кирибати      2      2\n",
              "190  185               Науру     12     12\n",
              "191  186              Тувалу      5      5\n",
              "192  NaN        Всего в мире  85690  87552\n",
              "\n",
              "[193 rows x 4 columns]"
            ]
          },
          "metadata": {
            "tags": []
          },
          "execution_count": 62
        }
      ]
    },
    {
      "cell_type": "code",
      "metadata": {
        "colab": {
          "base_uri": "https://localhost:8080/",
          "height": 402
        },
        "id": "8CKB65EgUJuF",
        "outputId": "a050f6b8-b9b7-48b4-83fe-fdf2cd273916"
      },
      "source": [
        "df.drop(('№'), axis = 1, inplace = True)\r\n",
        "df"
      ],
      "execution_count": 63,
      "outputs": [
        {
          "output_type": "execute_result",
          "data": {
            "text/html": [
              "<div>\n",
              "<style scoped>\n",
              "    .dataframe tbody tr th:only-of-type {\n",
              "        vertical-align: middle;\n",
              "    }\n",
              "\n",
              "    .dataframe tbody tr th {\n",
              "        vertical-align: top;\n",
              "    }\n",
              "\n",
              "    .dataframe thead th {\n",
              "        text-align: right;\n",
              "    }\n",
              "</style>\n",
              "<table border=\"1\" class=\"dataframe\">\n",
              "  <thead>\n",
              "    <tr style=\"text-align: right;\">\n",
              "      <th></th>\n",
              "      <th>Страна</th>\n",
              "      <th>2018</th>\n",
              "      <th>2019</th>\n",
              "    </tr>\n",
              "  </thead>\n",
              "  <tbody>\n",
              "    <tr>\n",
              "      <th>0</th>\n",
              "      <td>США</td>\n",
              "      <td>20612</td>\n",
              "      <td>21433</td>\n",
              "    </tr>\n",
              "    <tr>\n",
              "      <th>1</th>\n",
              "      <td>Китай</td>\n",
              "      <td>13842</td>\n",
              "      <td>14402</td>\n",
              "    </tr>\n",
              "    <tr>\n",
              "      <th>2</th>\n",
              "      <td>Япония</td>\n",
              "      <td>4952</td>\n",
              "      <td>5080</td>\n",
              "    </tr>\n",
              "    <tr>\n",
              "      <th>3</th>\n",
              "      <td>Германия</td>\n",
              "      <td>3966</td>\n",
              "      <td>3862</td>\n",
              "    </tr>\n",
              "    <tr>\n",
              "      <th>4</th>\n",
              "      <td>Индия</td>\n",
              "      <td>2713</td>\n",
              "      <td>2869</td>\n",
              "    </tr>\n",
              "    <tr>\n",
              "      <th>...</th>\n",
              "      <td>...</td>\n",
              "      <td>...</td>\n",
              "      <td>...</td>\n",
              "    </tr>\n",
              "    <tr>\n",
              "      <th>188</th>\n",
              "      <td>Маршалловы Острова</td>\n",
              "      <td>22</td>\n",
              "      <td>23</td>\n",
              "    </tr>\n",
              "    <tr>\n",
              "      <th>189</th>\n",
              "      <td>Кирибати</td>\n",
              "      <td>2</td>\n",
              "      <td>2</td>\n",
              "    </tr>\n",
              "    <tr>\n",
              "      <th>190</th>\n",
              "      <td>Науру</td>\n",
              "      <td>12</td>\n",
              "      <td>12</td>\n",
              "    </tr>\n",
              "    <tr>\n",
              "      <th>191</th>\n",
              "      <td>Тувалу</td>\n",
              "      <td>5</td>\n",
              "      <td>5</td>\n",
              "    </tr>\n",
              "    <tr>\n",
              "      <th>192</th>\n",
              "      <td>Всего в мире</td>\n",
              "      <td>85690</td>\n",
              "      <td>87552</td>\n",
              "    </tr>\n",
              "  </tbody>\n",
              "</table>\n",
              "<p>193 rows × 3 columns</p>\n",
              "</div>"
            ],
            "text/plain": [
              "                 Страна   2018   2019\n",
              "0                   США  20612  21433\n",
              "1                 Китай  13842  14402\n",
              "2                Япония   4952   5080\n",
              "3              Германия   3966   3862\n",
              "4                 Индия   2713   2869\n",
              "..                  ...    ...    ...\n",
              "188  Маршалловы Острова     22     23\n",
              "189            Кирибати      2      2\n",
              "190               Науру     12     12\n",
              "191              Тувалу      5      5\n",
              "192        Всего в мире  85690  87552\n",
              "\n",
              "[193 rows x 3 columns]"
            ]
          },
          "metadata": {
            "tags": []
          },
          "execution_count": 63
        }
      ]
    },
    {
      "cell_type": "code",
      "metadata": {
        "colab": {
          "base_uri": "https://localhost:8080/"
        },
        "id": "KIl0qEa0Vzkg",
        "outputId": "f1ff3ff0-1f61-4c08-ae6f-af411f6809cc"
      },
      "source": [
        "print(df.to_string())"
      ],
      "execution_count": 64,
      "outputs": [
        {
          "output_type": "stream",
          "text": [
            "                       Страна   2018   2019\n",
            "0                         США  20612  21433\n",
            "1                       Китай  13842  14402\n",
            "2                      Япония   4952   5080\n",
            "3                    Германия   3966   3862\n",
            "4                       Индия   2713   2869\n",
            "5              Великобритания   2864   2831\n",
            "6                     Франция   2789   2716\n",
            "7                      Италия   2087   2001\n",
            "8                    Бразилия   1885   1839\n",
            "9                      Канада   1716   1736\n",
            "10                     Россия   1665   1702\n",
            "11           Республика Корея   1725   1647\n",
            "12                    Испания   1420   1394\n",
            "13                  Австралия   1421   1387\n",
            "14                    Мексика   1222   1258\n",
            "15                  Индонезия   1042   1120\n",
            "16                 Нидерланды    914    907\n",
            "17          Саудовская Аравия    787    793\n",
            "18                     Турция    780    761\n",
            "19                  Швейцария    706    705\n",
            "20                    Тайвань    608    611\n",
            "21                     Польша    587    592\n",
            "22                       Иран    435    583\n",
            "23                    Таиланд    506    544\n",
            "24                     Швеция    555    530\n",
            "25                    Бельгия    543    529\n",
            "26                    Нигерия    398    448\n",
            "27                    Австрия    456    446\n",
            "28                  Аргентина    517    444\n",
            "29                        ОАЭ    422    421\n",
            "30                   Норвегия    434    403\n",
            "31                   Ирландия    387    398\n",
            "32                    Израиль    370    394\n",
            "33                  Филиппины    347    377\n",
            "34                   Сингапур    373    372\n",
            "35              Гонконг (КНР)    362    366\n",
            "36                   Малайзия    359    365\n",
            "37                        ЮАР    368    351\n",
            "38                      Дания    356    347\n",
            "39                    Вьетнам    304    330\n",
            "40                   Колумбия    333    324\n",
            "41                  Бангладеш    274    303\n",
            "42                     Египет    250    302\n",
            "43                       Чили    298    282\n",
            "44                   Пакистан    313    276\n",
            "45                  Финляндия    276    269\n",
            "46                      Чехия    249    251\n",
            "47                    Румыния    242    250\n",
            "48                 Португалия    241    238\n",
            "49                       Перу    225    231\n",
            "50                       Ирак    226    230\n",
            "51                     Греция    218    210\n",
            "52             Новая Зеландия    207    205\n",
            "53                  Казахстан    179    182\n",
            "54                      Катар    183    176\n",
            "55                      Алжир    174    169\n",
            "56                    Венгрия    158    161\n",
            "57                 Украина[2]    131    154\n",
            "58                     Кувейт    141    135\n",
            "59                    Марокко    118    119\n",
            "60                    Эквадор    108    107\n",
            "61                   Словакия    106    105\n",
            "62                Пуэрто-Рико    101    103\n",
            "63                      Кения    878    954\n",
            "64                    Эфиопия    802    928\n",
            "65                     Ангола    106    894\n",
            "66   Доминиканская Республика    856    890\n",
            "67                  Шри-Ланка    884    840\n",
            "68                  Гватемала    731    767\n",
            "69                       Оман    798    764\n",
            "70                 Люксембург    710    711\n",
            "71                     Мьянма    667    686\n",
            "72                   Болгария    663    679\n",
            "73                       Гана    655    670\n",
            "74                     Панама    651    668\n",
            "75                  Венесуэла    984    640\n",
            "76                 Белоруссия    600    630\n",
            "77                 Коста-Рика    609    621\n",
            "78                   Хорватия    610    604\n",
            "79                   Танзания    567    608\n",
            "80                Кот-д’Ивуар    577    586\n",
            "81                 Узбекистан    504    580\n",
            "82                    Уругвай    598    567\n",
            "83                      Литва    535    542\n",
            "84                Макао (КНР)    551    539\n",
            "85                   Словения    541    537\n",
            "86                      Ливан    550    526\n",
            "87                     Сербия    506    514\n",
            "88                   ДР Конго    471    498\n",
            "89                Азербайджан    471    480\n",
            "90                  Туркмения    407    452\n",
            "91                   Иордания    430    446\n",
            "92                    Боливия    406    412\n",
            "93                      Ливия    414    398\n",
            "94                    Камерун    387    389\n",
            "95                      Тунис    397    388\n",
            "96                    Бахрейн    377    386\n",
            "97                   Парагвай    404    374\n",
            "98                     Уганда    338    365\n",
            "99                     Латвия    343    341\n",
            "100                     Судан    357    334\n",
            "101                   Эстония    307    315\n",
            "102                     Непал    290    307\n",
            "103                 Сальвадор    261    270\n",
            "104                  Камбоджа    244    267\n",
            "105                  Гондурас    214    250\n",
            "106      Папуа — Новая Гвинея    240    248\n",
            "107                      Кипр    250    246\n",
            "108                  Исландия    257    242\n",
            "109                    Замбия    270    241\n",
            "110         Тринидад и Тобаго    238    241\n",
            "111                   Сенегал    238    236\n",
            "112                     Йемен    235    226\n",
            "113      Босния и Герцеговина    201    199\n",
            "114                      Лаос    181    191\n",
            "115                Афганистан    184    189\n",
            "116                  Зимбабве    208    187\n",
            "117                  Ботсвана    187    185\n",
            "118                      Мали    170    173\n",
            "119                    Грузия    176    177\n",
            "120                     Габон    169    169\n",
            "121                    Ямайка    156    159\n",
            "122              Буркина-Фасо    162    157\n",
            "123                   Албания    151    153\n",
            "124                  Мозамбик    147    152\n",
            "125                    Мальта    147    150\n",
            "126                     Бенин    143    144\n",
            "127                Мадагаскар    139    141\n",
            "128                  Маврикий    141    140\n",
            "129                  Монголия    131    139\n",
            "130                    Гвинея    122    138\n",
            "131                   Армения    125    137\n",
            "132         Багамские Острова    130    136\n",
            "133                    Бруней    136    135\n",
            "134        Северная Македония    126    127\n",
            "135                     Нигер    129    129\n",
            "136                 Никарагуа    130    125\n",
            "137                   Намибия    136    125\n",
            "138          Республика Конго    134    125\n",
            "139                  Молдавия    113    120\n",
            "140     Экваториальная Гвинея    136    118\n",
            "141                       Чад    110    110\n",
            "142                    Руанда    963    101\n",
            "143                     Гаити    966    870\n",
            "144                  Киргизия    827    846\n",
            "145               Таджикистан    752    812\n",
            "146         Республика Косово    795    797\n",
            "147                    Малави    691    767\n",
            "148                Мавритания    705     76\n",
            "149                  Мальдивы    532    576\n",
            "150                      Того    536    546\n",
            "151                     Фиджи    554    541\n",
            "152                  Барбадос    509    521\n",
            "153                    Гайана    479    517\n",
            "154                Черногория    551     50\n",
            "155               Южный Судан    466    493\n",
            "156                  Эсватини    471    459\n",
            "157              Сьерра-Леоне    409    421\n",
            "158                   Суринам    347     37\n",
            "159                   Джибути    301    335\n",
            "160                   Либерия    326    318\n",
            "161                   Бурунди    319    311\n",
            "162        Аруба (Нидерланды)    282    289\n",
            "163                     Бутан    251     25\n",
            "164                    Лесото    247    242\n",
            "165                       ЦАР    228    228\n",
            "166                Сент-Люсия    207    212\n",
            "167                   Эритрея    201    198\n",
            "168                Кабо-Верде    197    198\n",
            "169                     Белиз    187    184\n",
            "170                    Гамбия    166    181\n",
            "171         Антигуа и Барбуда    161    166\n",
            "172       Сейшельские Острова    158    165\n",
            "173           Восточный Тимор    157    162\n",
            "174                Сан-Марино    166     16\n",
            "175        Соломоновы Острова    159     16\n",
            "176              Гвинея-Бисау    151    144\n",
            "177                   Гренада    117    122\n",
            "178                    Коморы    118    119\n",
            "179         Сент-Китс и Невис    101    107\n",
            "180                   Вануату     93     93\n",
            "181                     Самоа     84     85\n",
            "182  Сент-Винсент и Гренадины     81     82\n",
            "183                  Доминика     53     59\n",
            "184                     Тонга     49     52\n",
            "185       Сан-Томе и Принсипи     42     42\n",
            "186                Микронезия     40     41\n",
            "187                     Палау     29     28\n",
            "188        Маршалловы Острова     22     23\n",
            "189                  Кирибати      2      2\n",
            "190                     Науру     12     12\n",
            "191                    Тувалу      5      5\n",
            "192              Всего в мире  85690  87552\n"
          ],
          "name": "stdout"
        }
      ]
    },
    {
      "cell_type": "code",
      "metadata": {
        "colab": {
          "base_uri": "https://localhost:8080/"
        },
        "id": "YimUtobiWK2V",
        "outputId": "27e00a35-e517-4d8a-87c5-0a9d20798d49"
      },
      "source": [
        "df.replace({'\\[[0-9]+\\]': ''}, regex = True, inplace = True) #убрали лишнее у Украины\r\n",
        "print(df.to_string())"
      ],
      "execution_count": 66,
      "outputs": [
        {
          "output_type": "stream",
          "text": [
            "                       Страна   2018   2019\n",
            "0                         США  20612  21433\n",
            "1                       Китай  13842  14402\n",
            "2                      Япония   4952   5080\n",
            "3                    Германия   3966   3862\n",
            "4                       Индия   2713   2869\n",
            "5              Великобритания   2864   2831\n",
            "6                     Франция   2789   2716\n",
            "7                      Италия   2087   2001\n",
            "8                    Бразилия   1885   1839\n",
            "9                      Канада   1716   1736\n",
            "10                     Россия   1665   1702\n",
            "11           Республика Корея   1725   1647\n",
            "12                    Испания   1420   1394\n",
            "13                  Австралия   1421   1387\n",
            "14                    Мексика   1222   1258\n",
            "15                  Индонезия   1042   1120\n",
            "16                 Нидерланды    914    907\n",
            "17          Саудовская Аравия    787    793\n",
            "18                     Турция    780    761\n",
            "19                  Швейцария    706    705\n",
            "20                    Тайвань    608    611\n",
            "21                     Польша    587    592\n",
            "22                       Иран    435    583\n",
            "23                    Таиланд    506    544\n",
            "24                     Швеция    555    530\n",
            "25                    Бельгия    543    529\n",
            "26                    Нигерия    398    448\n",
            "27                    Австрия    456    446\n",
            "28                  Аргентина    517    444\n",
            "29                        ОАЭ    422    421\n",
            "30                   Норвегия    434    403\n",
            "31                   Ирландия    387    398\n",
            "32                    Израиль    370    394\n",
            "33                  Филиппины    347    377\n",
            "34                   Сингапур    373    372\n",
            "35              Гонконг (КНР)    362    366\n",
            "36                   Малайзия    359    365\n",
            "37                        ЮАР    368    351\n",
            "38                      Дания    356    347\n",
            "39                    Вьетнам    304    330\n",
            "40                   Колумбия    333    324\n",
            "41                  Бангладеш    274    303\n",
            "42                     Египет    250    302\n",
            "43                       Чили    298    282\n",
            "44                   Пакистан    313    276\n",
            "45                  Финляндия    276    269\n",
            "46                      Чехия    249    251\n",
            "47                    Румыния    242    250\n",
            "48                 Португалия    241    238\n",
            "49                       Перу    225    231\n",
            "50                       Ирак    226    230\n",
            "51                     Греция    218    210\n",
            "52             Новая Зеландия    207    205\n",
            "53                  Казахстан    179    182\n",
            "54                      Катар    183    176\n",
            "55                      Алжир    174    169\n",
            "56                    Венгрия    158    161\n",
            "57                    Украина    131    154\n",
            "58                     Кувейт    141    135\n",
            "59                    Марокко    118    119\n",
            "60                    Эквадор    108    107\n",
            "61                   Словакия    106    105\n",
            "62                Пуэрто-Рико    101    103\n",
            "63                      Кения    878    954\n",
            "64                    Эфиопия    802    928\n",
            "65                     Ангола    106    894\n",
            "66   Доминиканская Республика    856    890\n",
            "67                  Шри-Ланка    884    840\n",
            "68                  Гватемала    731    767\n",
            "69                       Оман    798    764\n",
            "70                 Люксембург    710    711\n",
            "71                     Мьянма    667    686\n",
            "72                   Болгария    663    679\n",
            "73                       Гана    655    670\n",
            "74                     Панама    651    668\n",
            "75                  Венесуэла    984    640\n",
            "76                 Белоруссия    600    630\n",
            "77                 Коста-Рика    609    621\n",
            "78                   Хорватия    610    604\n",
            "79                   Танзания    567    608\n",
            "80                Кот-д’Ивуар    577    586\n",
            "81                 Узбекистан    504    580\n",
            "82                    Уругвай    598    567\n",
            "83                      Литва    535    542\n",
            "84                Макао (КНР)    551    539\n",
            "85                   Словения    541    537\n",
            "86                      Ливан    550    526\n",
            "87                     Сербия    506    514\n",
            "88                   ДР Конго    471    498\n",
            "89                Азербайджан    471    480\n",
            "90                  Туркмения    407    452\n",
            "91                   Иордания    430    446\n",
            "92                    Боливия    406    412\n",
            "93                      Ливия    414    398\n",
            "94                    Камерун    387    389\n",
            "95                      Тунис    397    388\n",
            "96                    Бахрейн    377    386\n",
            "97                   Парагвай    404    374\n",
            "98                     Уганда    338    365\n",
            "99                     Латвия    343    341\n",
            "100                     Судан    357    334\n",
            "101                   Эстония    307    315\n",
            "102                     Непал    290    307\n",
            "103                 Сальвадор    261    270\n",
            "104                  Камбоджа    244    267\n",
            "105                  Гондурас    214    250\n",
            "106      Папуа — Новая Гвинея    240    248\n",
            "107                      Кипр    250    246\n",
            "108                  Исландия    257    242\n",
            "109                    Замбия    270    241\n",
            "110         Тринидад и Тобаго    238    241\n",
            "111                   Сенегал    238    236\n",
            "112                     Йемен    235    226\n",
            "113      Босния и Герцеговина    201    199\n",
            "114                      Лаос    181    191\n",
            "115                Афганистан    184    189\n",
            "116                  Зимбабве    208    187\n",
            "117                  Ботсвана    187    185\n",
            "118                      Мали    170    173\n",
            "119                    Грузия    176    177\n",
            "120                     Габон    169    169\n",
            "121                    Ямайка    156    159\n",
            "122              Буркина-Фасо    162    157\n",
            "123                   Албания    151    153\n",
            "124                  Мозамбик    147    152\n",
            "125                    Мальта    147    150\n",
            "126                     Бенин    143    144\n",
            "127                Мадагаскар    139    141\n",
            "128                  Маврикий    141    140\n",
            "129                  Монголия    131    139\n",
            "130                    Гвинея    122    138\n",
            "131                   Армения    125    137\n",
            "132         Багамские Острова    130    136\n",
            "133                    Бруней    136    135\n",
            "134        Северная Македония    126    127\n",
            "135                     Нигер    129    129\n",
            "136                 Никарагуа    130    125\n",
            "137                   Намибия    136    125\n",
            "138          Республика Конго    134    125\n",
            "139                  Молдавия    113    120\n",
            "140     Экваториальная Гвинея    136    118\n",
            "141                       Чад    110    110\n",
            "142                    Руанда    963    101\n",
            "143                     Гаити    966    870\n",
            "144                  Киргизия    827    846\n",
            "145               Таджикистан    752    812\n",
            "146         Республика Косово    795    797\n",
            "147                    Малави    691    767\n",
            "148                Мавритания    705     76\n",
            "149                  Мальдивы    532    576\n",
            "150                      Того    536    546\n",
            "151                     Фиджи    554    541\n",
            "152                  Барбадос    509    521\n",
            "153                    Гайана    479    517\n",
            "154                Черногория    551     50\n",
            "155               Южный Судан    466    493\n",
            "156                  Эсватини    471    459\n",
            "157              Сьерра-Леоне    409    421\n",
            "158                   Суринам    347     37\n",
            "159                   Джибути    301    335\n",
            "160                   Либерия    326    318\n",
            "161                   Бурунди    319    311\n",
            "162        Аруба (Нидерланды)    282    289\n",
            "163                     Бутан    251     25\n",
            "164                    Лесото    247    242\n",
            "165                       ЦАР    228    228\n",
            "166                Сент-Люсия    207    212\n",
            "167                   Эритрея    201    198\n",
            "168                Кабо-Верде    197    198\n",
            "169                     Белиз    187    184\n",
            "170                    Гамбия    166    181\n",
            "171         Антигуа и Барбуда    161    166\n",
            "172       Сейшельские Острова    158    165\n",
            "173           Восточный Тимор    157    162\n",
            "174                Сан-Марино    166     16\n",
            "175        Соломоновы Острова    159     16\n",
            "176              Гвинея-Бисау    151    144\n",
            "177                   Гренада    117    122\n",
            "178                    Коморы    118    119\n",
            "179         Сент-Китс и Невис    101    107\n",
            "180                   Вануату     93     93\n",
            "181                     Самоа     84     85\n",
            "182  Сент-Винсент и Гренадины     81     82\n",
            "183                  Доминика     53     59\n",
            "184                     Тонга     49     52\n",
            "185       Сан-Томе и Принсипи     42     42\n",
            "186                Микронезия     40     41\n",
            "187                     Палау     29     28\n",
            "188        Маршалловы Острова     22     23\n",
            "189                  Кирибати      2      2\n",
            "190                     Науру     12     12\n",
            "191                    Тувалу      5      5\n",
            "192              Всего в мире  85690  87552\n"
          ],
          "name": "stdout"
        }
      ]
    },
    {
      "cell_type": "code",
      "metadata": {
        "colab": {
          "base_uri": "https://localhost:8080/",
          "height": 402
        },
        "id": "91uoqFtSWlVC",
        "outputId": "81437897-5cfa-45c7-c9b6-b59be76e9afc"
      },
      "source": [
        "df"
      ],
      "execution_count": 67,
      "outputs": [
        {
          "output_type": "execute_result",
          "data": {
            "text/html": [
              "<div>\n",
              "<style scoped>\n",
              "    .dataframe tbody tr th:only-of-type {\n",
              "        vertical-align: middle;\n",
              "    }\n",
              "\n",
              "    .dataframe tbody tr th {\n",
              "        vertical-align: top;\n",
              "    }\n",
              "\n",
              "    .dataframe thead th {\n",
              "        text-align: right;\n",
              "    }\n",
              "</style>\n",
              "<table border=\"1\" class=\"dataframe\">\n",
              "  <thead>\n",
              "    <tr style=\"text-align: right;\">\n",
              "      <th></th>\n",
              "      <th>Страна</th>\n",
              "      <th>2018</th>\n",
              "      <th>2019</th>\n",
              "    </tr>\n",
              "  </thead>\n",
              "  <tbody>\n",
              "    <tr>\n",
              "      <th>0</th>\n",
              "      <td>США</td>\n",
              "      <td>20612</td>\n",
              "      <td>21433</td>\n",
              "    </tr>\n",
              "    <tr>\n",
              "      <th>1</th>\n",
              "      <td>Китай</td>\n",
              "      <td>13842</td>\n",
              "      <td>14402</td>\n",
              "    </tr>\n",
              "    <tr>\n",
              "      <th>2</th>\n",
              "      <td>Япония</td>\n",
              "      <td>4952</td>\n",
              "      <td>5080</td>\n",
              "    </tr>\n",
              "    <tr>\n",
              "      <th>3</th>\n",
              "      <td>Германия</td>\n",
              "      <td>3966</td>\n",
              "      <td>3862</td>\n",
              "    </tr>\n",
              "    <tr>\n",
              "      <th>4</th>\n",
              "      <td>Индия</td>\n",
              "      <td>2713</td>\n",
              "      <td>2869</td>\n",
              "    </tr>\n",
              "    <tr>\n",
              "      <th>...</th>\n",
              "      <td>...</td>\n",
              "      <td>...</td>\n",
              "      <td>...</td>\n",
              "    </tr>\n",
              "    <tr>\n",
              "      <th>188</th>\n",
              "      <td>Маршалловы Острова</td>\n",
              "      <td>22</td>\n",
              "      <td>23</td>\n",
              "    </tr>\n",
              "    <tr>\n",
              "      <th>189</th>\n",
              "      <td>Кирибати</td>\n",
              "      <td>2</td>\n",
              "      <td>2</td>\n",
              "    </tr>\n",
              "    <tr>\n",
              "      <th>190</th>\n",
              "      <td>Науру</td>\n",
              "      <td>12</td>\n",
              "      <td>12</td>\n",
              "    </tr>\n",
              "    <tr>\n",
              "      <th>191</th>\n",
              "      <td>Тувалу</td>\n",
              "      <td>5</td>\n",
              "      <td>5</td>\n",
              "    </tr>\n",
              "    <tr>\n",
              "      <th>192</th>\n",
              "      <td>Всего в мире</td>\n",
              "      <td>85690</td>\n",
              "      <td>87552</td>\n",
              "    </tr>\n",
              "  </tbody>\n",
              "</table>\n",
              "<p>193 rows × 3 columns</p>\n",
              "</div>"
            ],
            "text/plain": [
              "                 Страна   2018   2019\n",
              "0                   США  20612  21433\n",
              "1                 Китай  13842  14402\n",
              "2                Япония   4952   5080\n",
              "3              Германия   3966   3862\n",
              "4                 Индия   2713   2869\n",
              "..                  ...    ...    ...\n",
              "188  Маршалловы Острова     22     23\n",
              "189            Кирибати      2      2\n",
              "190               Науру     12     12\n",
              "191              Тувалу      5      5\n",
              "192        Всего в мире  85690  87552\n",
              "\n",
              "[193 rows x 3 columns]"
            ]
          },
          "metadata": {
            "tags": []
          },
          "execution_count": 67
        }
      ]
    },
    {
      "cell_type": "code",
      "metadata": {
        "id": "G3aY7D1oWt0l"
      },
      "source": [
        "df.drop(df.index[len(df)-1])\r\n",
        "df.to_excel('countryAll.xlsx', encoding = 'cp1251')"
      ],
      "execution_count": 68,
      "outputs": []
    },
    {
      "cell_type": "code",
      "metadata": {
        "colab": {
          "base_uri": "https://localhost:8080/",
          "height": 17
        },
        "id": "a-hGgnELXnGb",
        "outputId": "ff207a4b-8481-4003-e507-27f6ef79a1a0"
      },
      "source": [
        "files.download('countryAll.xlsx')"
      ],
      "execution_count": 69,
      "outputs": [
        {
          "output_type": "display_data",
          "data": {
            "application/javascript": [
              "\n",
              "    async function download(id, filename, size) {\n",
              "      if (!google.colab.kernel.accessAllowed) {\n",
              "        return;\n",
              "      }\n",
              "      const div = document.createElement('div');\n",
              "      const label = document.createElement('label');\n",
              "      label.textContent = `Downloading \"${filename}\": `;\n",
              "      div.appendChild(label);\n",
              "      const progress = document.createElement('progress');\n",
              "      progress.max = size;\n",
              "      div.appendChild(progress);\n",
              "      document.body.appendChild(div);\n",
              "\n",
              "      const buffers = [];\n",
              "      let downloaded = 0;\n",
              "\n",
              "      const channel = await google.colab.kernel.comms.open(id);\n",
              "      // Send a message to notify the kernel that we're ready.\n",
              "      channel.send({})\n",
              "\n",
              "      for await (const message of channel.messages) {\n",
              "        // Send a message to notify the kernel that we're ready.\n",
              "        channel.send({})\n",
              "        if (message.buffers) {\n",
              "          for (const buffer of message.buffers) {\n",
              "            buffers.push(buffer);\n",
              "            downloaded += buffer.byteLength;\n",
              "            progress.value = downloaded;\n",
              "          }\n",
              "        }\n",
              "      }\n",
              "      const blob = new Blob(buffers, {type: 'application/binary'});\n",
              "      const a = document.createElement('a');\n",
              "      a.href = window.URL.createObjectURL(blob);\n",
              "      a.download = filename;\n",
              "      div.appendChild(a);\n",
              "      a.click();\n",
              "      div.remove();\n",
              "    }\n",
              "  "
            ],
            "text/plain": [
              "<IPython.core.display.Javascript object>"
            ]
          },
          "metadata": {
            "tags": []
          }
        },
        {
          "output_type": "display_data",
          "data": {
            "application/javascript": [
              "download(\"download_595fde54-7c0c-4285-8147-5bba6fedd3c2\", \"countryAll.xlsx\", 11357)"
            ],
            "text/plain": [
              "<IPython.core.display.Javascript object>"
            ]
          },
          "metadata": {
            "tags": []
          }
        }
      ]
    }
  ]
}