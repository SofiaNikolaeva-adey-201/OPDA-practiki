{
  "nbformat": 4,
  "nbformat_minor": 0,
  "metadata": {
    "colab": {
      "name": "Копия блокнота \"Контроль знаний 1-student.ipynb\"",
      "provenance": [],
      "collapsed_sections": [],
      "include_colab_link": true
    },
    "kernelspec": {
      "name": "python3",
      "display_name": "Python 3"
    }
  },
  "cells": [
    {
      "cell_type": "markdown",
      "metadata": {
        "id": "view-in-github",
        "colab_type": "text"
      },
      "source": [
        "<a href=\"https://colab.research.google.com/github/SofiaNikolaeva-adey-201/OPDA-practiki/blob/19.03/%D0%9A%D0%BE%D0%BF%D0%B8%D1%8F_%D0%B1%D0%BB%D0%BE%D0%BA%D0%BD%D0%BE%D1%82%D0%B0_%22%D0%9A%D0%BE%D0%BD%D1%82%D1%80%D0%BE%D0%BB%D1%8C_%D0%B7%D0%BD%D0%B0%D0%BD%D0%B8%D0%B9_1_student_ipynb%22.ipynb\" target=\"_parent\"><img src=\"https://colab.research.google.com/assets/colab-badge.svg\" alt=\"Open In Colab\"/></a>"
      ]
    },
    {
      "cell_type": "markdown",
      "metadata": {
        "id": "ZpsVwgnETeJG"
      },
      "source": [
        "Вам необходимо загрузить набор данных «**subset-covid-data.csv**», содержащий данные о количестве случаев и смертей, связанных с пандемией **COVID-19**, для разных стран. https://github.com/DataRepo2019/Data-files или  https://github.com/DataRepo2019/Data-files/blob/master/subset-covid-data.csv    \n",
        "\n"
      ]
    },
    {
      "cell_type": "markdown",
      "metadata": {
        "id": "1VkXcRACpx5v"
      },
      "source": [
        "# **ЗАДАНИЕ 1**\n",
        "Напишите функцию / индексатор / атрибут в Pandas для:"
      ]
    },
    {
      "cell_type": "code",
      "metadata": {
        "id": "JDH83dPyJY4r"
      },
      "source": [
        "import numpy as np\n",
        "from scipy.integrate import odeint\n",
        "import matplotlib.pyplot as plt\n",
        "import pandas as pd"
      ],
      "execution_count": 57,
      "outputs": []
    },
    {
      "cell_type": "code",
      "metadata": {
        "id": "aKkc9R8foxAT"
      },
      "source": [
        "# 1.1\tИмпорта данных из файла HTML.\n",
        "# \n",
        "pd.read_html(url)"
      ],
      "execution_count": null,
      "outputs": []
    },
    {
      "cell_type": "code",
      "metadata": {
        "id": "NEFyE2SRqcUy"
      },
      "source": [
        "# 1.2\tЭкспорта данных в файл Excel.\n",
        "df.to_excel('filename.xlsx', encoding = 'cp1251')\n",
        "files.download('filename.xlsx')"
      ],
      "execution_count": null,
      "outputs": []
    },
    {
      "cell_type": "code",
      "metadata": {
        "id": "LtxyhFuxqmFg"
      },
      "source": [
        "# 1.3\tВыбора данных с использованием позиции индекса.\n",
        "a = df[\"name_of_column\"]"
      ],
      "execution_count": null,
      "outputs": []
    },
    {
      "cell_type": "code",
      "metadata": {
        "id": "R3hyPjSWUC65"
      },
      "source": [
        "# 1.4\tВыбора данных по метке.\n",
        "df.loc()"
      ],
      "execution_count": null,
      "outputs": []
    },
    {
      "cell_type": "code",
      "metadata": {
        "id": "Jlk2Vhy1UDy1"
      },
      "source": [
        "# 1.5\tЗамены нулевых значений медианой.\n",
        "df.fillna(df.mean())"
      ],
      "execution_count": null,
      "outputs": []
    },
    {
      "cell_type": "code",
      "metadata": {
        "id": "PVgOLPfzUD97"
      },
      "source": [
        "# 1.6\tПереименования столбцов.\n",
        "df.rename(columns={\"A\": \"a\", \"B\": \"c\"})"
      ],
      "execution_count": null,
      "outputs": []
    },
    {
      "cell_type": "code",
      "metadata": {
        "id": "Xvi0aqmpUEIw"
      },
      "source": [
        "# 1.7\tПолучения количества строк и столбцов в DataFrame.\n",
        "df.shape()\n",
        "df.apply()"
      ],
      "execution_count": null,
      "outputs": []
    },
    {
      "cell_type": "code",
      "metadata": {
        "id": "l6eP6khNUESx"
      },
      "source": [
        "# 1.8\tПреобразования в широкоформатный формат с помощью функции поворота.\n",
        "df.pivot_table()"
      ],
      "execution_count": null,
      "outputs": []
    },
    {
      "cell_type": "code",
      "metadata": {
        "id": "KPUJxDYyUFQw"
      },
      "source": [
        "# 1.9\tВыполнения внутреннего соединения двух таблиц.\n",
        "df1.merge(df2, how = 'inner')\n",
        "#или\n",
        "df1.merge(df2)"
      ],
      "execution_count": null,
      "outputs": []
    },
    {
      "cell_type": "code",
      "metadata": {
        "id": "wYmXODuMUFbg"
      },
      "source": [
        "# 1.10\tИзменение типа данных серии.\n",
        "df.to_numeric()\n",
        "df.astype()"
      ],
      "execution_count": null,
      "outputs": []
    },
    {
      "cell_type": "markdown",
      "metadata": {
        "id": "HR8X48IK5DxM"
      },
      "source": [
        "# **ЗАДАНИЕ 2**\n",
        "Функция **df.describe()** возвращает следующие сводные статистические значения: количество, минимум, максимум, стандартное отклонение, процентили и средние значения.\n"
      ]
    },
    {
      "cell_type": "code",
      "metadata": {
        "id": "mPNHMya6qp-m"
      },
      "source": [
        "# 2.1 Какой параметр вы бы добавили, чтобы получить следующее:\n",
        "# количество уникальных значений, значение, которое встречается чаще всего,\n",
        "df.name_of_column.unique()\n",
        "#количество уникальных значений unique\n",
        "#значение, которое встречается чаще всего top\n",
        "# и частота этого значения freq\n",
        "\n",
        "# ваш код"
      ],
      "execution_count": null,
      "outputs": []
    },
    {
      "cell_type": "markdown",
      "metadata": {
        "id": "rSFJSILTDL28"
      },
      "source": [
        "# **ЗАДАНИЕ  3**\n",
        "Импортируйте «**subset-covid-data.csv**» в **DataFrame**. Выберите следующие данные:\n"
      ]
    },
    {
      "cell_type": "code",
      "metadata": {
        "id": "UeMH-JXpKX0B",
        "colab": {
          "resources": {
            "http://localhost:8080/nbextensions/google.colab/files.js": {
              "data": "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",
              "ok": true,
              "headers": [
                [
                  "content-type",
                  "application/javascript"
                ]
              ],
              "status": 200,
              "status_text": ""
            }
          },
          "base_uri": "https://localhost:8080/",
          "height": 73
        },
        "outputId": "f949af22-9dc8-4e51-87e7-5c2754ea8c69"
      },
      "source": [
        "from google.colab import files\n",
        "uploaded = files.upload()"
      ],
      "execution_count": 2,
      "outputs": [
        {
          "output_type": "display_data",
          "data": {
            "text/html": [
              "\n",
              "     <input type=\"file\" id=\"files-39aa612d-45a9-489a-bdfb-58317e5b2aa7\" name=\"files[]\" multiple disabled\n",
              "        style=\"border:none\" />\n",
              "     <output id=\"result-39aa612d-45a9-489a-bdfb-58317e5b2aa7\">\n",
              "      Upload widget is only available when the cell has been executed in the\n",
              "      current browser session. Please rerun this cell to enable.\n",
              "      </output>\n",
              "      <script src=\"/nbextensions/google.colab/files.js\"></script> "
            ],
            "text/plain": [
              "<IPython.core.display.HTML object>"
            ]
          },
          "metadata": {
            "tags": []
          }
        },
        {
          "output_type": "stream",
          "text": [
            "Saving subset-covid-data.csv to subset-covid-data.csv\n"
          ],
          "name": "stdout"
        }
      ]
    },
    {
      "cell_type": "code",
      "metadata": {
        "colab": {
          "base_uri": "https://localhost:8080/",
          "height": 399
        },
        "id": "lwlFBHPpUONm",
        "outputId": "b8daf48b-8fa7-4f16-b4cf-68c03d71893c"
      },
      "source": [
        "df = pd.read_csv(\"subset-covid-data.csv\", sep = ',')\n",
        "df"
      ],
      "execution_count": 3,
      "outputs": [
        {
          "output_type": "execute_result",
          "data": {
            "text/html": [
              "<div>\n",
              "<style scoped>\n",
              "    .dataframe tbody tr th:only-of-type {\n",
              "        vertical-align: middle;\n",
              "    }\n",
              "\n",
              "    .dataframe tbody tr th {\n",
              "        vertical-align: top;\n",
              "    }\n",
              "\n",
              "    .dataframe thead th {\n",
              "        text-align: right;\n",
              "    }\n",
              "</style>\n",
              "<table border=\"1\" class=\"dataframe\">\n",
              "  <thead>\n",
              "    <tr style=\"text-align: right;\">\n",
              "      <th></th>\n",
              "      <th>country</th>\n",
              "      <th>continent</th>\n",
              "      <th>date</th>\n",
              "      <th>day</th>\n",
              "      <th>month</th>\n",
              "      <th>year</th>\n",
              "      <th>cases</th>\n",
              "      <th>deaths</th>\n",
              "      <th>country_code</th>\n",
              "      <th>population</th>\n",
              "    </tr>\n",
              "  </thead>\n",
              "  <tbody>\n",
              "    <tr>\n",
              "      <th>0</th>\n",
              "      <td>Afghanistan</td>\n",
              "      <td>Asia</td>\n",
              "      <td>2020-04-12</td>\n",
              "      <td>12</td>\n",
              "      <td>4</td>\n",
              "      <td>2020</td>\n",
              "      <td>34</td>\n",
              "      <td>3</td>\n",
              "      <td>AFG</td>\n",
              "      <td>37172386.0</td>\n",
              "    </tr>\n",
              "    <tr>\n",
              "      <th>1</th>\n",
              "      <td>Albania</td>\n",
              "      <td>Europe</td>\n",
              "      <td>2020-04-12</td>\n",
              "      <td>12</td>\n",
              "      <td>4</td>\n",
              "      <td>2020</td>\n",
              "      <td>17</td>\n",
              "      <td>0</td>\n",
              "      <td>ALB</td>\n",
              "      <td>2866376.0</td>\n",
              "    </tr>\n",
              "    <tr>\n",
              "      <th>2</th>\n",
              "      <td>Algeria</td>\n",
              "      <td>Africa</td>\n",
              "      <td>2020-04-12</td>\n",
              "      <td>12</td>\n",
              "      <td>4</td>\n",
              "      <td>2020</td>\n",
              "      <td>64</td>\n",
              "      <td>19</td>\n",
              "      <td>DZA</td>\n",
              "      <td>42228429.0</td>\n",
              "    </tr>\n",
              "    <tr>\n",
              "      <th>3</th>\n",
              "      <td>Andorra</td>\n",
              "      <td>Europe</td>\n",
              "      <td>2020-04-12</td>\n",
              "      <td>12</td>\n",
              "      <td>4</td>\n",
              "      <td>2020</td>\n",
              "      <td>21</td>\n",
              "      <td>2</td>\n",
              "      <td>AND</td>\n",
              "      <td>77006.0</td>\n",
              "    </tr>\n",
              "    <tr>\n",
              "      <th>4</th>\n",
              "      <td>Angola</td>\n",
              "      <td>Africa</td>\n",
              "      <td>2020-04-12</td>\n",
              "      <td>12</td>\n",
              "      <td>4</td>\n",
              "      <td>2020</td>\n",
              "      <td>0</td>\n",
              "      <td>0</td>\n",
              "      <td>AGO</td>\n",
              "      <td>30809762.0</td>\n",
              "    </tr>\n",
              "    <tr>\n",
              "      <th>...</th>\n",
              "      <td>...</td>\n",
              "      <td>...</td>\n",
              "      <td>...</td>\n",
              "      <td>...</td>\n",
              "      <td>...</td>\n",
              "      <td>...</td>\n",
              "      <td>...</td>\n",
              "      <td>...</td>\n",
              "      <td>...</td>\n",
              "      <td>...</td>\n",
              "    </tr>\n",
              "    <tr>\n",
              "      <th>201</th>\n",
              "      <td>Venezuela</td>\n",
              "      <td>America</td>\n",
              "      <td>2020-04-12</td>\n",
              "      <td>12</td>\n",
              "      <td>4</td>\n",
              "      <td>2020</td>\n",
              "      <td>0</td>\n",
              "      <td>0</td>\n",
              "      <td>VEN</td>\n",
              "      <td>28870195.0</td>\n",
              "    </tr>\n",
              "    <tr>\n",
              "      <th>202</th>\n",
              "      <td>Vietnam</td>\n",
              "      <td>Asia</td>\n",
              "      <td>2020-04-12</td>\n",
              "      <td>12</td>\n",
              "      <td>4</td>\n",
              "      <td>2020</td>\n",
              "      <td>4</td>\n",
              "      <td>0</td>\n",
              "      <td>VNM</td>\n",
              "      <td>95540395.0</td>\n",
              "    </tr>\n",
              "    <tr>\n",
              "      <th>203</th>\n",
              "      <td>Yemen</td>\n",
              "      <td>Asia</td>\n",
              "      <td>2020-04-12</td>\n",
              "      <td>12</td>\n",
              "      <td>4</td>\n",
              "      <td>2020</td>\n",
              "      <td>0</td>\n",
              "      <td>0</td>\n",
              "      <td>YEM</td>\n",
              "      <td>28498687.0</td>\n",
              "    </tr>\n",
              "    <tr>\n",
              "      <th>204</th>\n",
              "      <td>Zambia</td>\n",
              "      <td>Africa</td>\n",
              "      <td>2020-04-12</td>\n",
              "      <td>12</td>\n",
              "      <td>4</td>\n",
              "      <td>2020</td>\n",
              "      <td>0</td>\n",
              "      <td>0</td>\n",
              "      <td>ZMB</td>\n",
              "      <td>17351822.0</td>\n",
              "    </tr>\n",
              "    <tr>\n",
              "      <th>205</th>\n",
              "      <td>Zimbabwe</td>\n",
              "      <td>Africa</td>\n",
              "      <td>2020-04-12</td>\n",
              "      <td>12</td>\n",
              "      <td>4</td>\n",
              "      <td>2020</td>\n",
              "      <td>3</td>\n",
              "      <td>0</td>\n",
              "      <td>ZWE</td>\n",
              "      <td>14439018.0</td>\n",
              "    </tr>\n",
              "  </tbody>\n",
              "</table>\n",
              "<p>206 rows × 10 columns</p>\n",
              "</div>"
            ],
            "text/plain": [
              "         country continent        date  ...  deaths  country_code  population\n",
              "0    Afghanistan      Asia  2020-04-12  ...       3           AFG  37172386.0\n",
              "1        Albania    Europe  2020-04-12  ...       0           ALB   2866376.0\n",
              "2        Algeria    Africa  2020-04-12  ...      19           DZA  42228429.0\n",
              "3        Andorra    Europe  2020-04-12  ...       2           AND     77006.0\n",
              "4         Angola    Africa  2020-04-12  ...       0           AGO  30809762.0\n",
              "..           ...       ...         ...  ...     ...           ...         ...\n",
              "201    Venezuela   America  2020-04-12  ...       0           VEN  28870195.0\n",
              "202      Vietnam      Asia  2020-04-12  ...       0           VNM  95540395.0\n",
              "203        Yemen      Asia  2020-04-12  ...       0           YEM  28498687.0\n",
              "204       Zambia    Africa  2020-04-12  ...       0           ZMB  17351822.0\n",
              "205     Zimbabwe    Africa  2020-04-12  ...       0           ZWE  14439018.0\n",
              "\n",
              "[206 rows x 10 columns]"
            ]
          },
          "metadata": {
            "tags": []
          },
          "execution_count": 3
        }
      ]
    },
    {
      "cell_type": "code",
      "metadata": {
        "id": "YRhGtwGSDP6Y",
        "colab": {
          "base_uri": "https://localhost:8080/"
        },
        "outputId": "70111c45-f9de-4a5e-d5d8-4033a096755b"
      },
      "source": [
        "# 3.1\tСтолбцы  'country'  и 'continent'.\n",
        "\n",
        "df['country']"
      ],
      "execution_count": 4,
      "outputs": [
        {
          "output_type": "execute_result",
          "data": {
            "text/plain": [
              "0      Afghanistan\n",
              "1          Albania\n",
              "2          Algeria\n",
              "3          Andorra\n",
              "4           Angola\n",
              "          ...     \n",
              "201      Venezuela\n",
              "202        Vietnam\n",
              "203          Yemen\n",
              "204         Zambia\n",
              "205       Zimbabwe\n",
              "Name: country, Length: 206, dtype: object"
            ]
          },
          "metadata": {
            "tags": []
          },
          "execution_count": 4
        }
      ]
    },
    {
      "cell_type": "code",
      "metadata": {
        "colab": {
          "base_uri": "https://localhost:8080/"
        },
        "id": "MtNXJRQ1UsIn",
        "outputId": "8e1f0146-02ef-4992-9631-8278128c2281"
      },
      "source": [
        "df['continent']"
      ],
      "execution_count": 5,
      "outputs": [
        {
          "output_type": "execute_result",
          "data": {
            "text/plain": [
              "0         Asia\n",
              "1       Europe\n",
              "2       Africa\n",
              "3       Europe\n",
              "4       Africa\n",
              "        ...   \n",
              "201    America\n",
              "202       Asia\n",
              "203       Asia\n",
              "204     Africa\n",
              "205     Africa\n",
              "Name: continent, Length: 206, dtype: object"
            ]
          },
          "metadata": {
            "tags": []
          },
          "execution_count": 5
        }
      ]
    },
    {
      "cell_type": "code",
      "metadata": {
        "colab": {
          "base_uri": "https://localhost:8080/",
          "height": 399
        },
        "id": "RdUIGJOTUxKM",
        "outputId": "4a4ef878-5fb4-404c-c2c2-470d5a0cd330"
      },
      "source": [
        "df1 = df[df.columns[0:2]]\n",
        "df1"
      ],
      "execution_count": 9,
      "outputs": [
        {
          "output_type": "execute_result",
          "data": {
            "text/html": [
              "<div>\n",
              "<style scoped>\n",
              "    .dataframe tbody tr th:only-of-type {\n",
              "        vertical-align: middle;\n",
              "    }\n",
              "\n",
              "    .dataframe tbody tr th {\n",
              "        vertical-align: top;\n",
              "    }\n",
              "\n",
              "    .dataframe thead th {\n",
              "        text-align: right;\n",
              "    }\n",
              "</style>\n",
              "<table border=\"1\" class=\"dataframe\">\n",
              "  <thead>\n",
              "    <tr style=\"text-align: right;\">\n",
              "      <th></th>\n",
              "      <th>country</th>\n",
              "      <th>continent</th>\n",
              "    </tr>\n",
              "  </thead>\n",
              "  <tbody>\n",
              "    <tr>\n",
              "      <th>0</th>\n",
              "      <td>Afghanistan</td>\n",
              "      <td>Asia</td>\n",
              "    </tr>\n",
              "    <tr>\n",
              "      <th>1</th>\n",
              "      <td>Albania</td>\n",
              "      <td>Europe</td>\n",
              "    </tr>\n",
              "    <tr>\n",
              "      <th>2</th>\n",
              "      <td>Algeria</td>\n",
              "      <td>Africa</td>\n",
              "    </tr>\n",
              "    <tr>\n",
              "      <th>3</th>\n",
              "      <td>Andorra</td>\n",
              "      <td>Europe</td>\n",
              "    </tr>\n",
              "    <tr>\n",
              "      <th>4</th>\n",
              "      <td>Angola</td>\n",
              "      <td>Africa</td>\n",
              "    </tr>\n",
              "    <tr>\n",
              "      <th>...</th>\n",
              "      <td>...</td>\n",
              "      <td>...</td>\n",
              "    </tr>\n",
              "    <tr>\n",
              "      <th>201</th>\n",
              "      <td>Venezuela</td>\n",
              "      <td>America</td>\n",
              "    </tr>\n",
              "    <tr>\n",
              "      <th>202</th>\n",
              "      <td>Vietnam</td>\n",
              "      <td>Asia</td>\n",
              "    </tr>\n",
              "    <tr>\n",
              "      <th>203</th>\n",
              "      <td>Yemen</td>\n",
              "      <td>Asia</td>\n",
              "    </tr>\n",
              "    <tr>\n",
              "      <th>204</th>\n",
              "      <td>Zambia</td>\n",
              "      <td>Africa</td>\n",
              "    </tr>\n",
              "    <tr>\n",
              "      <th>205</th>\n",
              "      <td>Zimbabwe</td>\n",
              "      <td>Africa</td>\n",
              "    </tr>\n",
              "  </tbody>\n",
              "</table>\n",
              "<p>206 rows × 2 columns</p>\n",
              "</div>"
            ],
            "text/plain": [
              "         country continent\n",
              "0    Afghanistan      Asia\n",
              "1        Albania    Europe\n",
              "2        Algeria    Africa\n",
              "3        Andorra    Europe\n",
              "4         Angola    Africa\n",
              "..           ...       ...\n",
              "201    Venezuela   America\n",
              "202      Vietnam      Asia\n",
              "203        Yemen      Asia\n",
              "204       Zambia    Africa\n",
              "205     Zimbabwe    Africa\n",
              "\n",
              "[206 rows x 2 columns]"
            ]
          },
          "metadata": {
            "tags": []
          },
          "execution_count": 9
        }
      ]
    },
    {
      "cell_type": "code",
      "metadata": {
        "id": "w_k2zEf5DXOT",
        "colab": {
          "base_uri": "https://localhost:8080/",
          "height": 428
        },
        "outputId": "cc709be1-43e5-4a03-a6df-3e3f9e378770"
      },
      "source": [
        "# 3.2\tУстановите столбец 'country' в качестве индекса и извлеките численность населения, \n",
        "# для страны “Algeria” с помощью индексаторов at или loc.\n",
        "\n",
        "df = df.set_index(df['country'])\n",
        "df"
      ],
      "execution_count": 13,
      "outputs": [
        {
          "output_type": "execute_result",
          "data": {
            "text/html": [
              "<div>\n",
              "<style scoped>\n",
              "    .dataframe tbody tr th:only-of-type {\n",
              "        vertical-align: middle;\n",
              "    }\n",
              "\n",
              "    .dataframe tbody tr th {\n",
              "        vertical-align: top;\n",
              "    }\n",
              "\n",
              "    .dataframe thead th {\n",
              "        text-align: right;\n",
              "    }\n",
              "</style>\n",
              "<table border=\"1\" class=\"dataframe\">\n",
              "  <thead>\n",
              "    <tr style=\"text-align: right;\">\n",
              "      <th></th>\n",
              "      <th>country</th>\n",
              "      <th>continent</th>\n",
              "      <th>date</th>\n",
              "      <th>day</th>\n",
              "      <th>month</th>\n",
              "      <th>year</th>\n",
              "      <th>cases</th>\n",
              "      <th>deaths</th>\n",
              "      <th>country_code</th>\n",
              "      <th>population</th>\n",
              "    </tr>\n",
              "    <tr>\n",
              "      <th>country</th>\n",
              "      <th></th>\n",
              "      <th></th>\n",
              "      <th></th>\n",
              "      <th></th>\n",
              "      <th></th>\n",
              "      <th></th>\n",
              "      <th></th>\n",
              "      <th></th>\n",
              "      <th></th>\n",
              "      <th></th>\n",
              "    </tr>\n",
              "  </thead>\n",
              "  <tbody>\n",
              "    <tr>\n",
              "      <th>Afghanistan</th>\n",
              "      <td>Afghanistan</td>\n",
              "      <td>Asia</td>\n",
              "      <td>2020-04-12</td>\n",
              "      <td>12</td>\n",
              "      <td>4</td>\n",
              "      <td>2020</td>\n",
              "      <td>34</td>\n",
              "      <td>3</td>\n",
              "      <td>AFG</td>\n",
              "      <td>37172386.0</td>\n",
              "    </tr>\n",
              "    <tr>\n",
              "      <th>Albania</th>\n",
              "      <td>Albania</td>\n",
              "      <td>Europe</td>\n",
              "      <td>2020-04-12</td>\n",
              "      <td>12</td>\n",
              "      <td>4</td>\n",
              "      <td>2020</td>\n",
              "      <td>17</td>\n",
              "      <td>0</td>\n",
              "      <td>ALB</td>\n",
              "      <td>2866376.0</td>\n",
              "    </tr>\n",
              "    <tr>\n",
              "      <th>Algeria</th>\n",
              "      <td>Algeria</td>\n",
              "      <td>Africa</td>\n",
              "      <td>2020-04-12</td>\n",
              "      <td>12</td>\n",
              "      <td>4</td>\n",
              "      <td>2020</td>\n",
              "      <td>64</td>\n",
              "      <td>19</td>\n",
              "      <td>DZA</td>\n",
              "      <td>42228429.0</td>\n",
              "    </tr>\n",
              "    <tr>\n",
              "      <th>Andorra</th>\n",
              "      <td>Andorra</td>\n",
              "      <td>Europe</td>\n",
              "      <td>2020-04-12</td>\n",
              "      <td>12</td>\n",
              "      <td>4</td>\n",
              "      <td>2020</td>\n",
              "      <td>21</td>\n",
              "      <td>2</td>\n",
              "      <td>AND</td>\n",
              "      <td>77006.0</td>\n",
              "    </tr>\n",
              "    <tr>\n",
              "      <th>Angola</th>\n",
              "      <td>Angola</td>\n",
              "      <td>Africa</td>\n",
              "      <td>2020-04-12</td>\n",
              "      <td>12</td>\n",
              "      <td>4</td>\n",
              "      <td>2020</td>\n",
              "      <td>0</td>\n",
              "      <td>0</td>\n",
              "      <td>AGO</td>\n",
              "      <td>30809762.0</td>\n",
              "    </tr>\n",
              "    <tr>\n",
              "      <th>...</th>\n",
              "      <td>...</td>\n",
              "      <td>...</td>\n",
              "      <td>...</td>\n",
              "      <td>...</td>\n",
              "      <td>...</td>\n",
              "      <td>...</td>\n",
              "      <td>...</td>\n",
              "      <td>...</td>\n",
              "      <td>...</td>\n",
              "      <td>...</td>\n",
              "    </tr>\n",
              "    <tr>\n",
              "      <th>Venezuela</th>\n",
              "      <td>Venezuela</td>\n",
              "      <td>America</td>\n",
              "      <td>2020-04-12</td>\n",
              "      <td>12</td>\n",
              "      <td>4</td>\n",
              "      <td>2020</td>\n",
              "      <td>0</td>\n",
              "      <td>0</td>\n",
              "      <td>VEN</td>\n",
              "      <td>28870195.0</td>\n",
              "    </tr>\n",
              "    <tr>\n",
              "      <th>Vietnam</th>\n",
              "      <td>Vietnam</td>\n",
              "      <td>Asia</td>\n",
              "      <td>2020-04-12</td>\n",
              "      <td>12</td>\n",
              "      <td>4</td>\n",
              "      <td>2020</td>\n",
              "      <td>4</td>\n",
              "      <td>0</td>\n",
              "      <td>VNM</td>\n",
              "      <td>95540395.0</td>\n",
              "    </tr>\n",
              "    <tr>\n",
              "      <th>Yemen</th>\n",
              "      <td>Yemen</td>\n",
              "      <td>Asia</td>\n",
              "      <td>2020-04-12</td>\n",
              "      <td>12</td>\n",
              "      <td>4</td>\n",
              "      <td>2020</td>\n",
              "      <td>0</td>\n",
              "      <td>0</td>\n",
              "      <td>YEM</td>\n",
              "      <td>28498687.0</td>\n",
              "    </tr>\n",
              "    <tr>\n",
              "      <th>Zambia</th>\n",
              "      <td>Zambia</td>\n",
              "      <td>Africa</td>\n",
              "      <td>2020-04-12</td>\n",
              "      <td>12</td>\n",
              "      <td>4</td>\n",
              "      <td>2020</td>\n",
              "      <td>0</td>\n",
              "      <td>0</td>\n",
              "      <td>ZMB</td>\n",
              "      <td>17351822.0</td>\n",
              "    </tr>\n",
              "    <tr>\n",
              "      <th>Zimbabwe</th>\n",
              "      <td>Zimbabwe</td>\n",
              "      <td>Africa</td>\n",
              "      <td>2020-04-12</td>\n",
              "      <td>12</td>\n",
              "      <td>4</td>\n",
              "      <td>2020</td>\n",
              "      <td>3</td>\n",
              "      <td>0</td>\n",
              "      <td>ZWE</td>\n",
              "      <td>14439018.0</td>\n",
              "    </tr>\n",
              "  </tbody>\n",
              "</table>\n",
              "<p>206 rows × 10 columns</p>\n",
              "</div>"
            ],
            "text/plain": [
              "                 country continent        date  ...  deaths  country_code  population\n",
              "country                                         ...                                  \n",
              "Afghanistan  Afghanistan      Asia  2020-04-12  ...       3           AFG  37172386.0\n",
              "Albania          Albania    Europe  2020-04-12  ...       0           ALB   2866376.0\n",
              "Algeria          Algeria    Africa  2020-04-12  ...      19           DZA  42228429.0\n",
              "Andorra          Andorra    Europe  2020-04-12  ...       2           AND     77006.0\n",
              "Angola            Angola    Africa  2020-04-12  ...       0           AGO  30809762.0\n",
              "...                  ...       ...         ...  ...     ...           ...         ...\n",
              "Venezuela      Venezuela   America  2020-04-12  ...       0           VEN  28870195.0\n",
              "Vietnam          Vietnam      Asia  2020-04-12  ...       0           VNM  95540395.0\n",
              "Yemen              Yemen      Asia  2020-04-12  ...       0           YEM  28498687.0\n",
              "Zambia            Zambia    Africa  2020-04-12  ...       0           ZMB  17351822.0\n",
              "Zimbabwe        Zimbabwe    Africa  2020-04-12  ...       0           ZWE  14439018.0\n",
              "\n",
              "[206 rows x 10 columns]"
            ]
          },
          "metadata": {
            "tags": []
          },
          "execution_count": 13
        }
      ]
    },
    {
      "cell_type": "code",
      "metadata": {
        "colab": {
          "base_uri": "https://localhost:8080/"
        },
        "id": "aixKEFwMWw6K",
        "outputId": "55915f0c-b1b3-4093-979b-2dd9a4eba042"
      },
      "source": [
        "df.loc['Algeria', 'population']"
      ],
      "execution_count": 14,
      "outputs": [
        {
          "output_type": "execute_result",
          "data": {
            "text/plain": [
              "42228429.0"
            ]
          },
          "metadata": {
            "tags": []
          },
          "execution_count": 14
        }
      ]
    },
    {
      "cell_type": "code",
      "metadata": {
        "id": "Ultez7AEDeX8",
        "colab": {
          "base_uri": "https://localhost:8080/"
        },
        "outputId": "e90d9837-b89d-4b5d-b92b-1191a3c4e9f5"
      },
      "source": [
        "# 3.4\tВыберите значение в 50-й строке и 3-м столбце с помощью iloc или индексатора iat.\n",
        "\n",
        "df.iloc[50, 3]"
      ],
      "execution_count": 15,
      "outputs": [
        {
          "output_type": "execute_result",
          "data": {
            "text/plain": [
              "12"
            ]
          },
          "metadata": {
            "tags": []
          },
          "execution_count": 15
        }
      ]
    },
    {
      "cell_type": "code",
      "metadata": {
        "id": "A0C-5OPrHc_b",
        "colab": {
          "base_uri": "https://localhost:8080/",
          "height": 164
        },
        "outputId": "3172fac6-5b75-4634-9fd7-a2db6bbf5184"
      },
      "source": [
        "# 3.4\tПолучите код страны и данные о населении последних трех записей.\n",
        "\n",
        "df[df.columns[8:10]].tail(3)"
      ],
      "execution_count": 20,
      "outputs": [
        {
          "output_type": "execute_result",
          "data": {
            "text/html": [
              "<div>\n",
              "<style scoped>\n",
              "    .dataframe tbody tr th:only-of-type {\n",
              "        vertical-align: middle;\n",
              "    }\n",
              "\n",
              "    .dataframe tbody tr th {\n",
              "        vertical-align: top;\n",
              "    }\n",
              "\n",
              "    .dataframe thead th {\n",
              "        text-align: right;\n",
              "    }\n",
              "</style>\n",
              "<table border=\"1\" class=\"dataframe\">\n",
              "  <thead>\n",
              "    <tr style=\"text-align: right;\">\n",
              "      <th></th>\n",
              "      <th>country_code</th>\n",
              "      <th>population</th>\n",
              "    </tr>\n",
              "    <tr>\n",
              "      <th>country</th>\n",
              "      <th></th>\n",
              "      <th></th>\n",
              "    </tr>\n",
              "  </thead>\n",
              "  <tbody>\n",
              "    <tr>\n",
              "      <th>Yemen</th>\n",
              "      <td>YEM</td>\n",
              "      <td>28498687.0</td>\n",
              "    </tr>\n",
              "    <tr>\n",
              "      <th>Zambia</th>\n",
              "      <td>ZMB</td>\n",
              "      <td>17351822.0</td>\n",
              "    </tr>\n",
              "    <tr>\n",
              "      <th>Zimbabwe</th>\n",
              "      <td>ZWE</td>\n",
              "      <td>14439018.0</td>\n",
              "    </tr>\n",
              "  </tbody>\n",
              "</table>\n",
              "</div>"
            ],
            "text/plain": [
              "         country_code  population\n",
              "country                          \n",
              "Yemen             YEM  28498687.0\n",
              "Zambia            ZMB  17351822.0\n",
              "Zimbabwe          ZWE  14439018.0"
            ]
          },
          "metadata": {
            "tags": []
          },
          "execution_count": 20
        }
      ]
    },
    {
      "cell_type": "code",
      "metadata": {
        "id": "kdlm-VI_H57s",
        "colab": {
          "base_uri": "https://localhost:8080/",
          "height": 252
        },
        "outputId": "ab2fb820-3a4a-4905-b9a9-1b53079dafdc"
      },
      "source": [
        "# 3.5\tВыберите данные для стран с большим населением: более 2,5 миллионов, а количество заболевших - более 3000.\n",
        "\n",
        "rslt_df = df[(df['population'] > 2500000) & (df['cases'] > 3000)]\n",
        "rslt_df"
      ],
      "execution_count": 21,
      "outputs": [
        {
          "output_type": "execute_result",
          "data": {
            "text/html": [
              "<div>\n",
              "<style scoped>\n",
              "    .dataframe tbody tr th:only-of-type {\n",
              "        vertical-align: middle;\n",
              "    }\n",
              "\n",
              "    .dataframe tbody tr th {\n",
              "        vertical-align: top;\n",
              "    }\n",
              "\n",
              "    .dataframe thead th {\n",
              "        text-align: right;\n",
              "    }\n",
              "</style>\n",
              "<table border=\"1\" class=\"dataframe\">\n",
              "  <thead>\n",
              "    <tr style=\"text-align: right;\">\n",
              "      <th></th>\n",
              "      <th>country</th>\n",
              "      <th>continent</th>\n",
              "      <th>date</th>\n",
              "      <th>day</th>\n",
              "      <th>month</th>\n",
              "      <th>year</th>\n",
              "      <th>cases</th>\n",
              "      <th>deaths</th>\n",
              "      <th>country_code</th>\n",
              "      <th>population</th>\n",
              "    </tr>\n",
              "    <tr>\n",
              "      <th>country</th>\n",
              "      <th></th>\n",
              "      <th></th>\n",
              "      <th></th>\n",
              "      <th></th>\n",
              "      <th></th>\n",
              "      <th></th>\n",
              "      <th></th>\n",
              "      <th></th>\n",
              "      <th></th>\n",
              "      <th></th>\n",
              "    </tr>\n",
              "  </thead>\n",
              "  <tbody>\n",
              "    <tr>\n",
              "      <th>France</th>\n",
              "      <td>France</td>\n",
              "      <td>Europe</td>\n",
              "      <td>2020-04-12</td>\n",
              "      <td>12</td>\n",
              "      <td>4</td>\n",
              "      <td>2020</td>\n",
              "      <td>3114</td>\n",
              "      <td>635</td>\n",
              "      <td>FRA</td>\n",
              "      <td>66987244.0</td>\n",
              "    </tr>\n",
              "    <tr>\n",
              "      <th>Italy</th>\n",
              "      <td>Italy</td>\n",
              "      <td>Europe</td>\n",
              "      <td>2020-04-12</td>\n",
              "      <td>12</td>\n",
              "      <td>4</td>\n",
              "      <td>2020</td>\n",
              "      <td>4694</td>\n",
              "      <td>619</td>\n",
              "      <td>ITA</td>\n",
              "      <td>60431283.0</td>\n",
              "    </tr>\n",
              "    <tr>\n",
              "      <th>Spain</th>\n",
              "      <td>Spain</td>\n",
              "      <td>Europe</td>\n",
              "      <td>2020-04-11</td>\n",
              "      <td>11</td>\n",
              "      <td>4</td>\n",
              "      <td>2020</td>\n",
              "      <td>4550</td>\n",
              "      <td>605</td>\n",
              "      <td>ESP</td>\n",
              "      <td>46723749.0</td>\n",
              "    </tr>\n",
              "    <tr>\n",
              "      <th>Turkey</th>\n",
              "      <td>Turkey</td>\n",
              "      <td>Asia</td>\n",
              "      <td>2020-04-12</td>\n",
              "      <td>12</td>\n",
              "      <td>4</td>\n",
              "      <td>2020</td>\n",
              "      <td>5138</td>\n",
              "      <td>95</td>\n",
              "      <td>TUR</td>\n",
              "      <td>82319724.0</td>\n",
              "    </tr>\n",
              "    <tr>\n",
              "      <th>United_Kingdom</th>\n",
              "      <td>United_Kingdom</td>\n",
              "      <td>Europe</td>\n",
              "      <td>2020-04-12</td>\n",
              "      <td>12</td>\n",
              "      <td>4</td>\n",
              "      <td>2020</td>\n",
              "      <td>8719</td>\n",
              "      <td>839</td>\n",
              "      <td>GBR</td>\n",
              "      <td>66488991.0</td>\n",
              "    </tr>\n",
              "    <tr>\n",
              "      <th>United_States_of_America</th>\n",
              "      <td>United_States_of_America</td>\n",
              "      <td>America</td>\n",
              "      <td>2020-04-12</td>\n",
              "      <td>12</td>\n",
              "      <td>4</td>\n",
              "      <td>2020</td>\n",
              "      <td>28391</td>\n",
              "      <td>1831</td>\n",
              "      <td>USA</td>\n",
              "      <td>327167434.0</td>\n",
              "    </tr>\n",
              "  </tbody>\n",
              "</table>\n",
              "</div>"
            ],
            "text/plain": [
              "                                           country  ...   population\n",
              "country                                             ...             \n",
              "France                                      France  ...   66987244.0\n",
              "Italy                                        Italy  ...   60431283.0\n",
              "Spain                                        Spain  ...   46723749.0\n",
              "Turkey                                      Turkey  ...   82319724.0\n",
              "United_Kingdom                      United_Kingdom  ...   66488991.0\n",
              "United_States_of_America  United_States_of_America  ...  327167434.0\n",
              "\n",
              "[6 rows x 10 columns]"
            ]
          },
          "metadata": {
            "tags": []
          },
          "execution_count": 21
        }
      ]
    },
    {
      "cell_type": "markdown",
      "metadata": {
        "id": "UvDAVxdGuqM1"
      },
      "source": [
        "# **ЗАДАНИЕ 4**\n",
        "Импортируйте данные для файла «**subset-covid-data.csv**» в DataFrame и напишите код для следующего:"
      ]
    },
    {
      "cell_type": "code",
      "metadata": {
        "id": "oEZ50WSUu6p3",
        "colab": {
          "base_uri": "https://localhost:8080/"
        },
        "outputId": "55cb7a6a-8a88-4eeb-cb6d-b037ddcdb534"
      },
      "source": [
        "# 4.1. Удалить столбец «country_code».\n",
        "\n",
        "delited = df['country_code']\n",
        "delited"
      ],
      "execution_count": 22,
      "outputs": [
        {
          "output_type": "execute_result",
          "data": {
            "text/plain": [
              "country\n",
              "Afghanistan    AFG\n",
              "Albania        ALB\n",
              "Algeria        DZA\n",
              "Andorra        AND\n",
              "Angola         AGO\n",
              "              ... \n",
              "Venezuela      VEN\n",
              "Vietnam        VNM\n",
              "Yemen          YEM\n",
              "Zambia         ZMB\n",
              "Zimbabwe       ZWE\n",
              "Name: country_code, Length: 206, dtype: object"
            ]
          },
          "metadata": {
            "tags": []
          },
          "execution_count": 22
        }
      ]
    },
    {
      "cell_type": "code",
      "metadata": {
        "colab": {
          "base_uri": "https://localhost:8080/",
          "height": 428
        },
        "id": "5yiuZrNUZ5xK",
        "outputId": "b6f2b20f-9368-4691-bbe8-561dc1874e06"
      },
      "source": [
        "df = df.drop(['country_code'], axis = 1)\n",
        "df"
      ],
      "execution_count": 24,
      "outputs": [
        {
          "output_type": "execute_result",
          "data": {
            "text/html": [
              "<div>\n",
              "<style scoped>\n",
              "    .dataframe tbody tr th:only-of-type {\n",
              "        vertical-align: middle;\n",
              "    }\n",
              "\n",
              "    .dataframe tbody tr th {\n",
              "        vertical-align: top;\n",
              "    }\n",
              "\n",
              "    .dataframe thead th {\n",
              "        text-align: right;\n",
              "    }\n",
              "</style>\n",
              "<table border=\"1\" class=\"dataframe\">\n",
              "  <thead>\n",
              "    <tr style=\"text-align: right;\">\n",
              "      <th></th>\n",
              "      <th>country</th>\n",
              "      <th>continent</th>\n",
              "      <th>date</th>\n",
              "      <th>day</th>\n",
              "      <th>month</th>\n",
              "      <th>year</th>\n",
              "      <th>cases</th>\n",
              "      <th>deaths</th>\n",
              "      <th>population</th>\n",
              "    </tr>\n",
              "    <tr>\n",
              "      <th>country</th>\n",
              "      <th></th>\n",
              "      <th></th>\n",
              "      <th></th>\n",
              "      <th></th>\n",
              "      <th></th>\n",
              "      <th></th>\n",
              "      <th></th>\n",
              "      <th></th>\n",
              "      <th></th>\n",
              "    </tr>\n",
              "  </thead>\n",
              "  <tbody>\n",
              "    <tr>\n",
              "      <th>Afghanistan</th>\n",
              "      <td>Afghanistan</td>\n",
              "      <td>Asia</td>\n",
              "      <td>2020-04-12</td>\n",
              "      <td>12</td>\n",
              "      <td>4</td>\n",
              "      <td>2020</td>\n",
              "      <td>34</td>\n",
              "      <td>3</td>\n",
              "      <td>37172386.0</td>\n",
              "    </tr>\n",
              "    <tr>\n",
              "      <th>Albania</th>\n",
              "      <td>Albania</td>\n",
              "      <td>Europe</td>\n",
              "      <td>2020-04-12</td>\n",
              "      <td>12</td>\n",
              "      <td>4</td>\n",
              "      <td>2020</td>\n",
              "      <td>17</td>\n",
              "      <td>0</td>\n",
              "      <td>2866376.0</td>\n",
              "    </tr>\n",
              "    <tr>\n",
              "      <th>Algeria</th>\n",
              "      <td>Algeria</td>\n",
              "      <td>Africa</td>\n",
              "      <td>2020-04-12</td>\n",
              "      <td>12</td>\n",
              "      <td>4</td>\n",
              "      <td>2020</td>\n",
              "      <td>64</td>\n",
              "      <td>19</td>\n",
              "      <td>42228429.0</td>\n",
              "    </tr>\n",
              "    <tr>\n",
              "      <th>Andorra</th>\n",
              "      <td>Andorra</td>\n",
              "      <td>Europe</td>\n",
              "      <td>2020-04-12</td>\n",
              "      <td>12</td>\n",
              "      <td>4</td>\n",
              "      <td>2020</td>\n",
              "      <td>21</td>\n",
              "      <td>2</td>\n",
              "      <td>77006.0</td>\n",
              "    </tr>\n",
              "    <tr>\n",
              "      <th>Angola</th>\n",
              "      <td>Angola</td>\n",
              "      <td>Africa</td>\n",
              "      <td>2020-04-12</td>\n",
              "      <td>12</td>\n",
              "      <td>4</td>\n",
              "      <td>2020</td>\n",
              "      <td>0</td>\n",
              "      <td>0</td>\n",
              "      <td>30809762.0</td>\n",
              "    </tr>\n",
              "    <tr>\n",
              "      <th>...</th>\n",
              "      <td>...</td>\n",
              "      <td>...</td>\n",
              "      <td>...</td>\n",
              "      <td>...</td>\n",
              "      <td>...</td>\n",
              "      <td>...</td>\n",
              "      <td>...</td>\n",
              "      <td>...</td>\n",
              "      <td>...</td>\n",
              "    </tr>\n",
              "    <tr>\n",
              "      <th>Venezuela</th>\n",
              "      <td>Venezuela</td>\n",
              "      <td>America</td>\n",
              "      <td>2020-04-12</td>\n",
              "      <td>12</td>\n",
              "      <td>4</td>\n",
              "      <td>2020</td>\n",
              "      <td>0</td>\n",
              "      <td>0</td>\n",
              "      <td>28870195.0</td>\n",
              "    </tr>\n",
              "    <tr>\n",
              "      <th>Vietnam</th>\n",
              "      <td>Vietnam</td>\n",
              "      <td>Asia</td>\n",
              "      <td>2020-04-12</td>\n",
              "      <td>12</td>\n",
              "      <td>4</td>\n",
              "      <td>2020</td>\n",
              "      <td>4</td>\n",
              "      <td>0</td>\n",
              "      <td>95540395.0</td>\n",
              "    </tr>\n",
              "    <tr>\n",
              "      <th>Yemen</th>\n",
              "      <td>Yemen</td>\n",
              "      <td>Asia</td>\n",
              "      <td>2020-04-12</td>\n",
              "      <td>12</td>\n",
              "      <td>4</td>\n",
              "      <td>2020</td>\n",
              "      <td>0</td>\n",
              "      <td>0</td>\n",
              "      <td>28498687.0</td>\n",
              "    </tr>\n",
              "    <tr>\n",
              "      <th>Zambia</th>\n",
              "      <td>Zambia</td>\n",
              "      <td>Africa</td>\n",
              "      <td>2020-04-12</td>\n",
              "      <td>12</td>\n",
              "      <td>4</td>\n",
              "      <td>2020</td>\n",
              "      <td>0</td>\n",
              "      <td>0</td>\n",
              "      <td>17351822.0</td>\n",
              "    </tr>\n",
              "    <tr>\n",
              "      <th>Zimbabwe</th>\n",
              "      <td>Zimbabwe</td>\n",
              "      <td>Africa</td>\n",
              "      <td>2020-04-12</td>\n",
              "      <td>12</td>\n",
              "      <td>4</td>\n",
              "      <td>2020</td>\n",
              "      <td>3</td>\n",
              "      <td>0</td>\n",
              "      <td>14439018.0</td>\n",
              "    </tr>\n",
              "  </tbody>\n",
              "</table>\n",
              "<p>206 rows × 9 columns</p>\n",
              "</div>"
            ],
            "text/plain": [
              "                 country continent        date  ...  cases  deaths  population\n",
              "country                                         ...                           \n",
              "Afghanistan  Afghanistan      Asia  2020-04-12  ...     34       3  37172386.0\n",
              "Albania          Albania    Europe  2020-04-12  ...     17       0   2866376.0\n",
              "Algeria          Algeria    Africa  2020-04-12  ...     64      19  42228429.0\n",
              "Andorra          Andorra    Europe  2020-04-12  ...     21       2     77006.0\n",
              "Angola            Angola    Africa  2020-04-12  ...      0       0  30809762.0\n",
              "...                  ...       ...         ...  ...    ...     ...         ...\n",
              "Venezuela      Venezuela   America  2020-04-12  ...      0       0  28870195.0\n",
              "Vietnam          Vietnam      Asia  2020-04-12  ...      4       0  95540395.0\n",
              "Yemen              Yemen      Asia  2020-04-12  ...      0       0  28498687.0\n",
              "Zambia            Zambia    Africa  2020-04-12  ...      0       0  17351822.0\n",
              "Zimbabwe        Zimbabwe    Africa  2020-04-12  ...      3       0  14439018.0\n",
              "\n",
              "[206 rows x 9 columns]"
            ]
          },
          "metadata": {
            "tags": []
          },
          "execution_count": 24
        }
      ]
    },
    {
      "cell_type": "code",
      "metadata": {
        "colab": {
          "base_uri": "https://localhost:8080/",
          "height": 428
        },
        "id": "QjTvPrNmaCMU",
        "outputId": "4210e3ff-ca23-434d-d009-40bdba12ffbf"
      },
      "source": [
        "# 4.2. Вставить этот столбец обратно.\n",
        "df2 = df.join(delited)\n",
        "df2"
      ],
      "execution_count": 38,
      "outputs": [
        {
          "output_type": "execute_result",
          "data": {
            "text/html": [
              "<div>\n",
              "<style scoped>\n",
              "    .dataframe tbody tr th:only-of-type {\n",
              "        vertical-align: middle;\n",
              "    }\n",
              "\n",
              "    .dataframe tbody tr th {\n",
              "        vertical-align: top;\n",
              "    }\n",
              "\n",
              "    .dataframe thead th {\n",
              "        text-align: right;\n",
              "    }\n",
              "</style>\n",
              "<table border=\"1\" class=\"dataframe\">\n",
              "  <thead>\n",
              "    <tr style=\"text-align: right;\">\n",
              "      <th></th>\n",
              "      <th>country</th>\n",
              "      <th>continent</th>\n",
              "      <th>date</th>\n",
              "      <th>day</th>\n",
              "      <th>month</th>\n",
              "      <th>year</th>\n",
              "      <th>cases</th>\n",
              "      <th>deaths</th>\n",
              "      <th>population</th>\n",
              "      <th>country_code</th>\n",
              "    </tr>\n",
              "    <tr>\n",
              "      <th>country</th>\n",
              "      <th></th>\n",
              "      <th></th>\n",
              "      <th></th>\n",
              "      <th></th>\n",
              "      <th></th>\n",
              "      <th></th>\n",
              "      <th></th>\n",
              "      <th></th>\n",
              "      <th></th>\n",
              "      <th></th>\n",
              "    </tr>\n",
              "  </thead>\n",
              "  <tbody>\n",
              "    <tr>\n",
              "      <th>Afghanistan</th>\n",
              "      <td>Afghanistan</td>\n",
              "      <td>Asia</td>\n",
              "      <td>2020-04-12</td>\n",
              "      <td>12</td>\n",
              "      <td>4</td>\n",
              "      <td>2020</td>\n",
              "      <td>34</td>\n",
              "      <td>3</td>\n",
              "      <td>37172386.0</td>\n",
              "      <td>AFG</td>\n",
              "    </tr>\n",
              "    <tr>\n",
              "      <th>Albania</th>\n",
              "      <td>Albania</td>\n",
              "      <td>Europe</td>\n",
              "      <td>2020-04-12</td>\n",
              "      <td>12</td>\n",
              "      <td>4</td>\n",
              "      <td>2020</td>\n",
              "      <td>17</td>\n",
              "      <td>0</td>\n",
              "      <td>2866376.0</td>\n",
              "      <td>ALB</td>\n",
              "    </tr>\n",
              "    <tr>\n",
              "      <th>Algeria</th>\n",
              "      <td>Algeria</td>\n",
              "      <td>Africa</td>\n",
              "      <td>2020-04-12</td>\n",
              "      <td>12</td>\n",
              "      <td>4</td>\n",
              "      <td>2020</td>\n",
              "      <td>64</td>\n",
              "      <td>19</td>\n",
              "      <td>42228429.0</td>\n",
              "      <td>DZA</td>\n",
              "    </tr>\n",
              "    <tr>\n",
              "      <th>Andorra</th>\n",
              "      <td>Andorra</td>\n",
              "      <td>Europe</td>\n",
              "      <td>2020-04-12</td>\n",
              "      <td>12</td>\n",
              "      <td>4</td>\n",
              "      <td>2020</td>\n",
              "      <td>21</td>\n",
              "      <td>2</td>\n",
              "      <td>77006.0</td>\n",
              "      <td>AND</td>\n",
              "    </tr>\n",
              "    <tr>\n",
              "      <th>Angola</th>\n",
              "      <td>Angola</td>\n",
              "      <td>Africa</td>\n",
              "      <td>2020-04-12</td>\n",
              "      <td>12</td>\n",
              "      <td>4</td>\n",
              "      <td>2020</td>\n",
              "      <td>0</td>\n",
              "      <td>0</td>\n",
              "      <td>30809762.0</td>\n",
              "      <td>AGO</td>\n",
              "    </tr>\n",
              "    <tr>\n",
              "      <th>...</th>\n",
              "      <td>...</td>\n",
              "      <td>...</td>\n",
              "      <td>...</td>\n",
              "      <td>...</td>\n",
              "      <td>...</td>\n",
              "      <td>...</td>\n",
              "      <td>...</td>\n",
              "      <td>...</td>\n",
              "      <td>...</td>\n",
              "      <td>...</td>\n",
              "    </tr>\n",
              "    <tr>\n",
              "      <th>Venezuela</th>\n",
              "      <td>Venezuela</td>\n",
              "      <td>America</td>\n",
              "      <td>2020-04-12</td>\n",
              "      <td>12</td>\n",
              "      <td>4</td>\n",
              "      <td>2020</td>\n",
              "      <td>0</td>\n",
              "      <td>0</td>\n",
              "      <td>28870195.0</td>\n",
              "      <td>VEN</td>\n",
              "    </tr>\n",
              "    <tr>\n",
              "      <th>Vietnam</th>\n",
              "      <td>Vietnam</td>\n",
              "      <td>Asia</td>\n",
              "      <td>2020-04-12</td>\n",
              "      <td>12</td>\n",
              "      <td>4</td>\n",
              "      <td>2020</td>\n",
              "      <td>4</td>\n",
              "      <td>0</td>\n",
              "      <td>95540395.0</td>\n",
              "      <td>VNM</td>\n",
              "    </tr>\n",
              "    <tr>\n",
              "      <th>Yemen</th>\n",
              "      <td>Yemen</td>\n",
              "      <td>Asia</td>\n",
              "      <td>2020-04-12</td>\n",
              "      <td>12</td>\n",
              "      <td>4</td>\n",
              "      <td>2020</td>\n",
              "      <td>0</td>\n",
              "      <td>0</td>\n",
              "      <td>28498687.0</td>\n",
              "      <td>YEM</td>\n",
              "    </tr>\n",
              "    <tr>\n",
              "      <th>Zambia</th>\n",
              "      <td>Zambia</td>\n",
              "      <td>Africa</td>\n",
              "      <td>2020-04-12</td>\n",
              "      <td>12</td>\n",
              "      <td>4</td>\n",
              "      <td>2020</td>\n",
              "      <td>0</td>\n",
              "      <td>0</td>\n",
              "      <td>17351822.0</td>\n",
              "      <td>ZMB</td>\n",
              "    </tr>\n",
              "    <tr>\n",
              "      <th>Zimbabwe</th>\n",
              "      <td>Zimbabwe</td>\n",
              "      <td>Africa</td>\n",
              "      <td>2020-04-12</td>\n",
              "      <td>12</td>\n",
              "      <td>4</td>\n",
              "      <td>2020</td>\n",
              "      <td>3</td>\n",
              "      <td>0</td>\n",
              "      <td>14439018.0</td>\n",
              "      <td>ZWE</td>\n",
              "    </tr>\n",
              "  </tbody>\n",
              "</table>\n",
              "<p>206 rows × 10 columns</p>\n",
              "</div>"
            ],
            "text/plain": [
              "                 country continent        date  ...  deaths  population  country_code\n",
              "country                                         ...                                  \n",
              "Afghanistan  Afghanistan      Asia  2020-04-12  ...       3  37172386.0           AFG\n",
              "Albania          Albania    Europe  2020-04-12  ...       0   2866376.0           ALB\n",
              "Algeria          Algeria    Africa  2020-04-12  ...      19  42228429.0           DZA\n",
              "Andorra          Andorra    Europe  2020-04-12  ...       2     77006.0           AND\n",
              "Angola            Angola    Africa  2020-04-12  ...       0  30809762.0           AGO\n",
              "...                  ...       ...         ...  ...     ...         ...           ...\n",
              "Venezuela      Venezuela   America  2020-04-12  ...       0  28870195.0           VEN\n",
              "Vietnam          Vietnam      Asia  2020-04-12  ...       0  95540395.0           VNM\n",
              "Yemen              Yemen      Asia  2020-04-12  ...       0  28498687.0           YEM\n",
              "Zambia            Zambia    Africa  2020-04-12  ...       0  17351822.0           ZMB\n",
              "Zimbabwe        Zimbabwe    Africa  2020-04-12  ...       0  14439018.0           ZWE\n",
              "\n",
              "[206 rows x 10 columns]"
            ]
          },
          "metadata": {
            "tags": []
          },
          "execution_count": 38
        }
      ]
    },
    {
      "cell_type": "code",
      "metadata": {
        "id": "aO8zPnYSwUhu",
        "colab": {
          "base_uri": "https://localhost:8080/",
          "height": 164
        },
        "outputId": "d174e276-87fa-4410-af88-5da2e582f6b5"
      },
      "source": [
        "# 4.3. Удалить первые три строки.\n",
        "\n",
        "delited_lines = df2.head(3)\n",
        "delited_lines"
      ],
      "execution_count": 29,
      "outputs": [
        {
          "output_type": "execute_result",
          "data": {
            "text/html": [
              "<div>\n",
              "<style scoped>\n",
              "    .dataframe tbody tr th:only-of-type {\n",
              "        vertical-align: middle;\n",
              "    }\n",
              "\n",
              "    .dataframe tbody tr th {\n",
              "        vertical-align: top;\n",
              "    }\n",
              "\n",
              "    .dataframe thead th {\n",
              "        text-align: right;\n",
              "    }\n",
              "</style>\n",
              "<table border=\"1\" class=\"dataframe\">\n",
              "  <thead>\n",
              "    <tr style=\"text-align: right;\">\n",
              "      <th></th>\n",
              "      <th>country</th>\n",
              "      <th>continent</th>\n",
              "      <th>date</th>\n",
              "      <th>day</th>\n",
              "      <th>month</th>\n",
              "      <th>year</th>\n",
              "      <th>cases</th>\n",
              "      <th>deaths</th>\n",
              "      <th>population</th>\n",
              "      <th>country_code</th>\n",
              "    </tr>\n",
              "    <tr>\n",
              "      <th>country</th>\n",
              "      <th></th>\n",
              "      <th></th>\n",
              "      <th></th>\n",
              "      <th></th>\n",
              "      <th></th>\n",
              "      <th></th>\n",
              "      <th></th>\n",
              "      <th></th>\n",
              "      <th></th>\n",
              "      <th></th>\n",
              "    </tr>\n",
              "  </thead>\n",
              "  <tbody>\n",
              "    <tr>\n",
              "      <th>Afghanistan</th>\n",
              "      <td>Afghanistan</td>\n",
              "      <td>Asia</td>\n",
              "      <td>2020-04-12</td>\n",
              "      <td>12</td>\n",
              "      <td>4</td>\n",
              "      <td>2020</td>\n",
              "      <td>34</td>\n",
              "      <td>3</td>\n",
              "      <td>37172386.0</td>\n",
              "      <td>AFG</td>\n",
              "    </tr>\n",
              "    <tr>\n",
              "      <th>Albania</th>\n",
              "      <td>Albania</td>\n",
              "      <td>Europe</td>\n",
              "      <td>2020-04-12</td>\n",
              "      <td>12</td>\n",
              "      <td>4</td>\n",
              "      <td>2020</td>\n",
              "      <td>17</td>\n",
              "      <td>0</td>\n",
              "      <td>2866376.0</td>\n",
              "      <td>ALB</td>\n",
              "    </tr>\n",
              "    <tr>\n",
              "      <th>Algeria</th>\n",
              "      <td>Algeria</td>\n",
              "      <td>Africa</td>\n",
              "      <td>2020-04-12</td>\n",
              "      <td>12</td>\n",
              "      <td>4</td>\n",
              "      <td>2020</td>\n",
              "      <td>64</td>\n",
              "      <td>19</td>\n",
              "      <td>42228429.0</td>\n",
              "      <td>DZA</td>\n",
              "    </tr>\n",
              "  </tbody>\n",
              "</table>\n",
              "</div>"
            ],
            "text/plain": [
              "                 country continent        date  ...  deaths  population  country_code\n",
              "country                                         ...                                  \n",
              "Afghanistan  Afghanistan      Asia  2020-04-12  ...       3  37172386.0           AFG\n",
              "Albania          Albania    Europe  2020-04-12  ...       0   2866376.0           ALB\n",
              "Algeria          Algeria    Africa  2020-04-12  ...      19  42228429.0           DZA\n",
              "\n",
              "[3 rows x 10 columns]"
            ]
          },
          "metadata": {
            "tags": []
          },
          "execution_count": 29
        }
      ]
    },
    {
      "cell_type": "code",
      "metadata": {
        "colab": {
          "base_uri": "https://localhost:8080/",
          "height": 428
        },
        "id": "G9oe4B9GcDLB",
        "outputId": "a5a430ff-c8e3-4aff-923b-4f6ecfde90f5"
      },
      "source": [
        "df3 = df2.drop(df2.head(3).index, inplace=True)\n",
        "df2"
      ],
      "execution_count": 39,
      "outputs": [
        {
          "output_type": "execute_result",
          "data": {
            "text/html": [
              "<div>\n",
              "<style scoped>\n",
              "    .dataframe tbody tr th:only-of-type {\n",
              "        vertical-align: middle;\n",
              "    }\n",
              "\n",
              "    .dataframe tbody tr th {\n",
              "        vertical-align: top;\n",
              "    }\n",
              "\n",
              "    .dataframe thead th {\n",
              "        text-align: right;\n",
              "    }\n",
              "</style>\n",
              "<table border=\"1\" class=\"dataframe\">\n",
              "  <thead>\n",
              "    <tr style=\"text-align: right;\">\n",
              "      <th></th>\n",
              "      <th>country</th>\n",
              "      <th>continent</th>\n",
              "      <th>date</th>\n",
              "      <th>day</th>\n",
              "      <th>month</th>\n",
              "      <th>year</th>\n",
              "      <th>cases</th>\n",
              "      <th>deaths</th>\n",
              "      <th>population</th>\n",
              "      <th>country_code</th>\n",
              "    </tr>\n",
              "    <tr>\n",
              "      <th>country</th>\n",
              "      <th></th>\n",
              "      <th></th>\n",
              "      <th></th>\n",
              "      <th></th>\n",
              "      <th></th>\n",
              "      <th></th>\n",
              "      <th></th>\n",
              "      <th></th>\n",
              "      <th></th>\n",
              "      <th></th>\n",
              "    </tr>\n",
              "  </thead>\n",
              "  <tbody>\n",
              "    <tr>\n",
              "      <th>Andorra</th>\n",
              "      <td>Andorra</td>\n",
              "      <td>Europe</td>\n",
              "      <td>2020-04-12</td>\n",
              "      <td>12</td>\n",
              "      <td>4</td>\n",
              "      <td>2020</td>\n",
              "      <td>21</td>\n",
              "      <td>2</td>\n",
              "      <td>77006.0</td>\n",
              "      <td>AND</td>\n",
              "    </tr>\n",
              "    <tr>\n",
              "      <th>Angola</th>\n",
              "      <td>Angola</td>\n",
              "      <td>Africa</td>\n",
              "      <td>2020-04-12</td>\n",
              "      <td>12</td>\n",
              "      <td>4</td>\n",
              "      <td>2020</td>\n",
              "      <td>0</td>\n",
              "      <td>0</td>\n",
              "      <td>30809762.0</td>\n",
              "      <td>AGO</td>\n",
              "    </tr>\n",
              "    <tr>\n",
              "      <th>Anguilla</th>\n",
              "      <td>Anguilla</td>\n",
              "      <td>America</td>\n",
              "      <td>2020-04-12</td>\n",
              "      <td>12</td>\n",
              "      <td>4</td>\n",
              "      <td>2020</td>\n",
              "      <td>0</td>\n",
              "      <td>0</td>\n",
              "      <td>NaN</td>\n",
              "      <td>NaN</td>\n",
              "    </tr>\n",
              "    <tr>\n",
              "      <th>Antigua_and_Barbuda</th>\n",
              "      <td>Antigua_and_Barbuda</td>\n",
              "      <td>America</td>\n",
              "      <td>2020-04-12</td>\n",
              "      <td>12</td>\n",
              "      <td>4</td>\n",
              "      <td>2020</td>\n",
              "      <td>0</td>\n",
              "      <td>0</td>\n",
              "      <td>96286.0</td>\n",
              "      <td>ATG</td>\n",
              "    </tr>\n",
              "    <tr>\n",
              "      <th>Argentina</th>\n",
              "      <td>Argentina</td>\n",
              "      <td>America</td>\n",
              "      <td>2020-04-12</td>\n",
              "      <td>12</td>\n",
              "      <td>4</td>\n",
              "      <td>2020</td>\n",
              "      <td>162</td>\n",
              "      <td>7</td>\n",
              "      <td>44494502.0</td>\n",
              "      <td>ARG</td>\n",
              "    </tr>\n",
              "    <tr>\n",
              "      <th>...</th>\n",
              "      <td>...</td>\n",
              "      <td>...</td>\n",
              "      <td>...</td>\n",
              "      <td>...</td>\n",
              "      <td>...</td>\n",
              "      <td>...</td>\n",
              "      <td>...</td>\n",
              "      <td>...</td>\n",
              "      <td>...</td>\n",
              "      <td>...</td>\n",
              "    </tr>\n",
              "    <tr>\n",
              "      <th>Venezuela</th>\n",
              "      <td>Venezuela</td>\n",
              "      <td>America</td>\n",
              "      <td>2020-04-12</td>\n",
              "      <td>12</td>\n",
              "      <td>4</td>\n",
              "      <td>2020</td>\n",
              "      <td>0</td>\n",
              "      <td>0</td>\n",
              "      <td>28870195.0</td>\n",
              "      <td>VEN</td>\n",
              "    </tr>\n",
              "    <tr>\n",
              "      <th>Vietnam</th>\n",
              "      <td>Vietnam</td>\n",
              "      <td>Asia</td>\n",
              "      <td>2020-04-12</td>\n",
              "      <td>12</td>\n",
              "      <td>4</td>\n",
              "      <td>2020</td>\n",
              "      <td>4</td>\n",
              "      <td>0</td>\n",
              "      <td>95540395.0</td>\n",
              "      <td>VNM</td>\n",
              "    </tr>\n",
              "    <tr>\n",
              "      <th>Yemen</th>\n",
              "      <td>Yemen</td>\n",
              "      <td>Asia</td>\n",
              "      <td>2020-04-12</td>\n",
              "      <td>12</td>\n",
              "      <td>4</td>\n",
              "      <td>2020</td>\n",
              "      <td>0</td>\n",
              "      <td>0</td>\n",
              "      <td>28498687.0</td>\n",
              "      <td>YEM</td>\n",
              "    </tr>\n",
              "    <tr>\n",
              "      <th>Zambia</th>\n",
              "      <td>Zambia</td>\n",
              "      <td>Africa</td>\n",
              "      <td>2020-04-12</td>\n",
              "      <td>12</td>\n",
              "      <td>4</td>\n",
              "      <td>2020</td>\n",
              "      <td>0</td>\n",
              "      <td>0</td>\n",
              "      <td>17351822.0</td>\n",
              "      <td>ZMB</td>\n",
              "    </tr>\n",
              "    <tr>\n",
              "      <th>Zimbabwe</th>\n",
              "      <td>Zimbabwe</td>\n",
              "      <td>Africa</td>\n",
              "      <td>2020-04-12</td>\n",
              "      <td>12</td>\n",
              "      <td>4</td>\n",
              "      <td>2020</td>\n",
              "      <td>3</td>\n",
              "      <td>0</td>\n",
              "      <td>14439018.0</td>\n",
              "      <td>ZWE</td>\n",
              "    </tr>\n",
              "  </tbody>\n",
              "</table>\n",
              "<p>203 rows × 10 columns</p>\n",
              "</div>"
            ],
            "text/plain": [
              "                                 country continent  ...  population  country_code\n",
              "country                                             ...                          \n",
              "Andorra                          Andorra    Europe  ...     77006.0           AND\n",
              "Angola                            Angola    Africa  ...  30809762.0           AGO\n",
              "Anguilla                        Anguilla   America  ...         NaN           NaN\n",
              "Antigua_and_Barbuda  Antigua_and_Barbuda   America  ...     96286.0           ATG\n",
              "Argentina                      Argentina   America  ...  44494502.0           ARG\n",
              "...                                  ...       ...  ...         ...           ...\n",
              "Venezuela                      Venezuela   America  ...  28870195.0           VEN\n",
              "Vietnam                          Vietnam      Asia  ...  95540395.0           VNM\n",
              "Yemen                              Yemen      Asia  ...  28498687.0           YEM\n",
              "Zambia                            Zambia    Africa  ...  17351822.0           ZMB\n",
              "Zimbabwe                        Zimbabwe    Africa  ...  14439018.0           ZWE\n",
              "\n",
              "[203 rows x 10 columns]"
            ]
          },
          "metadata": {
            "tags": []
          },
          "execution_count": 39
        }
      ]
    },
    {
      "cell_type": "code",
      "metadata": {
        "id": "TtNL4TXEw8pM",
        "colab": {
          "base_uri": "https://localhost:8080/",
          "height": 428
        },
        "outputId": "1e6ec8b1-ffda-4030-fa9c-4919e5d29398"
      },
      "source": [
        "#  4.4. Добавить удаленные первые три строки обратно.\n",
        "\n",
        "df4 = df2.append(delited_lines)\n",
        "df4"
      ],
      "execution_count": 45,
      "outputs": [
        {
          "output_type": "execute_result",
          "data": {
            "text/html": [
              "<div>\n",
              "<style scoped>\n",
              "    .dataframe tbody tr th:only-of-type {\n",
              "        vertical-align: middle;\n",
              "    }\n",
              "\n",
              "    .dataframe tbody tr th {\n",
              "        vertical-align: top;\n",
              "    }\n",
              "\n",
              "    .dataframe thead th {\n",
              "        text-align: right;\n",
              "    }\n",
              "</style>\n",
              "<table border=\"1\" class=\"dataframe\">\n",
              "  <thead>\n",
              "    <tr style=\"text-align: right;\">\n",
              "      <th></th>\n",
              "      <th>country</th>\n",
              "      <th>continent</th>\n",
              "      <th>date</th>\n",
              "      <th>day</th>\n",
              "      <th>month</th>\n",
              "      <th>year</th>\n",
              "      <th>cases</th>\n",
              "      <th>deaths</th>\n",
              "      <th>population</th>\n",
              "      <th>country_code</th>\n",
              "    </tr>\n",
              "    <tr>\n",
              "      <th>country</th>\n",
              "      <th></th>\n",
              "      <th></th>\n",
              "      <th></th>\n",
              "      <th></th>\n",
              "      <th></th>\n",
              "      <th></th>\n",
              "      <th></th>\n",
              "      <th></th>\n",
              "      <th></th>\n",
              "      <th></th>\n",
              "    </tr>\n",
              "  </thead>\n",
              "  <tbody>\n",
              "    <tr>\n",
              "      <th>Andorra</th>\n",
              "      <td>Andorra</td>\n",
              "      <td>Europe</td>\n",
              "      <td>2020-04-12</td>\n",
              "      <td>12</td>\n",
              "      <td>4</td>\n",
              "      <td>2020</td>\n",
              "      <td>21</td>\n",
              "      <td>2</td>\n",
              "      <td>77006.0</td>\n",
              "      <td>AND</td>\n",
              "    </tr>\n",
              "    <tr>\n",
              "      <th>Angola</th>\n",
              "      <td>Angola</td>\n",
              "      <td>Africa</td>\n",
              "      <td>2020-04-12</td>\n",
              "      <td>12</td>\n",
              "      <td>4</td>\n",
              "      <td>2020</td>\n",
              "      <td>0</td>\n",
              "      <td>0</td>\n",
              "      <td>30809762.0</td>\n",
              "      <td>AGO</td>\n",
              "    </tr>\n",
              "    <tr>\n",
              "      <th>Anguilla</th>\n",
              "      <td>Anguilla</td>\n",
              "      <td>America</td>\n",
              "      <td>2020-04-12</td>\n",
              "      <td>12</td>\n",
              "      <td>4</td>\n",
              "      <td>2020</td>\n",
              "      <td>0</td>\n",
              "      <td>0</td>\n",
              "      <td>NaN</td>\n",
              "      <td>NaN</td>\n",
              "    </tr>\n",
              "    <tr>\n",
              "      <th>Antigua_and_Barbuda</th>\n",
              "      <td>Antigua_and_Barbuda</td>\n",
              "      <td>America</td>\n",
              "      <td>2020-04-12</td>\n",
              "      <td>12</td>\n",
              "      <td>4</td>\n",
              "      <td>2020</td>\n",
              "      <td>0</td>\n",
              "      <td>0</td>\n",
              "      <td>96286.0</td>\n",
              "      <td>ATG</td>\n",
              "    </tr>\n",
              "    <tr>\n",
              "      <th>Argentina</th>\n",
              "      <td>Argentina</td>\n",
              "      <td>America</td>\n",
              "      <td>2020-04-12</td>\n",
              "      <td>12</td>\n",
              "      <td>4</td>\n",
              "      <td>2020</td>\n",
              "      <td>162</td>\n",
              "      <td>7</td>\n",
              "      <td>44494502.0</td>\n",
              "      <td>ARG</td>\n",
              "    </tr>\n",
              "    <tr>\n",
              "      <th>...</th>\n",
              "      <td>...</td>\n",
              "      <td>...</td>\n",
              "      <td>...</td>\n",
              "      <td>...</td>\n",
              "      <td>...</td>\n",
              "      <td>...</td>\n",
              "      <td>...</td>\n",
              "      <td>...</td>\n",
              "      <td>...</td>\n",
              "      <td>...</td>\n",
              "    </tr>\n",
              "    <tr>\n",
              "      <th>Zambia</th>\n",
              "      <td>Zambia</td>\n",
              "      <td>Africa</td>\n",
              "      <td>2020-04-12</td>\n",
              "      <td>12</td>\n",
              "      <td>4</td>\n",
              "      <td>2020</td>\n",
              "      <td>0</td>\n",
              "      <td>0</td>\n",
              "      <td>17351822.0</td>\n",
              "      <td>ZMB</td>\n",
              "    </tr>\n",
              "    <tr>\n",
              "      <th>Zimbabwe</th>\n",
              "      <td>Zimbabwe</td>\n",
              "      <td>Africa</td>\n",
              "      <td>2020-04-12</td>\n",
              "      <td>12</td>\n",
              "      <td>4</td>\n",
              "      <td>2020</td>\n",
              "      <td>3</td>\n",
              "      <td>0</td>\n",
              "      <td>14439018.0</td>\n",
              "      <td>ZWE</td>\n",
              "    </tr>\n",
              "    <tr>\n",
              "      <th>Afghanistan</th>\n",
              "      <td>Afghanistan</td>\n",
              "      <td>Asia</td>\n",
              "      <td>2020-04-12</td>\n",
              "      <td>12</td>\n",
              "      <td>4</td>\n",
              "      <td>2020</td>\n",
              "      <td>34</td>\n",
              "      <td>3</td>\n",
              "      <td>37172386.0</td>\n",
              "      <td>AFG</td>\n",
              "    </tr>\n",
              "    <tr>\n",
              "      <th>Albania</th>\n",
              "      <td>Albania</td>\n",
              "      <td>Europe</td>\n",
              "      <td>2020-04-12</td>\n",
              "      <td>12</td>\n",
              "      <td>4</td>\n",
              "      <td>2020</td>\n",
              "      <td>17</td>\n",
              "      <td>0</td>\n",
              "      <td>2866376.0</td>\n",
              "      <td>ALB</td>\n",
              "    </tr>\n",
              "    <tr>\n",
              "      <th>Algeria</th>\n",
              "      <td>Algeria</td>\n",
              "      <td>Africa</td>\n",
              "      <td>2020-04-12</td>\n",
              "      <td>12</td>\n",
              "      <td>4</td>\n",
              "      <td>2020</td>\n",
              "      <td>64</td>\n",
              "      <td>19</td>\n",
              "      <td>42228429.0</td>\n",
              "      <td>DZA</td>\n",
              "    </tr>\n",
              "  </tbody>\n",
              "</table>\n",
              "<p>206 rows × 10 columns</p>\n",
              "</div>"
            ],
            "text/plain": [
              "                                 country continent  ...  population  country_code\n",
              "country                                             ...                          \n",
              "Andorra                          Andorra    Europe  ...     77006.0           AND\n",
              "Angola                            Angola    Africa  ...  30809762.0           AGO\n",
              "Anguilla                        Anguilla   America  ...         NaN           NaN\n",
              "Antigua_and_Barbuda  Antigua_and_Barbuda   America  ...     96286.0           ATG\n",
              "Argentina                      Argentina   America  ...  44494502.0           ARG\n",
              "...                                  ...       ...  ...         ...           ...\n",
              "Zambia                            Zambia    Africa  ...  17351822.0           ZMB\n",
              "Zimbabwe                        Zimbabwe    Africa  ...  14439018.0           ZWE\n",
              "Afghanistan                  Afghanistan      Asia  ...  37172386.0           AFG\n",
              "Albania                          Albania    Europe  ...   2866376.0           ALB\n",
              "Algeria                          Algeria    Africa  ...  42228429.0           DZA\n",
              "\n",
              "[206 rows x 10 columns]"
            ]
          },
          "metadata": {
            "tags": []
          },
          "execution_count": 45
        }
      ]
    },
    {
      "cell_type": "markdown",
      "metadata": {
        "id": "6ZkryLfhXGLu"
      },
      "source": [
        "# **ЗАДАНИЕ 5**\n",
        "Следующий DataFrame записывает изменение веса четырех человек:\n",
        "![Снимок.JPG](data:image/jpeg;base64,/9j/4AAQSkZJRgABAQEAYABgAAD/4RCIRXhpZgAATU0AKgAAAAgABAE7AAIAAAAHAAAISodpAAQAAAABAAAIUpydAAEAAAAOAAAQcuocAAcAAAgMAAAAPgAAAAAc6gAAAAgAAAAAAAAAAAAAAAAAAAAAAAAAAAAAAAAAAAAAAAAAAAAAAAAAAAAAAAAAAAAAAAAAAAAAAAAAAAAAAAAAAAAAAAAAAAAAAAAAAAAAAAAAAAAAAAAAAAAAAAAAAAAAAAAAAAAAAAAAAAAAAAAAAAAAAAAAAAAAAAAAAAAAAAAAAAAAAAAAAAAAAAAAAAAAAAAAAAAAAAAAAAAAAAAAAAAAAAAAAAAAAAAAAAAAAAAAAAAAAAAAAAAAAAAAAAAAAAAAAAAAAAAAAAAAAAAAAAAAAAAAAAAAAAAAAAAAAAAAAAAAAAAAAAAAAAAAAAAAAAAAAAAAAAAAAAAAAAAAAAAAAAAAAAAAAAAAAAAAAAAAAAAAAAAAAAAAAAAAAAAAAAAAAAAAAAAAAAAAAAAAAAAAAAAAAAAAAAAAAAAAAAAAAAAAAAAAAAAAAAAAAAAAAAAAAAAAAAAAAAAAAAAAAAAAAAAAAAAAAAAAAAAAAAAAAAAAAAAAAAAAAAAAAAAAAAAAAAAAAAAAAAAAAAAAAAAAAAAAAAAAAAAAAAAAAAAAAAAAAAAAAAAAAAAAAAAAAAAAAAAAAAAAAAAAAAAAAAAAAAAAAAAAAAAAAAAAAAAAAAAAAAAAAAAAAAAAAAAAAAAAAAAAAAAAAAAAAAAAAAAAAAAAAAAAAAAAAAAAAAAAAAAAAAAAAAAAAAAAAAAAAAAAAAAAAAAAAAAAAAAAAAAAAAAAAAAAAAAAAAAAAAAAAAAAAAAAAAAAAAAAAAAAAAAAAAAAAAAAAAAAAAAAAAAAAAAAAAAAAAAAAAAAAAAAAAAAAAAAAAAAAAAAAAAAAAAAAAAAAAAAAAAAAAAAAAAAAAAAAAAAAAAAAAAAAAAAAAAAAAAAAAAAAAAAAAAAAAAAAAAAAAAAAAAAAAAAAAAAAAAAAAAAAAAAAAAAAAAAAAAAAAAAAAAAAAAAAAAAAAAAAAAAAAAAAAAAAAAAAAAAAAAAAAAAAAAAAAAAAAAAAAAAAAAAAAAAAAAAAAAAAAAAAAAAAAAAAAAAAAAAAAAAAAAAAAAAAAAAAAAAAAAAAAAAAAAAAAAAAAAAAAAAAAAAAAAAAAAAAAAAAAAAAAAAAAAAAAAAAAAAAAAAAAAAAAAAAAAAAAAAAAAAAAAAAAAAAAAAAAAAAAAAAAAAAAAAAAAAAAAAAAAAAAAAAAAAAAAAAAAAAAAAAAAAAAAAAAAAAAAAAAAAAAAAAAAAAAAAAAAAAAAAAAAAAAAAAAAAAAAAAAAAAAAAAAAAAAAAAAAAAAAAAAAAAAAAAAAAAAAAAAAAAAAAAAAAAAAAAAAAAAAAAAAAAAAAAAAAAAAAAAAAAAAAAAAAAAAAAAAAAAAAAAAAAAAAAAAAAAAAAAAAAAAAAAAAAAAAAAAAAAAAAAAAAAAAAAAAAAAAAAAAAAAAAAAAAAAAAAAAAAAAAAAAAAAAAAAAAAAAAAAAAAAAAAAAAAAAAAAAAAAAAAAAAAAAAAAAAAAAAAAAAAAAAAAAAAAAAAAAAAAAAAAAAAAAAAAAAAAAAAAAAAAAAAAAAAAAAAAAAAAAAAAAAAAAAAAAAAAAAAAAAAAAAAAAAAAAAAAAAAAAAAAAAAAAAAAAAAAAAAAAAAAAAAAAAAAAAAAAAAAAAAAAAAAAAAAAAAAAAAAAAAAAAAAAAAAAAAAAAAAAAAAAAAAAAAAAAAAAAAAAAAAAAAAAAAAAAAAAAAAAAAAAAAAAAAAAAAAAAAAAAAAAAAAAAAAAAAAAAAAAAAAAAAAAAAAAAAAAAAAAAAAAAAAAAAAAAAAAAAAAAAAAAAAAAAAAAAAAAAAAAAAAAAAAAAAAAAAAAAAAAAAAAAAAAAAAAAAAAAAAAAAAAAAAAAAAAAAAAAAAAAAAAAAAAAAAAAAAAAAAAAAAAAAAAAAAAAAAAAAAAAAAAAAAAAAAAAAAAAAAAAAAAAAAAAAAAAAAAAAAAAAAAAAAAAAAAAAAAAAAAAAAAAAAAAAAAAAAAAAAAAAAAAAAAAAAAAAAAAAAAAAAAAAAAAAAAAAAAAAAAAAAAAAAAAAAAAAAAAAAAAAAAAAAAAAAAAAAAAAAAAAAAAAAAAAAAAAAAAAAAAAAAAAAAAAAAAAAAAAAAAAAAAAAAAAAAAAAAAAAAAAAAAAAAAAAAAAAAAAAAAAAAAAAAAAAAAAAAAAAAAAAAAAAAAAAAAAAAAAAAAAAAAAAAAAAAAAAAAAAAAAAAAAAAAAAAAAAAAAAAAAAAAAAAAAAAAAAAAAAAAAAAAAAAAAAAAAAAAAAAAAAAAAAAAAAAAAAAAAAAAAAAAAAAAAAAAAAAAAAAAAAAAAAAAAAAAAAAAAAAAAAAAAAAAAAAAAAAAAAAAAAAAAAAAAAAAAAAAAAAAAAAAAAAAAAAAAAAAAAAAAAAAAAAAAAAAAAAAAAAAAAAAAAAAAAAAAAAAAAAAAAAAAAAAAAAAAAAAAAAAAAAAAAAAAAAAAAAAAAAAAAAAAAAAAAAAAAAAAAAAAAAAAAAAAAAAAAAAAAAAAAAAAAAAAAAAAAAAAAAAAAAAAAAAAAAAAAAAAAAAAAAAAAAAAAAAAAAAAAAAAAAAAAAAAAAAAAAAAAAAAAAAAAAAAAAAAAAAAAAAAAAAAAAAAAAAAAAAAAAAAAAAAAAAAAAAAAAAAAAAAAAAAAAAAAAAAAAAAAAAAAAAAAAAAAAAAAAAAAAAAAAAAAAAAAAAAAAAAAAAAAAAAAAAAAAGJvc3N1YQAAAAHqHAAHAAAIDAAACGQAAAAAHOoAAAAIAAAAAAAAAAAAAAAAAAAAAAAAAAAAAAAAAAAAAAAAAAAAAAAAAAAAAAAAAAAAAAAAAAAAAAAAAAAAAAAAAAAAAAAAAAAAAAAAAAAAAAAAAAAAAAAAAAAAAAAAAAAAAAAAAAAAAAAAAAAAAAAAAAAAAAAAAAAAAAAAAAAAAAAAAAAAAAAAAAAAAAAAAAAAAAAAAAAAAAAAAAAAAAAAAAAAAAAAAAAAAAAAAAAAAAAAAAAAAAAAAAAAAAAAAAAAAAAAAAAAAAAAAAAAAAAAAAAAAAAAAAAAAAAAAAAAAAAAAAAAAAAAAAAAAAAAAAAAAAAAAAAAAAAAAAAAAAAAAAAAAAAAAAAAAAAAAAAAAAAAAAAAAAAAAAAAAAAAAAAAAAAAAAAAAAAAAAAAAAAAAAAAAAAAAAAAAAAAAAAAAAAAAAAAAAAAAAAAAAAAAAAAAAAAAAAAAAAAAAAAAAAAAAAAAAAAAAAAAAAAAAAAAAAAAAAAAAAAAAAAAAAAAAAAAAAAAAAAAAAAAAAAAAAAAAAAAAAAAAAAAAAAAAAAAAAAAAAAAAAAAAAAAAAAAAAAAAAAAAAAAAAAAAAAAAAAAAAAAAAAAAAAAAAAAAAAAAAAAAAAAAAAAAAAAAAAAAAAAAAAAAAAAAAAAAAAAAAAAAAAAAAAAAAAAAAAAAAAAAAAAAAAAAAAAAAAAAAAAAAAAAAAAAAAAAAAAAAAAAAAAAAAAAAAAAAAAAAAAAAAAAAAAAAAAAAAAAAAAAAAAAAAAAAAAAAAAAAAAAAAAAAAAAAAAAAAAAAAAAAAAAAAAAAAAAAAAAAAAAAAAAAAAAAAAAAAAAAAAAAAAAAAAAAAAAAAAAAAAAAAAAAAAAAAAAAAAAAAAAAAAAAAAAAAAAAAAAAAAAAAAAAAAAAAAAAAAAAAAAAAAAAAAAAAAAAAAAAAAAAAAAAAAAAAAAAAAAAAAAAAAAAAAAAAAAAAAAAAAAAAAAAAAAAAAAAAAAAAAAAAAAAAAAAAAAAAAAAAAAAAAAAAAAAAAAAAAAAAAAAAAAAAAAAAAAAAAAAAAAAAAAAAAAAAAAAAAAAAAAAAAAAAAAAAAAAAAAAAAAAAAAAAAAAAAAAAAAAAAAAAAAAAAAAAAAAAAAAAAAAAAAAAAAAAAAAAAAAAAAAAAAAAAAAAAAAAAAAAAAAAAAAAAAAAAAAAAAAAAAAAAAAAAAAAAAAAAAAAAAAAAAAAAAAAAAAAAAAAAAAAAAAAAAAAAAAAAAAAAAAAAAAAAAAAAAAAAAAAAAAAAAAAAAAAAAAAAAAAAAAAAAAAAAAAAAAAAAAAAAAAAAAAAAAAAAAAAAAAAAAAAAAAAAAAAAAAAAAAAAAAAAAAAAAAAAAAAAAAAAAAAAAAAAAAAAAAAAAAAAAAAAAAAAAAAAAAAAAAAAAAAAAAAAAAAAAAAAAAAAAAAAAAAAAAAAAAAAAAAAAAAAAAAAAAAAAAAAAAAAAAAAAAAAAAAAAAAAAAAAAAAAAAAAAAAAAAAAAAAAAAAAAAAAAAAAAAAAAAAAAAAAAAAAAAAAAAAAAAAAAAAAAAAAAAAAAAAAAAAAAAAAAAAAAAAAAAAAAAAAAAAAAAAAAAAAAAAAAAAAAAAAAAAAAAAAAAAAAAAAAAAAAAAAAAAAAAAAAAAAAAAAAAAAAAAAAAAAAAAAAAAAAAAAAAAAAAAAAAAAAAAAAAAAAAAAAAAAAAAAAAAAAAAAAAAAAAAAAAAAAAAAAAAAAAAAAAAAAAAAAAAAAAAAAAAAAAAAAAAAAAAAAAAAAAAAAAAAAAAAAAAAAAAAAAAAAAAAAAAAAAAAAAAAAAAAAAAAAAAAAAAAAAAAAAAAAAAAAAAAAAAAAAAAAAAAAAAAAAAAAAAAAAAAAAAAAAAAAAAAAAAAAAAAAAAAAAAAAAAAAAAAAAAAAAAAAAAAAAAAAAAAAAAAAAAAAAAAAAAAAAAAAAAAAAAAAAAAAAAAAAAAAAAAAAAAAAAAAAAAAAAAAAAAAAAAAAAAAAAAAAAAAAAAAAAAAAAAAAAAAAAAAAAAAAAAAAAAAAAAAAAAAAAAAAAAAAAAAAAAAAAAAAAAAAAAAAAAAAAAAAAAAAAAAAAAAAAAAAAAAAAAAAAAAAAAAAAAAAAAAAAAAAAAAAAAAAAAAAAAAAAAAAAAAAAAAAAAAAAAAAAAAAAAAAAAAAAAAAAAAAAAAAAAAAAAAAAAAAAAAAAAAAAAAAAAAAAAAAAAAAAAAAAAAAAAAAAAAAAAAAAAAAAAAAAAAAAAAAAAAAAAAAAAAAAAAAAAAAAAAAAAAAAAAAAAAAAAAAAAAAAAAAAAAAAAAAAAAAAAAAAAAAAAAAAAAAAAAAAAAAAAAAAAAAAAAAAAAAAAAAAAAAAAAAAAAAAAAAAAAAAAAAAAAAAAAAAAAAAAAAAAAAAAAAAAAAAAAAAAAAAAAAAAAAAAAAAAAAAAAAAAAAAAAAAAAAAAAAAAAAAAAAAAAAAAAAAAAAAAAAAAAAAAAAAAAAAAAAAAAAAAAAAAAAAAAAAAAAAAAAAAAAAAAAAAAAAAAAAAAAAAAAAAAAAAAAAAAAAAAAAAAAAAAAAAAAAAAAAAAAAAAAAAAAAAAAAAAAAAAAAAAAAAAAAAAAAAAAAAAAAAAAAAAAAAAAAAAAAAAAAAAAAAAAAAAAAAAAAAAAAAAAAAAAAAAAAAAAAAAAAAAAAAAAAAAAAAAAAAAAAAAAAAAAAAAAAAAAAAAAAGIAbwBzAHMAdQBhAAAA/+EKX2h0dHA6Ly9ucy5hZG9iZS5jb20veGFwLzEuMC8APD94cGFja2V0IGJlZ2luPSfvu78nIGlkPSdXNU0wTXBDZWhpSHpyZVN6TlRjemtjOWQnPz4NCjx4OnhtcG1ldGEgeG1sbnM6eD0iYWRvYmU6bnM6bWV0YS8iPjxyZGY6UkRGIHhtbG5zOnJkZj0iaHR0cDovL3d3dy53My5vcmcvMTk5OS8wMi8yMi1yZGYtc3ludGF4LW5zIyI+PHJkZjpEZXNjcmlwdGlvbiByZGY6YWJvdXQ9InV1aWQ6ZmFmNWJkZDUtYmEzZC0xMWRhLWFkMzEtZDMzZDc1MTgyZjFiIiB4bWxuczpkYz0iaHR0cDovL3B1cmwub3JnL2RjL2VsZW1lbnRzLzEuMS8iLz48cmRmOkRlc2NyaXB0aW9uIHJkZjphYm91dD0idXVpZDpmYWY1YmRkNS1iYTNkLTExZGEtYWQzMS1kMzNkNzUxODJmMWIiIHhtbG5zOmRjPSJodHRwOi8vcHVybC5vcmcvZGMvZWxlbWVudHMvMS4xLyI+PGRjOmNyZWF0b3I+PHJkZjpTZXEgeG1sbnM6cmRmPSJodHRwOi8vd3d3LnczLm9yZy8xOTk5LzAyLzIyLXJkZi1zeW50YXgtbnMjIj48cmRmOmxpPmJvc3N1YTwvcmRmOmxpPjwvcmRmOlNlcT4NCgkJCTwvZGM6Y3JlYXRvcj48L3JkZjpEZXNjcmlwdGlvbj48L3JkZjpSREY+PC94OnhtcG1ldGE+DQogICAgICAgICAgICAgICAgICAgICAgICAgICAgICAgICAgICAgICAgICAgICAgICAgICAgICAgICAgICAgICAgICAgICAgICAgICAgICAgICAgICAgICAgICAgICAgICAgICAgCiAgICAgICAgICAgICAgICAgICAgICAgICAgICAgICAgICAgICAgICAgICAgICAgICAgICAgICAgICAgICAgICAgICAgICAgICAgICAgICAgICAgICAgICAgICAgICAgICAgICAKICAgICAgICAgICAgICAgICAgICAgICAgICAgICAgICAgICAgICAgICAgICAgICAgICAgICAgICAgICAgICAgICAgICAgICAgICAgICAgICAgICAgICAgICAgICAgICAgICAgIAogICAgICAgICAgICAgICAgICAgICAgICAgICAgICAgICAgICAgICAgICAgICAgICAgICAgICAgICAgICAgICAgICAgICAgICAgICAgICAgICAgICAgICAgICAgICAgICAgICAgCiAgICAgICAgICAgICAgICAgICAgICAgICAgICAgICAgICAgICAgICAgICAgICAgICAgICAgICAgICAgICAgICAgICAgICAgICAgICAgICAgICAgICAgICAgICAgICAgICAgICAKICAgICAgICAgICAgICAgICAgICAgICAgICAgICAgICAgICAgICAgICAgICAgICAgICAgICAgICAgICAgICAgICAgICAgICAgICAgICAgICAgICAgICAgICAgICAgICAgICAgIAogICAgICAgICAgICAgICAgICAgICAgICAgICAgICAgICAgICAgICAgICAgICAgICAgICAgICAgICAgICAgICAgICAgICAgICAgICAgICAgICAgICAgICAgICAgICAgICAgICAgCiAgICAgICAgICAgICAgICAgICAgICAgICAgICAgICAgICAgICAgICAgICAgICAgICAgICAgICAgICAgICAgICAgICAgICAgICAgICAgICAgICAgICAgICAgICAgICAgICAgICAKICAgICAgICAgICAgICAgICAgICAgICAgICAgICAgICAgICAgICAgICAgICAgICAgICAgICAgICAgICAgICAgICAgICAgICAgICAgICAgICAgICAgICAgICAgICAgICAgICAgIAogICAgICAgICAgICAgICAgICAgICAgICAgICAgICAgICAgICAgICAgICAgICAgICAgICAgICAgICAgICAgICAgICAgICAgICAgICAgICAgICAgICAgICAgICAgICAgICAgICAgCiAgICAgICAgICAgICAgICAgICAgICAgICAgICAgICAgICAgICAgICAgICAgICAgICAgICAgICAgICAgICAgICAgICAgICAgICAgICAgICAgICAgICAgICAgICAgICAgICAgICAKICAgICAgICAgICAgICAgICAgICAgICAgICAgICAgICAgICAgICAgICAgICAgICAgICAgICAgICAgICAgICAgICAgICAgICAgICAgICAgICAgICAgICAgICAgICAgICAgICAgIAogICAgICAgICAgICAgICAgICAgICAgICAgICAgICAgICAgICAgICAgICAgICAgICAgICAgICAgICAgICAgICAgICAgICAgICAgICAgICAgICAgICAgICAgICAgICAgICAgICAgCiAgICAgICAgICAgICAgICAgICAgICAgICAgICAgICAgICAgICAgICAgICAgICAgICAgICAgICAgICAgICAgICAgICAgICAgICAgICAgICAgICAgICAgICAgICAgICAgICAgICAKICAgICAgICAgICAgICAgICAgICAgICAgICAgICAgICAgICAgICAgICAgICAgICAgICAgICAgICAgICAgICAgICAgICAgICAgICAgICAgICAgICAgICAgICAgICAgICAgICAgIAogICAgICAgICAgICAgICAgICAgICAgICAgICAgICAgICAgICAgICAgICAgICAgICAgICAgICAgICAgICAgICAgICAgICAgICAgICAgICAgICAgICAgICAgICAgICAgICAgICAgCiAgICAgICAgICAgICAgICAgICAgICAgICAgICAgICAgICAgICAgICAgICAgICAgICAgICAgICAgICAgICAgICAgICAgICAgICAgICAgICAgICAgICAgICAgICAgICAgICAgICAKICAgICAgICAgICAgICAgICAgICAgICAgICAgICAgICAgICAgICAgICAgICAgICAgICAgICAgICAgICAgICAgICAgICAgICAgICAgICAgICAgICAgICAgICAgICAgICAgICAgIAogICAgICAgICAgICAgICAgICAgICAgICAgICAgICAgICAgICAgICAgICAgICAgICAgICAgICAgICAgICAgICAgICAgICAgICAgICAgICAgICAgICAgICAgICAgICAgICAgICAgCiAgICAgICAgICAgICAgICAgICAgICAgICAgICAgICAgICAgICAgICAgICAgICAgICAgICAgICAgICAgICAgICAgICAgICAgICAgICAgICAgICAgICAgICAgICAgICAgICAgICAKICAgICAgICAgICAgICAgICAgICAgICAgICAgIDw/eHBhY2tldCBlbmQ9J3cnPz7/2wBDAAcFBQYFBAcGBQYIBwcIChELCgkJChUPEAwRGBUaGRgVGBcbHichGx0lHRcYIi4iJSgpKywrGiAvMy8qMicqKyr/2wBDAQcICAoJChQLCxQqHBgcKioqKioqKioqKioqKioqKioqKioqKioqKioqKioqKioqKioqKioqKioqKioqKioqKir/wAARCADHAPgDASIAAhEBAxEB/8QAHwAAAQUBAQEBAQEAAAAAAAAAAAECAwQFBgcICQoL/8QAtRAAAgEDAwIEAwUFBAQAAAF9AQIDAAQRBRIhMUEGE1FhByJxFDKBkaEII0KxwRVS0fAkM2JyggkKFhcYGRolJicoKSo0NTY3ODk6Q0RFRkdISUpTVFVWV1hZWmNkZWZnaGlqc3R1dnd4eXqDhIWGh4iJipKTlJWWl5iZmqKjpKWmp6ipqrKztLW2t7i5usLDxMXGx8jJytLT1NXW19jZ2uHi4+Tl5ufo6erx8vP09fb3+Pn6/8QAHwEAAwEBAQEBAQEBAQAAAAAAAAECAwQFBgcICQoL/8QAtREAAgECBAQDBAcFBAQAAQJ3AAECAxEEBSExBhJBUQdhcRMiMoEIFEKRobHBCSMzUvAVYnLRChYkNOEl8RcYGRomJygpKjU2Nzg5OkNERUZHSElKU1RVVldYWVpjZGVmZ2hpanN0dXZ3eHl6goOEhYaHiImKkpOUlZaXmJmaoqOkpaanqKmqsrO0tba3uLm6wsPExcbHyMnK0tPU1dbX2Nna4uPk5ebn6Onq8vP09fb3+Pn6/9oADAMBAAIRAxEAPwD6RooooAKKKKACiisbxfr8XhfwhqWszsoFpAzqCcbmx8o/E4oA2aK8c+DHjOa7k1XRdT16PW7tIl1CKdJNwCuvzxZ/2W4/Gr2k/FXXrttFvb/w9awaTquoNp6zR3ZaUPlgH24xtO31zQB6rRXlEvxX8QRW95qf/CO2raPYasdPnmF2fMYbwgZU29iecn6U7xR8YLnw74q+wiwsZrJLmKB1F0Wufnx821QVUcj7xBNAHqtFIp3KCO4zS0AFFfMvjzX7sfFLxJa3PiLxTZxW0kYt4dHh82MAxgndyNvNdjYfFq80bwB4XS7uLG91jU4ZHa4vrjyYkVGI+dlB+foMY65oA9pory9fixfalpfhubw/o0F1da1PNbNFJc7UieMckOByvfOOldP4E8V3niix1AarYR2N/pt69ncRwy+YhZcHKkgHHNAHU0UVwHxIvdYu9W0LwroWptpL6w8vn3qKC6RouSq56Mc9aAO/orznQ9O8RfD3T9bk1XxF/wAJFp9tbie2S8dY5lfuGcnAXp1NY2m/Gm9udP8AEjT6bYy3Gj2K3kTWk7vDMDxt3Mo/MZFAHr9FedSePfEsNjpEEmhWI1nXZCbC1F2fLSIIHZ5X28EA9ADWPr3jrU9R0OO3mibSdX03X7WzvorebchDsCNrcZVlPegD12ivJH+N8Q8XtYpbWTacuojTj/pR+1Ft23zBFjGwH3zXrdABRQehr5+07QvFOpaDrvjCy8c6nbXGn312YbKQ74CInOFIJ6EcdKAPoGivItf+MWoaLoOmX0Nhp8pm0yO+mSe5KyOSOVSNAT/wJsD3rYn+Ki2P2i41CwENodDj1a0bflpifvRfUEr09aAPRaK8l8RfGS60K6t7FrHTo76OwS9vYrq8MQG4ZEUXB3Nj1wK9M0TVYdd0Gy1S1BEN5AkyBuoDDOKAL1FFFABRRUc88VrbvPcOI4o1LOx6AetAElFYX/Ca+HP+gvb/AJn/AAo/4TXw5/0F7f8AM/4UAbtc74y8Iw+M9NtdPvblo7OO6SeeEIGFwqnOxs9ial/4TXw5/wBBe3/M/wCFH/Ca+HP+gvb/AJn/AAoAx/8AhV2hWPiTT9Y8N28GiS2okSdLSBVW5jcYKt+POaZb/DS3g0HRNMGoyldI1L7eknljMhyx2n0HzVt/8Jr4c/6C9v8Amf8ACj/hNfDn/QXt/wAz/hQBhyfDO3k8K6lon9oyhL/UzqDS+WMoTIH2genGKztU+Dyahd6gYfEF5a2V9dJetaJEhUTqQdxYjJXj7ua63/hNfDn/AEF7f8z/AIUf8Jr4c/6C9v8Amf8ACgDcRdqKuc4GM0tYX/Ca+HP+gvb/AJn/AAo/4TXw5/0F7f8AM/4UAcdrnwjv9R8V6nrekeNdU0X+0mV5oLQAKSq7RznmrLfB+xt9D0q10rVLi11DTDIU1B40laXzDmTcrDByfyrqP+E18Of9Be3/ADP+FH/Ca+HP+gvb/mf8KAM2HwBFFceHZm1K4mk0SSSTfIoJuGdcEnHTr0FaXhrwxH4bn1eWK5ef+1L57xgygbCwA2j16Uf8Jr4c/wCgvb/mf8KP+E18Of8AQXt/zP8AhQBu1zXjXwVaeNNOgimuriwvLSTzrS9tX2yQP6j29qsf8Jr4c/6C9v8Amf8ACj/hNfDn/QXt/wAz/hQBymn/AAdtItD1q11nXdS1e/1iEQT39zJl1RTlQo5HB596avwiaSLVDqHiO6vLjVNOFhNK8CKFVTlSqrgDA4x+Ndb/AMJr4c/6C9v+Z/wo/wCE18Of9Be3/M/4UAUtd8ER6vp2lLbahPp+paQB9jv4lBZDt2nKnggjqKzR8LrZtHS3n1O4nvpNSi1G7vnUb7mSM5AI6AY4AHQVv/8ACa+HP+gvb/mf8KP+E18Of9Be3/M/4UAYEHwwhtPE8moWWr3Nvp8139tk09Ikw0p5P7zG4KTztrvKwv8AhNfDn/QXt/zP+FH/AAmvhz/oL2/5n/CgDdPIryVvgbNJdXcUnjTWF0i9uXnn0yE7I3DtuZevf6V3v/Ca+HP+gvb/AJn/AAo/4TXw5/0F7f8AM/4UAc3rvwnt9Tv5pdN1i50q2udOXTrm3gjRvMiUEKAzDK8HnHWrGrfC7T9Z0rw1Z3t3If7BKAOqgfaEUAFGHocA1uf8Jr4c/wCgvb/mf8KP+E18Of8AQXt/zP8AhQBjeJ/hymu69/a+m6rNpN3NCLe5aKFJPNjHQDcDtYc8iuwsrVLGxhtYizJCgQM5yTgYyT61kf8ACa+HP+gvb/mf8KP+E18Of9Be3/M/4UAbtFQWd5b6haJdWUqzQSZKOvQ84/pRQBPSN90/SlpH+4fpQBWyfWjLe9YvjDV5dA8FavqtsAZrO0kljz03BeK4vwZeavpXjDS9M1DWrzVota0j7e/2shjDKCMhMAYU7untQB6dk+tG4+tIaKAFy3rRlvWuf8atqH/COGHSEu2uJ54oibNtsioW+Yhv4eO/aszw619DYapplhJeprULqfL1q6+0BA33XDDqpwePUUAdnlvWjLVzvgSe9ufCcD6pdteXQmmSSdhjfiRh07DjpXPaheajLY654mj1S7hfSbx4oLSN/wBy0cZAIZe5bJ57cUAeh5PrRuPrTUbfEr9Nyg/nS0ALlvejLetcBd6BM/jqzs9O1/W/kzeXwa+YpGmfljC9PmOR9AaiF9qK6dB4rOp3ReXUhA1lvzAITL5e0L68Z3dc0AeiZb1o3H1rnvFMlxNdaTpNrdTWa6hcMs08DbZAioWIU9icYzR4UmuUfVdMurqW7GnXflRTTHLshUMAx7kZxmgDodx9aNx9aSigBdx9aMt60lcn471i6sV0nTbH7T5uq3RgzakLJgKWIVjwucdewzQB1uW9aMn1rhNN8S/2PpFzZXNzcHVBd/Z4LXU51LxsVBGZP40A+bPXHFa3gC9mvvCqNeagNQuY7iZJJ9wJOJGA6dBjp7UAdLlvejcfWvPJrvUhYzeKV1S6DR6l5C2YfMHkiXyyuz1PXd1zXoZoANx9aNx9aSs7xDdSWPhvULmCdLeWK3dkmk+6jY4JoA0st60Zb1rzzwVqGptrE1q76oofTxMsGtNl5Js/fQjonqO3HArc8IS6w15rUOv3qXVxFdLtES7Y4gY1OxR6A9z1oA6fLetG4+tcdqiXuueKdTsYtTu9Pi0u0jli+ySbd8rhjl/UDbjHTrW74c1GTV/DOn384xLPArPgY+bHNAG5H/qxRRH/AKsUUAOpG+4fpS0jcqfpQBmanp1vq+lXWnXq77e6iaKRfVWGDXM+FvAX/CPaquoX2s3OrT29qLKzMyKgggBzt4+8emSfSux2N6GjY3oaAG0U7Y3oaNjehoAzNb0n+2LFIo7uaznhlWaGeI8o69Mjow9QetR6JoraZcXN5e3jX2oXZXzp2QINqjhVUdAOfXrWvsb0NGxvQ0AY1lok2m6ENPsNQaFxO0vnmIMcNIXK4PHQkZrPvPBv2m8ukj1OWHTL2cXF3YrGv7x+M4fqAcDIrqdjeho2N6GgBvAXA4A6CinbG9DRsb0NAGXYaOtlrmp6kZ2lfUDH8pXiNUXAA9epNZS+DMXiodTlOkpd/bE0/wAtQBLndjf127ucfrXU7G9DRsb0NAGDqPh+61GMO+qyJdwXZubOdYV/cAjGwj+IYJHPJzVnQtGGj28/mXL3d1dTGe4ncBd7kY4A6AAAAVq7G9DRsb0NADaKdsb0NGxvQ0ANrL17Q11qG2KXD2l3ZzCe2uEUMY3xjoeoIJBFa2xvQ0bG9DQBztn4P07y5312KHWbq5l86aa6gUjdgABV6KABil0fwrF4e0kWOhzR2RN0Z5ZI7dR5ilyxQj6HbntXQ7G9DRsb0NAHLP4M33rL/acw0p7v7a1gI1/1ud2N/XbnnHr3rpyc07Y3oaNjehoAbVPVdMg1nSbnTrssIbhCjFDgj3HvV7Y3oaNjehoAwNK8PXNrqiahq2qyajcQwmCAmJYwiEgkkDqxwMn9Ktw6S1tNqs1tdNHNqDB1fYD5LBAoIHfpnmtTY3oaNjehoA5m/wDC11c3P2q01mW0up7Zba9lSFT9oUfxAH7rcnketbtjZw6dp9vZWo2w28axoCecAYqzsb0NGxvQ0ATx/wCrFFEfEYzxRQA6iiigAoqC9+0/YZ/sOw3Plt5Pmfd344z7Zrzr4WHW4/FvjO08R6odRu4LqDc6grGuY84Rc8AZx+FAHplFFFABRXOeOba+vvDf2PTIZJpLm4ijkWObym8vcC3zZyOB25rntI0uFbHUtBke40R7aZJ70/bnnEsBB5WVjlAduD0xg+uaAPRKK5HwKh/4mMuntcnQ3kX+z/tLs7NgfOyludhPTP16Vg6h5tzpviDxQby5W/0u+eK1WOdhGiRlRsKdDnJzkd6APTKKZE5khRyMFlBxT6ADNFecXPhDTLj4hW1vpz30Ztf9Ov5BfTEZJPloBuwASCSMdBjvUCmZdJt/Fy3d0dRl1QRMonYx+UZ/L8vZnbjA9M5oA9OorlvHun3+raVZ2GnwyTCa8Tz1juTB+7GScsDkDIHTmk8BiC2sL3TY7OazuLK5KXEUl01wNxAIZXbkqQR6UAdVRRRQAUUVxnxB1C7ibRdJso5ZP7VvDDIsUvlEqqFsb+qjjnHOM0AdnRXmtn4ng8LaTdaVcz/YNR+2fZ44r2782KHKhtyyNg7NvODznitr4ZajBf8AhALDqn9pyQXM6STmUOx/etgk+46e1AHYUV55rOnG28R262Oo3l34juLtZgEmYRwW2/5gyZ2hNvHqT0r0OgAoorK8UXRs/CupXC3P2Rkt3KzgElGxwQB70AatFebeCF1Gz12W0ltr3Smn07fHb39ybgTyg8yg5O3GRleDzW74Lh1C2v8AXYNW1KTULhbtSZGG1VzGp2ovZR2FAHWUVxPjvSLu5hn1C3F9fSQxAW1paXPkeQ/JMpORu7ce3vXTaDdi+8PWFyLj7T5lujGbbjecDJx25oA0KKKKACiignHWgArG0nwza6Pr2sarbyyvNq8iSTK5G1Si7Rt/CtfzE/vCjzE/vCgB1FN8xP7wo8xP7woAz9c0S316wW3uXkiaKRZoZomw8Ui/dYfT34rBv/h9FqGkTWkusXwubmZJrm9+QvNs+6hBXbt/2QMV13mJ/eFHmJ/eFAGFY+Hb+1sJLafxHqFyzOjJKyRI0YU52jaoGD0NRXngu0vNRlmN5dR2lxKJrmxRh5U8gxhjxkdBkAgHFdF5if3hR5if3hQA4DAwKKb5if3hR5if3hQBQsdGhsdX1HUUkkeXUGQyBiMLsXaAPasweCrQaoJzeXRsluPta6eWHkrNnO/pnrztzjPaui8xP7wo8xP7woAw9Q8LrqMJ87UrxbiO6N1a3Ksoe2JGNq8YK4yMHPWrmiaHDolvMscstxPcSGa4uJjl5XIxk44HAAwOBWh5i/3qPMT+8KAHUU3zE/vCjzE/vCgB1ZmuaHBrlrHHLJJBNBIJbe4hOHhcdGGePwPBrR8xP7wo8xP7woAytJ8O2umQSiVmvri4k82e5uQGaRsYz0wOABgCm2fhuLTtLSy0+6mtlW6NwzxhQz5cuUPH3TnH0rX8xP7wo8xP7woA5Gz8C3VhrV1qFp4n1JPtdz9omhMcJD/7OSm7bgYxmuwpvmJ/eFHmJ/eFADqralp9vq2mz2F6m+3uEKSKDgkfUdKn8xP7wo8xP7woAxNI8MLpuofbrvUbvUrlIjDDJclf3Uec7QFAB6Dk8mraaMkT6lJBcSxS6gdzOuMxnaFBXj2zzWh5if3hR5if3hQBz174PW7uFuItVvrWd4Ft7qWJlzdIP72RgHk8rg81uWNlBpthBZ2cflwQIEjUdgKl8xP7wo8xP7woAdRQDkZFFABSP9w/SlpH+4fpQBVxSBlbO1g2OuDnFVdWtGv9Gu7RbySxM0LJ9piIDRAjlhnjIrzH4c6VYp48uLjwXFNH4es7Q2t3du7FdRuc/fXPBxzlh60Aes0UGigAJAXLEADqTSKyuMoysPY5rnfHVjNqnhxdOtxaubq5ijeO6m8tJE3ZZfU5A6Dk1l+GtLFnHrPhrT7a10C9jKSm50xSysj9GAfo/wApGDnsaAO3o6dTXNfDyEweDIIfNkmMdxOvmStuZsStyT61yfiLxXZ3vi7S2uLqe3t9P1ZIo7cwSDzGwwaRvlwR2A/GgD1GijIK5HfkUdqAEyN23cN3XGeaXI3YyM9cZ5ryXTPtEkNv4t1TTrc7tTaJ7lZ3F0oMpjXH8O3oCnpTriKXS5Be/wBmTNrX9rIH1hZA0c0bTY2Bs8/KduzHGKAPWaSs/XrC51HSJrW01CXT2cfNNCoL7e4GehPTPaqPgZdngTSF3M222A3Mck/U0Ab1FFFABR7k4FFcb8QZruWXQdJtYUmj1O9MU0crlUZVQsAxHOMjp36UAdiCCu4MCPUHilGGAKkEHoRXktybm2Fv4Ut9Ot42l1fybm3jncWrKYTIuP4lU45T1HvXY+Bo1sf7V0n7JFaS2NwoeK2dmg+ZdwMYblQR1HrQB1ORu25G7rjPNFeS3NvO2uz6+lkos11hQdZEx+0qgcKYxH08vPy9enOK9bNACUDmisnxVcLa+EtTmeaSALbsBJEMspIwMe+TQBrAhvukHnHBzSAhs7SDjg4NeRwW9/4Ys9UV9Pi0OabRmaKKznMqSsCN0rE8q4z+vU11ek6VZ+HfGNhbaNF5MF7p7vcIrEh2UriQg/xHJ570AdizIn33VfTJxS/TkVwPjDw3L4i8TySvp+kalBY2I2QX8pJViST8q8rkDG411fhy9t9R8NafdWUH2eCSBSkP/PMYxt+goA3I/wDViiiP/ViigB1I/wBw/SlpGGVIoAydW02HWdIutNunlSC6iMUjQvsfaeuD2rB8K/D3S/B8sZ0i+1ZoY4zGlrcXzSQqD6J0BrrfKb0/WjyW9P1oAYaKf5Len60eS3p+tAGdq+kWet2H2S/RigYSI6NteNx0dWHRh60zRtEtdEikFs080szb5ri5kMkspxgFmPXitTyW9P1o8lvT9aAMmPQLSHSP7Ot5bmCETGbdFMVfcX3kbh2J7enFWb7TrfUGtWuQ2bWdZ49px84BAz6jmrvlN6D86PJb0/WgBmaAcU/yW9P1o8lvT9aAOeXwdpS6t9tH2nb53n/YzMfs/m/3/L6bs8/XmlTwhpSax9v/ANIYCY3C2rTE26S/89BH0De/rXQeU3oPzo8pvQfnQBStLBLRbkLNcSi4laVvOlL7S3Zc9F9BS6dYQaVpsFjaBhDAuxNxycfWrnkt6frR5Len60AMop/kt6frR5Len60AMqjq+kWmt2Yt70ONrh45YnKSROOjKw6GtHyW9P1o8lvT9aAOfHg/Sv7Jaxb7Q5abzzdtMftHm9pPM67scfTipbXwxZWdiLeCa8VjOtxLcfaD507qf436sO2OmOK2/Kf0H50eU3p+tAHOv4N0qTU2u2N15bTee1kJz9naXOd5j6Zzz9a3yc0/yW9P1o8lvT9aAGVDeWlvf2U1peRLNBMhSSNhwwNWfJb0/WjyW9P1oA5+w8H6ZZCfzWur8zQm3LX05lKxHrGuei0uneEdP00XBhmvZJZofIE01yzyQx9kRv4QK3/Jb0/Wl8p/T9aAOcvvB2m38kUsk19DMkIt5JYLlke5jHRZSPvDr78mtu3t4bS2it7aNYoYlCIijAUDoKn8pvT9aPJb0/WgCaP/AFYooQFUANFADqKKKACq1nqVjqPmfYLyC68ptsnkyh9h9Djoah11rNNAvjqly1rZeQ4nnV9pjTHJz24715l4J02w8OfFp7LTYoYbC+0hH077G+5ZokPMk3rIcjn0oA9cooooAiuLmCzt3nu5o4IYxl5JGCqo9ST0qva61pd7ayXNnqNrPbxf6yWKZWVPqQcCsbx3bfb9Dt7D7Xa2xur2GMG6UsknzZ2Y7k46Vg28WnWceq6T4nFmLXTJYrt57KDyI5w2dqPGudxBHTnPFAHfWl5bX9us9lcRXELdJInDKfxFMfUbKK+Szku4EupBlIGkAdh6heprA8H2E0U2o6o9mNMt9QdGgsAAPLVRjewHAZuuO3Gea4vWree5udf1mGG1Om2uor9olkH+mKYyu7ym/hHTAPv60AeuUU2Ng8asOjAEZpTkKcdccUAQHUbMX4sjdwC7I3CDzBvI9dvWhdQs2vmslu4TdKu4wCQbwPXb1ryfTI71dKt/EmpR2MwbVmSWDySLgsZzGrCXOQRx8uMYGKfcxXVhaxmDT7eSYa2hXW0nUtOWmwUx97cASpB4wKAPWLm5gs7d57uaOCFBlpJGCqo9yaWC4hurdJ7WVJonGUkjYMrD1BFcp4/ie9TR7C1SGS6nvg0S3IzAdilj5g7jHQeuKPh9E9pBrFlciNLqHUGMyQf6lSygjyx/CuO3rmgDr6KKKACmTTRW8LSzyLFGgyzu2Ao9SafXEfET7ZcXnhzTrXyhFe6gUmM6boxiNmXcvfkdO5xQB18eoWctj9siu4HtcbvPWQFMeu7pT7a6t723Weznjnhf7skThlP0IryW7jvUvLbw7HHYhm1sJdXCwlbeXMBdSYs4ByB8oOCQK7LwQps7rW9Mmjt/PtLlfMntk8uOYsgYHy8kIQOCB160AdKb+zF8LI3UP2orvEHmDeV9dvXFWK8vuba2Phe41Yov9rrrvE5GJA4n2hc9cbcDHTFeoDpzQAUE460VieMp47bwXqsk/mbBbMD5Rw3Ixwe3WgDTtNRsr9Xaxu4LlY22uYZA20+hx0NFrf2l9v8AsV1DceWxR/KkDbWHY46GvJ7ix1DQLfUVvks7a4m0FlhOmKVTapG4uO7AHhvrXW2FlZaX430uPR4ooY5tLbz1iAAZVK7GIHU8nmgDq7rULOyeJLy7gt2mbbGJZApc+gz1qxXnviK0b/hMdSnbTrXWY5NPRSssyqbADd85Dfwt6rz8tdN4LluJ/BOkyXrFpmtULMe/HX8qANyiiigAoooJwM0AMmhjuIHhnRZIpFKujDIYHqCKw/Dngfw94Umml0LTktpJuGcszkL/AHQWJwvsOK2/OX3o85fegCSio/OX3o85fegCDU9Ls9YsHs9RgWaB+qnjB7EEcgj1FY1z4A8O3eirpc9nIbYTi4JFw4dpB0YvncT9TXQecvvR5y+9AGJY+CtG0+xmtII7loZpEkcS3ckh3KcrgsxI57VJdeENEvNYGp3FnuuMhmHmMEdh0LIDtYj1IrX85fejzl96AJOlFR+cvvR5y+9AGSvhHRF1w6stkBdF/M++2zfjG/Znbu98ZpY/CejR642rpZj7WW353ttD9N4TO0N74zWr5y+9HnL70AZdz4V0i8s7i2uLYvHcXBuXPmMGWQ/xK2cqfpirelaRZaLZfZdNh8qPJZskszsepZjyT7mrPnL70ecvvQBJRUfnL70ecvvQBJVPVNJstasWs9SgE0LEHGSCpHQgjkEeoqx5y+9HnL70AZS+EtFXQ20n7EDaM29gzsXL/wB/fndu985p0HhbSbbTYrGG2ZYY5luB+8bc0inIZmzljn1NafnL70ecvvQBlN4S0V9c/tdrIG73b8722F/7+zO3d/tYzWzUfnL70ecvvQBJUdxbw3dtJb3MaywyqVdHGQwPUEUecvvR5y+9AGTpnhHRdIWcWdnn7QhjkM0jSnYf4BuJwvsOKTT/AAfoumQ3UVnaFBdIY5GMrM2z+6CTlVGeAOBWv5y+9HnL70AY9/4O0PUltReWZf7LGIkxKw3IP4WwfmX2Oa2kRY41SNQqKAFUDAA9Kb5y+9HnL70ASUUgO4ZFFAC0j/cP0paR/uH6UAVaqxalYz6lPp8N3DJeW6h5oFcF4wehI7Zqv4j1G60nw3fX2nWUl9dwwlobeJctI3YY+teRfCW6aH4pazDdWer/AG2+sYprqa9timJcksTz8q9l+lAHt5ooNFAEF9fWmmWMl5qFxHbW0Qy8sjYVR7mqVl4m0PUNPnv7LVLaa0tziWZZPlTvyaoeOI4rjRrW2uL9bBJr6BfOeLeM7shfQZI6niuVvrm4j1KLSb67XUNPs9WtmlvPLRQVYMfLk2jadrBfzFAHomn6jZaraLdabdRXUDEgSRNuGR2qjfeK9A03U106/wBWtbe8bbiB5MN83Tj3rO0SSCPxt4ka3eFLP/RgSrAJ5xQ7vbP3awNTkewk1/X9P1uJ57a9G7T3tlxIQFURsWG4kjoVwPrQB6PRSIxeJWK7SygkentS0AYP/Cc+F/tws/7dsvtJk8oRGX5i+cbfrmtAa3pZ1Y6WNQtzfAZNv5g3j8KxGhh1vx+YTHH9m0SNZGUKMSTyA7Sf91Rn6mub/cf8IZaY8v8Atb+3l3Zx5vm/aDn3+5+lAHoep6pYaNYteardxWlspAMsrbVBPAFN0vWNO1u0N1pF5FeQBihkibIyO1YnjKO21L+yrR9Vjsc6gMSbBJl1UkJz8qt6bqk8H3lzKuqWNzcJerp935Ed2iKvnDaD823jcM4OKAOjooooADUN3d21havc3s8cEEYy0kjYA/Gpq4z4grcy3vhqCKdba2l1ErPNIoZU/dnacHjO7pnvigDo01/SJNJbVE1G2NivW4Eg2g+mfX2qzZX1pqVml1p9xHcwP92SJtwNcRpTafFc3mn6vNb3EkOpqtpqDQhVnnMeQZAuFLL0zxnjvV7wPJ9jl120vZoJZ4r8GS6iwkU7uoICr0UjgEDPNAHVS3dtbzwwzzxxy3DFYkZsFyBkgDvxU1eZ3l9eyeNtH1DVND1Nbj+0Ght8ohSKHYwwp3ck/eJ/wr000AJSMyojPIwVVGSxOABS1i+Mpkg8Fau80TSx/ZWDIrYyDx17daALmma3pesiT+yr+3u/KOH8pw22rMN1b3EsscE0cjwttlVGyUOM4Poa4Tw5YXFp4sit9Rv7W9luNH8uKbT08ryY1I6gE5Jzw3t0rV8HaZZaHqHiG1sl8qBLtHZnbJYmNSWZj1J6kmgDpbu7trC1e5vZ47eBPvSSNtVfxqbIIBHIIyDXmvxMuru7sb6OfSr6fTLWBZIJrcI0UspIO5iWBwvbjqc16HZTG4sLeVopIS8akxygBl46HFAGhH/qxRRH/qxRQA6kf7h+lLSEZUigCr0qsmnWcWozahFbRJeToscs4X53UdAT6Cr3kH1FHkH1FAEVFS+QfUUeQfUUAVLuzttQtJLW+gjuLeQbXjkXKsPpVaHQdJt9JfTINOtksZM77cRjY2euR3rU8g+oo8g+ooAyovD+kQaYNOh062SzDiQQCMbdwOQceuRmibQNIuNWTU59NtpL6MDbcNGC4x05rV8g+oo8g+ooAizRUvkH1FHkH1FAFSGztre4nnggSOa5YNM6rgyEDAJ9eKrroWlLq51VdPthfkYNyIxv/OtPyD6ijyD6igDLm0HSbizuLWfTraSC5lM00bRgiRz/ABH3461YsrG1020S10+3jt4I/uxxLgCrnkH1FHkH1FAEVFS+QfUUeQfUUARVBe2VrqVo9rf28dzbyDDxSrlT+FXPIPqKPIPqKAMoaBpA0g6UNOtvsB623ljYe+cevvTo9C0qKwhsotPt0tYZBLHCIxtVwchgPXPOa0/IPqKPIPqKAK01tBcSRSTxJI8L742YZKNjGR74JqSpfIPqKPIPqKAIqRkWSNkkUMjDDKwyCPSpvIPqKPIPqKAMvTNC0rRfMOk6fb2ZlOXMKBd1WG0+zdblXtoyt2MXAK/63jHzevHFXPIPqKPIPqKAKT6faSaf9gkto2tNgj8gr8u0dBj0qxjGAOABxUvkH1FHkH1FAGfo99PdahqMMzApbyKsYAxgHP8AhRUeiQSw6vq5kRlVpV2sRgN16fnRWtVJS08vyMqTbjr5/mbVFFFZGoUUUUAFFFFABRRRQAUUUUAFFFFABRRRQAUUUUAFFFFABRRRQAUUUUAFFFFABRRRQAUUUUAFFFFABRRRQB//2Q==)"
      ]
    },
    {
      "cell_type": "code",
      "metadata": {
        "id": "krEolWOZxxid",
        "colab": {
          "resources": {
            "http://localhost:8080/nbextensions/google.colab/files.js": {
              "data": "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",
              "ok": true,
              "headers": [
                [
                  "content-type",
                  "application/javascript"
                ]
              ],
              "status": 200,
              "status_text": ""
            }
          },
          "base_uri": "https://localhost:8080/",
          "height": 73
        },
        "outputId": "a40985fd-70eb-4a09-e40d-7cf72da47dcf"
      },
      "source": [
        "#   5.1. Создайте из таблицы  DataFrame.\n",
        "from google.colab import files\n",
        "uploaded = files.upload()\n"
      ],
      "execution_count": 46,
      "outputs": [
        {
          "output_type": "display_data",
          "data": {
            "text/html": [
              "\n",
              "     <input type=\"file\" id=\"files-ea106627-9b45-4d6a-a547-12721c6d63f9\" name=\"files[]\" multiple disabled\n",
              "        style=\"border:none\" />\n",
              "     <output id=\"result-ea106627-9b45-4d6a-a547-12721c6d63f9\">\n",
              "      Upload widget is only available when the cell has been executed in the\n",
              "      current browser session. Please rerun this cell to enable.\n",
              "      </output>\n",
              "      <script src=\"/nbextensions/google.colab/files.js\"></script> "
            ],
            "text/plain": [
              "<IPython.core.display.HTML object>"
            ]
          },
          "metadata": {
            "tags": []
          }
        },
        {
          "output_type": "stream",
          "text": [
            "Saving abc.csv to abc.csv\n"
          ],
          "name": "stdout"
        }
      ]
    },
    {
      "cell_type": "code",
      "metadata": {
        "colab": {
          "base_uri": "https://localhost:8080/",
          "height": 194
        },
        "id": "8DcUKYMqhAFk",
        "outputId": "1a0af78b-b883-498a-c0f4-894f95c7f2d8"
      },
      "source": [
        "df = pd.read_csv(\"abc.csv\", sep = ',')\n",
        "df"
      ],
      "execution_count": 47,
      "outputs": [
        {
          "output_type": "execute_result",
          "data": {
            "text/html": [
              "<div>\n",
              "<style scoped>\n",
              "    .dataframe tbody tr th:only-of-type {\n",
              "        vertical-align: middle;\n",
              "    }\n",
              "\n",
              "    .dataframe tbody tr th {\n",
              "        vertical-align: top;\n",
              "    }\n",
              "\n",
              "    .dataframe thead th {\n",
              "        text-align: right;\n",
              "    }\n",
              "</style>\n",
              "<table border=\"1\" class=\"dataframe\">\n",
              "  <thead>\n",
              "    <tr style=\"text-align: right;\">\n",
              "      <th></th>\n",
              "      <th>Anna</th>\n",
              "      <th>Ben</th>\n",
              "      <th>Carole</th>\n",
              "      <th>Dave</th>\n",
              "    </tr>\n",
              "  </thead>\n",
              "  <tbody>\n",
              "    <tr>\n",
              "      <th>0</th>\n",
              "      <td>51.0</td>\n",
              "      <td>70.0</td>\n",
              "      <td>64.0</td>\n",
              "      <td>81.0</td>\n",
              "    </tr>\n",
              "    <tr>\n",
              "      <th>1</th>\n",
              "      <td>52.0</td>\n",
              "      <td>70.5</td>\n",
              "      <td>64.2</td>\n",
              "      <td>81.3</td>\n",
              "    </tr>\n",
              "    <tr>\n",
              "      <th>2</th>\n",
              "      <td>51.4</td>\n",
              "      <td>69.1</td>\n",
              "      <td>66.8</td>\n",
              "      <td>80.5</td>\n",
              "    </tr>\n",
              "    <tr>\n",
              "      <th>3</th>\n",
              "      <td>52.8</td>\n",
              "      <td>69.8</td>\n",
              "      <td>66.0</td>\n",
              "      <td>80.9</td>\n",
              "    </tr>\n",
              "    <tr>\n",
              "      <th>4</th>\n",
              "      <td>50.5</td>\n",
              "      <td>70.5</td>\n",
              "      <td>63.4</td>\n",
              "      <td>81.4</td>\n",
              "    </tr>\n",
              "  </tbody>\n",
              "</table>\n",
              "</div>"
            ],
            "text/plain": [
              "   Anna   Ben   Carole   Dave\n",
              "0  51.0  70.0     64.0   81.0\n",
              "1  52.0  70.5     64.2   81.3\n",
              "2  51.4  69.1     66.8   80.5\n",
              "3  52.8  69.8     66.0   80.9\n",
              "4  50.5  70.5     63.4   81.4"
            ]
          },
          "metadata": {
            "tags": []
          },
          "execution_count": 47
        }
      ]
    },
    {
      "cell_type": "code",
      "metadata": {
        "id": "EdtMf1wmyeq5"
      },
      "source": [
        "#  5.2. Преобразуйте этот DataFrame в tidy format.\n",
        "\n"
      ],
      "execution_count": null,
      "outputs": []
    },
    {
      "cell_type": "code",
      "metadata": {
        "id": "7pwQDOGuXpbX",
        "colab": {
          "base_uri": "https://localhost:8080/",
          "height": 204
        },
        "outputId": "d3d993ba-e525-4cb4-8346-87b135377ae2"
      },
      "source": [
        "#  5.3. Определите, у кого из этих четырех человек было меньше всего колебаний по весу.\n",
        "\n",
        "df.melt.groupby('name').agg({'':np.std})"
      ],
      "execution_count": 52,
      "outputs": [
        {
          "output_type": "error",
          "ename": "AttributeError",
          "evalue": "ignored",
          "traceback": [
            "\u001b[0;31m---------------------------------------------------------------------------\u001b[0m",
            "\u001b[0;31mAttributeError\u001b[0m                            Traceback (most recent call last)",
            "\u001b[0;32m<ipython-input-52-b9a9b82cad8a>\u001b[0m in \u001b[0;36m<module>\u001b[0;34m()\u001b[0m\n\u001b[1;32m      1\u001b[0m \u001b[0;31m#  5.3. Определите, у кого из этих четырех человек было меньше всего колебаний по весу.\u001b[0m\u001b[0;34m\u001b[0m\u001b[0;34m\u001b[0m\u001b[0;34m\u001b[0m\u001b[0m\n\u001b[1;32m      2\u001b[0m \u001b[0;34m\u001b[0m\u001b[0m\n\u001b[0;32m----> 3\u001b[0;31m \u001b[0mdf\u001b[0m\u001b[0;34m.\u001b[0m\u001b[0mmelt\u001b[0m\u001b[0;34m.\u001b[0m\u001b[0mgroupby\u001b[0m\u001b[0;34m(\u001b[0m\u001b[0;34m'name'\u001b[0m\u001b[0;34m)\u001b[0m\u001b[0;34m.\u001b[0m\u001b[0magg\u001b[0m\u001b[0;34m(\u001b[0m\u001b[0;34m{\u001b[0m\u001b[0;34m''\u001b[0m\u001b[0;34m:\u001b[0m\u001b[0mnp\u001b[0m\u001b[0;34m.\u001b[0m\u001b[0mstd\u001b[0m\u001b[0;34m}\u001b[0m\u001b[0;34m)\u001b[0m\u001b[0;34m\u001b[0m\u001b[0;34m\u001b[0m\u001b[0m\n\u001b[0m",
            "\u001b[0;31mAttributeError\u001b[0m: 'function' object has no attribute 'groupby'"
          ]
        }
      ]
    },
    {
      "cell_type": "code",
      "metadata": {
        "id": "xEvNXRrNXpwJ",
        "colab": {
          "base_uri": "https://localhost:8080/"
        },
        "outputId": "b0b14e6c-261b-4e81-ac2d-c58fd75ec089"
      },
      "source": [
        "#  5.4. Для людей, чей средний вес менее 65 кг, пересчитайте их\n",
        "#  вес (за все четыре дня) в фунтах и отобразить эти данные.\n",
        "\n",
        "a =df['Anna'].mean()\n",
        "print(a)\n",
        "print(b)\n",
        "print(c)\n",
        "print(d)\n",
        "b =df[' Ben'].mean()\n",
        "c =df[' Carole'].mean()\n",
        "d =df[' Dave'].mean()\n",
        "list = [a,b,c,d]\n",
        "for i in list:\n",
        "  if i < 65:\n",
        "    print(\"____________________\")\n",
        "    print(i)\n",
        "\n",
        "e =df['Anna'].sum()\n",
        "f =df[' Carole'].sum()\n",
        "print(e,f)"
      ],
      "execution_count": 80,
      "outputs": [
        {
          "output_type": "stream",
          "text": [
            "51.54\n",
            "69.97999999999999\n",
            "64.88\n",
            "81.02000000000001\n",
            "____________________\n",
            "51.54\n",
            "____________________\n",
            "64.88\n",
            "257.7 324.4\n"
          ],
          "name": "stdout"
        }
      ]
    },
    {
      "cell_type": "code",
      "metadata": {
        "id": "r0Ewm5tFlELx"
      },
      "source": [
        "df[' Ben']"
      ],
      "execution_count": null,
      "outputs": []
    }
  ]
}